{
 "cells": [
  {
   "cell_type": "markdown",
   "id": "bee6d04b",
   "metadata": {},
   "source": [
    "# Classificazione e Sentiment analysis su post provenienti da Reddit"
   ]
  },
  {
   "cell_type": "markdown",
   "id": "9dfcdc3e",
   "metadata": {},
   "source": [
    "**Studente:** Rosario Cannavò\n",
    "<br>\n",
    "**Matricola:** 1000004011\n",
    "<br>\n",
    "**A.A:** 2021/2022"
   ]
  },
  {
   "cell_type": "markdown",
   "id": "35416eaf",
   "metadata": {},
   "source": [
    "## 1. Introduzione"
   ]
  },
  {
   "cell_type": "markdown",
   "id": "48aa2d28",
   "metadata": {},
   "source": [
    "Come già noto, Reddit è un social network caratterizzato da una struttura simile ai primissimi forum che popolavano internet fino a qualche anno fa e fornivano un pensiero attuale sui vari topic che affrontavano. Riprendendo questo concetto si vuole addestrare un algoritmo di machine learning che opportunamente addestrato e ottimizzato riesca a classificare la categoria di un post. Successivamente si vuole anche predirre il linguaggio di cui si sta parlando tramite l'uso dello stesso algoritmo ma addestrato diversamente per portare a termine questa tipologia di task. Nello specifico, verranno allenate  due istanze dell'algoritmo su post che provengono da vari subreddit che trattano di linguaggi di programmazione e da altri il cui argomento di interesse è diverso dal mondo della programmazione e dell'informatica in generale. In questo modo alla fine del training i due algoritmi saranno in grado di classificare correttamente i post. \n",
    "L'algoritmo utilizzato sarà il K-Nearest Neighbour e delle sue ottimizzazioni. I punti su cui lavorerà l'algoritmo saranno i vettori bag of words opportunamente estrapolati dai post di esempio. \n",
    "Dopo aver effettuato la classificazione, una seconda parte del progetto consisterà nel calcolare il sentiment dei post che parlano di programmazione per osservare di quali linguaggi si parla positivamente e di quali negativamente. Per fare ciò verrà utilizzato l'algoritmo VADER e in conclusione verrà calcolata la media delle valutazioni per ogni linguaggio, in questo modo sarà possibile capire se generalmente gli utenti di Reddit utilizzano il social network per esporre difetti e lamentele dei vari linguaggi o per elogiarne le funzionalità e le potenzialità, potremo inoltre capire quale linguaggio è maggiormente supportato dai suoi utenti.  "
   ]
  },
  {
   "cell_type": "markdown",
   "id": "e8c79149",
   "metadata": {},
   "source": [
    "Per accedere ai contenuti dei vari subreddit utilizzeremo le API di Reddit fornite dal wrapper Praw. Come citato nel tutorial ([Tutorial Reddit](https://github.com/rosariocannavo/TutorialSocialMediaManagement)), per avere accesso sarà necessario registrarsi a Reddit come programmatori e riscattare i token di identificazione."
   ]
  },
  {
   "cell_type": "code",
   "execution_count": 1,
   "id": "97eea800",
   "metadata": {
    "scrolled": true
   },
   "outputs": [],
   "source": [
    "import praw \n",
    "reddit = praw.Reddit(client_id = 'tvHkTZ-wanEENSM1GSdQ5w',\n",
    "                     client_secret = 'kw-wzX7cNVvYYi8VBCjxjQp5C2Pn9Q',\n",
    "                     username = 'tutorialSocialMedia',\n",
    "                     password = 'password123',\n",
    "                     user_agent = 'tutorialpython'\n",
    "                    )"
   ]
  },
  {
   "cell_type": "markdown",
   "id": "5f0c6472",
   "metadata": {},
   "source": [
    "## 2. Estrazione dei dati e creazione del dataset"
   ]
  },
  {
   "cell_type": "markdown",
   "id": "6a29c5be",
   "metadata": {},
   "source": [
    "Dopo aver ottenuto l'oggetto **reddit**, potremo esplorare i vari subreddit del social network utilizzando i metodi del wrapper. Nelle prossime righe sarà effettuata l'estrapolazione dei post più recenti in modo da costruire un dataset di partenza su cui addestrare e testare gli algoritmi che saranno utilizzati.\n",
    "E' importante notare che il numero di post ritornati dal metodo \"hot\" non è fisso, per tale motivo è stabilito un limite superiore (posto a 5000) per evitare di appesantire e rallentare eccessivamente l'algoritmo.\n",
    "\n",
    "I post sono nello specifico ottenuti dai subreddit: \"Python\", \"C++\", \"Sushi\", \"Guitar\", \"Kotlin\", \"nba\",\"news\", \"Europe\", \"Angular\", \"Motorcycles\",\"PHP\", \"Damnthatsinteresting\", \"Golang\" e \"AskReddit\".\n",
    "Inoltre, conoscendo la provenienza dei post durante la fase di costruzione del dataset, è stato assegnato ad ognuno di essi, la classe di appartenenza \"reale\". Le possibili classi sono \"**programming**\" e \"**non programming**\", ad indicare la natura del post. Allo stesso modo saremo in grado di assegnare ad ogni osservazione il linguaggio di cui tratta. "
   ]
  },
  {
   "cell_type": "code",
   "execution_count": 2,
   "id": "a1d2b9f8",
   "metadata": {},
   "outputs": [],
   "source": [
    "subred = reddit.subreddit(\"Python\")"
   ]
  },
  {
   "cell_type": "code",
   "execution_count": 3,
   "id": "8fce31c5",
   "metadata": {},
   "outputs": [],
   "source": [
    "import pandas as pd\n",
    "df1 = []\n",
    "for post in subred.hot(limit=5000):\n",
    "    df1.append([post.title[:40], post.selftext, \"programming\", \"Python\"])\n",
    "df1 = pd.DataFrame(df1, columns=[\"title\",\"text\",\"class\", \"language\"])"
   ]
  },
  {
   "cell_type": "code",
   "execution_count": 4,
   "id": "6cd2abfa",
   "metadata": {},
   "outputs": [
    {
     "data": {
      "text/html": [
       "<div>\n",
       "<style scoped>\n",
       "    .dataframe tbody tr th:only-of-type {\n",
       "        vertical-align: middle;\n",
       "    }\n",
       "\n",
       "    .dataframe tbody tr th {\n",
       "        vertical-align: top;\n",
       "    }\n",
       "\n",
       "    .dataframe thead th {\n",
       "        text-align: right;\n",
       "    }\n",
       "</style>\n",
       "<table border=\"1\" class=\"dataframe\">\n",
       "  <thead>\n",
       "    <tr style=\"text-align: right;\">\n",
       "      <th></th>\n",
       "      <th>title</th>\n",
       "      <th>text</th>\n",
       "      <th>class</th>\n",
       "      <th>language</th>\n",
       "    </tr>\n",
       "  </thead>\n",
       "  <tbody>\n",
       "    <tr>\n",
       "      <th>0</th>\n",
       "      <td>Sunday Daily Thread: What's everyone wor</td>\n",
       "      <td>Tell /r/python what you're working on this wee...</td>\n",
       "      <td>programming</td>\n",
       "      <td>Python</td>\n",
       "    </tr>\n",
       "    <tr>\n",
       "      <th>1</th>\n",
       "      <td>Tuesday Daily Thread: Advanced questions</td>\n",
       "      <td>Have some burning questions on advanced Python...</td>\n",
       "      <td>programming</td>\n",
       "      <td>Python</td>\n",
       "    </tr>\n",
       "    <tr>\n",
       "      <th>2</th>\n",
       "      <td>I made a CLI-version of Wordle in Python</td>\n",
       "      <td>Hopefully I am not too late to the party! I am...</td>\n",
       "      <td>programming</td>\n",
       "      <td>Python</td>\n",
       "    </tr>\n",
       "    <tr>\n",
       "      <th>3</th>\n",
       "      <td>High Performance subset of python</td>\n",
       "      <td>Python is the slowest* of the major languages....</td>\n",
       "      <td>programming</td>\n",
       "      <td>Python</td>\n",
       "    </tr>\n",
       "    <tr>\n",
       "      <th>4</th>\n",
       "      <td>I created a fun Python project using ML</td>\n",
       "      <td></td>\n",
       "      <td>programming</td>\n",
       "      <td>Python</td>\n",
       "    </tr>\n",
       "  </tbody>\n",
       "</table>\n",
       "</div>"
      ],
      "text/plain": [
       "                                      title  \\\n",
       "0  Sunday Daily Thread: What's everyone wor   \n",
       "1  Tuesday Daily Thread: Advanced questions   \n",
       "2  I made a CLI-version of Wordle in Python   \n",
       "3         High Performance subset of python   \n",
       "4  I created a fun Python project using ML    \n",
       "\n",
       "                                                text        class language  \n",
       "0  Tell /r/python what you're working on this wee...  programming   Python  \n",
       "1  Have some burning questions on advanced Python...  programming   Python  \n",
       "2  Hopefully I am not too late to the party! I am...  programming   Python  \n",
       "3  Python is the slowest* of the major languages....  programming   Python  \n",
       "4                                                     programming   Python  "
      ]
     },
     "execution_count": 4,
     "metadata": {},
     "output_type": "execute_result"
    }
   ],
   "source": [
    "df1.head()"
   ]
  },
  {
   "cell_type": "markdown",
   "id": "17b63128",
   "metadata": {},
   "source": [
    "Prendiamo adesso dei post da un altro subreddit che parla di programmazione, ad esempio il subreddit di C++:"
   ]
  },
  {
   "cell_type": "code",
   "execution_count": 5,
   "id": "f464177d",
   "metadata": {},
   "outputs": [],
   "source": [
    "subred = reddit.subreddit(\"cpp\")  "
   ]
  },
  {
   "cell_type": "code",
   "execution_count": 6,
   "id": "88a5e41f",
   "metadata": {},
   "outputs": [],
   "source": [
    "df2 = []\n",
    "for post in subred.hot(limit=5000):\n",
    "    df2.append([post.title[:40], post.selftext, \"programming\", \"C++\"])\n",
    "df2 = pd.DataFrame(df2, columns=[\"title\",\"text\",\"class\", \"language\"])"
   ]
  },
  {
   "cell_type": "code",
   "execution_count": 7,
   "id": "0e6a48ae",
   "metadata": {},
   "outputs": [
    {
     "data": {
      "text/html": [
       "<div>\n",
       "<style scoped>\n",
       "    .dataframe tbody tr th:only-of-type {\n",
       "        vertical-align: middle;\n",
       "    }\n",
       "\n",
       "    .dataframe tbody tr th {\n",
       "        vertical-align: top;\n",
       "    }\n",
       "\n",
       "    .dataframe thead th {\n",
       "        text-align: right;\n",
       "    }\n",
       "</style>\n",
       "<table border=\"1\" class=\"dataframe\">\n",
       "  <thead>\n",
       "    <tr style=\"text-align: right;\">\n",
       "      <th></th>\n",
       "      <th>title</th>\n",
       "      <th>text</th>\n",
       "      <th>class</th>\n",
       "      <th>language</th>\n",
       "    </tr>\n",
       "  </thead>\n",
       "  <tbody>\n",
       "    <tr>\n",
       "      <th>0</th>\n",
       "      <td>C++ Jobs - Q1 2022</td>\n",
       "      <td>Rules For Individuals\\n---------------------\\n...</td>\n",
       "      <td>programming</td>\n",
       "      <td>C++</td>\n",
       "    </tr>\n",
       "    <tr>\n",
       "      <th>1</th>\n",
       "      <td>C++ Show and Tell - Experiment</td>\n",
       "      <td>Recently, we've been getting an uptick of \"loo...</td>\n",
       "      <td>programming</td>\n",
       "      <td>C++</td>\n",
       "    </tr>\n",
       "    <tr>\n",
       "      <th>2</th>\n",
       "      <td>C++'s Superpower - Matt Godbolt - CPPP 2</td>\n",
       "      <td></td>\n",
       "      <td>programming</td>\n",
       "      <td>C++</td>\n",
       "    </tr>\n",
       "    <tr>\n",
       "      <th>3</th>\n",
       "      <td>P2300 (Sender/Receiver) is DEAD in the w</td>\n",
       "      <td>\"No consensus. There is sustained strong oppos...</td>\n",
       "      <td>programming</td>\n",
       "      <td>C++</td>\n",
       "    </tr>\n",
       "    <tr>\n",
       "      <th>4</th>\n",
       "      <td>Constant references are not always your</td>\n",
       "      <td></td>\n",
       "      <td>programming</td>\n",
       "      <td>C++</td>\n",
       "    </tr>\n",
       "  </tbody>\n",
       "</table>\n",
       "</div>"
      ],
      "text/plain": [
       "                                      title  \\\n",
       "0                        C++ Jobs - Q1 2022   \n",
       "1            C++ Show and Tell - Experiment   \n",
       "2  C++'s Superpower - Matt Godbolt - CPPP 2   \n",
       "3  P2300 (Sender/Receiver) is DEAD in the w   \n",
       "4  Constant references are not always your    \n",
       "\n",
       "                                                text        class language  \n",
       "0  Rules For Individuals\\n---------------------\\n...  programming      C++  \n",
       "1  Recently, we've been getting an uptick of \"loo...  programming      C++  \n",
       "2                                                     programming      C++  \n",
       "3  \"No consensus. There is sustained strong oppos...  programming      C++  \n",
       "4                                                     programming      C++  "
      ]
     },
     "execution_count": 7,
     "metadata": {},
     "output_type": "execute_result"
    }
   ],
   "source": [
    "df2.head()"
   ]
  },
  {
   "cell_type": "markdown",
   "id": "bc579f70",
   "metadata": {},
   "source": [
    "Prendiamo adesso dei post da un subreddit che parla di sushi:"
   ]
  },
  {
   "cell_type": "code",
   "execution_count": 8,
   "id": "e7b12540",
   "metadata": {},
   "outputs": [],
   "source": [
    "subred = reddit.subreddit(\"sushi\")  \n",
    "\n",
    "df3 = []\n",
    "for post in subred.hot( limit=5000):\n",
    "    df3.append([post.title[:40], post.selftext, \"non programming\", \"Not a language\"])\n",
    "df3 = pd.DataFrame(df3, columns=[\"title\",\"text\",\"class\", \"language\"])"
   ]
  },
  {
   "cell_type": "code",
   "execution_count": 9,
   "id": "1b7fa311",
   "metadata": {},
   "outputs": [
    {
     "data": {
      "text/html": [
       "<div>\n",
       "<style scoped>\n",
       "    .dataframe tbody tr th:only-of-type {\n",
       "        vertical-align: middle;\n",
       "    }\n",
       "\n",
       "    .dataframe tbody tr th {\n",
       "        vertical-align: top;\n",
       "    }\n",
       "\n",
       "    .dataframe thead th {\n",
       "        text-align: right;\n",
       "    }\n",
       "</style>\n",
       "<table border=\"1\" class=\"dataframe\">\n",
       "  <thead>\n",
       "    <tr style=\"text-align: right;\">\n",
       "      <th></th>\n",
       "      <th>title</th>\n",
       "      <th>text</th>\n",
       "      <th>class</th>\n",
       "      <th>language</th>\n",
       "    </tr>\n",
       "  </thead>\n",
       "  <tbody>\n",
       "    <tr>\n",
       "      <th>0</th>\n",
       "      <td>First time making sushi fully by myself!</td>\n",
       "      <td></td>\n",
       "      <td>non programming</td>\n",
       "      <td>Not a language</td>\n",
       "    </tr>\n",
       "    <tr>\n",
       "      <th>1</th>\n",
       "      <td>Made some sushi for dinner.</td>\n",
       "      <td></td>\n",
       "      <td>non programming</td>\n",
       "      <td>Not a language</td>\n",
       "    </tr>\n",
       "    <tr>\n",
       "      <th>2</th>\n",
       "      <td>Epic sushi night!</td>\n",
       "      <td></td>\n",
       "      <td>non programming</td>\n",
       "      <td>Not a language</td>\n",
       "    </tr>\n",
       "    <tr>\n",
       "      <th>3</th>\n",
       "      <td>Hamachi</td>\n",
       "      <td></td>\n",
       "      <td>non programming</td>\n",
       "      <td>Not a language</td>\n",
       "    </tr>\n",
       "    <tr>\n",
       "      <th>4</th>\n",
       "      <td>Just an assortment from heaven</td>\n",
       "      <td></td>\n",
       "      <td>non programming</td>\n",
       "      <td>Not a language</td>\n",
       "    </tr>\n",
       "  </tbody>\n",
       "</table>\n",
       "</div>"
      ],
      "text/plain": [
       "                                      title text            class  \\\n",
       "0  First time making sushi fully by myself!       non programming   \n",
       "1               Made some sushi for dinner.       non programming   \n",
       "2                         Epic sushi night!       non programming   \n",
       "3                                   Hamachi       non programming   \n",
       "4            Just an assortment from heaven       non programming   \n",
       "\n",
       "         language  \n",
       "0  Not a language  \n",
       "1  Not a language  \n",
       "2  Not a language  \n",
       "3  Not a language  \n",
       "4  Not a language  "
      ]
     },
     "execution_count": 9,
     "metadata": {},
     "output_type": "execute_result"
    }
   ],
   "source": [
    "df3.head()"
   ]
  },
  {
   "cell_type": "markdown",
   "id": "bf3246cf",
   "metadata": {},
   "source": [
    "E dei post da un subreddit che parla di chitarre:"
   ]
  },
  {
   "cell_type": "code",
   "execution_count": 10,
   "id": "7b0d8d93",
   "metadata": {},
   "outputs": [],
   "source": [
    "subred = reddit.subreddit(\"Guitar\")  \n",
    "\n",
    "df4 = []\n",
    "for post in subred.hot( limit=5000):\n",
    "    df4.append([post.title[:40], post.selftext, \"non programming\", \"Not a language\"])\n",
    "df4 = pd.DataFrame(df4, columns=[\"title\",\"text\",\"class\", \"language\"])"
   ]
  },
  {
   "cell_type": "code",
   "execution_count": 11,
   "id": "78c417a9",
   "metadata": {},
   "outputs": [
    {
     "data": {
      "text/html": [
       "<div>\n",
       "<style scoped>\n",
       "    .dataframe tbody tr th:only-of-type {\n",
       "        vertical-align: middle;\n",
       "    }\n",
       "\n",
       "    .dataframe tbody tr th {\n",
       "        vertical-align: top;\n",
       "    }\n",
       "\n",
       "    .dataframe thead th {\n",
       "        text-align: right;\n",
       "    }\n",
       "</style>\n",
       "<table border=\"1\" class=\"dataframe\">\n",
       "  <thead>\n",
       "    <tr style=\"text-align: right;\">\n",
       "      <th></th>\n",
       "      <th>title</th>\n",
       "      <th>text</th>\n",
       "      <th>class</th>\n",
       "      <th>language</th>\n",
       "    </tr>\n",
       "  </thead>\n",
       "  <tbody>\n",
       "    <tr>\n",
       "      <th>0</th>\n",
       "      <td>[DISCUSSION] - February 2022 - NO STUPID</td>\n",
       "      <td>\\n\\nGood Day [r/Guitar](https://www.reddit.co...</td>\n",
       "      <td>non programming</td>\n",
       "      <td>Not a language</td>\n",
       "    </tr>\n",
       "    <tr>\n",
       "      <th>1</th>\n",
       "      <td>[PLAY] R/GUITAR - Players Spotlight - Fe</td>\n",
       "      <td>Hello [r/Guitar](https://www.reddit.com/r/Guit...</td>\n",
       "      <td>non programming</td>\n",
       "      <td>Not a language</td>\n",
       "    </tr>\n",
       "    <tr>\n",
       "      <th>2</th>\n",
       "      <td>[QUESTION] What popular guitar / guitar</td>\n",
       "      <td>For me, it's the SG. They're popular with some...</td>\n",
       "      <td>non programming</td>\n",
       "      <td>Not a language</td>\n",
       "    </tr>\n",
       "    <tr>\n",
       "      <th>3</th>\n",
       "      <td>[NEWBIE] Believe the hype - JustinGuitar</td>\n",
       "      <td>So... I've been playing for more than a decade...</td>\n",
       "      <td>non programming</td>\n",
       "      <td>Not a language</td>\n",
       "    </tr>\n",
       "    <tr>\n",
       "      <th>4</th>\n",
       "      <td>[QUESTION] Recommendations for high qual</td>\n",
       "      <td>I've got a small Park amp at the moment (40w) ...</td>\n",
       "      <td>non programming</td>\n",
       "      <td>Not a language</td>\n",
       "    </tr>\n",
       "  </tbody>\n",
       "</table>\n",
       "</div>"
      ],
      "text/plain": [
       "                                      title  \\\n",
       "0  [DISCUSSION] - February 2022 - NO STUPID   \n",
       "1  [PLAY] R/GUITAR - Players Spotlight - Fe   \n",
       "2  [QUESTION] What popular guitar / guitar    \n",
       "3  [NEWBIE] Believe the hype - JustinGuitar   \n",
       "4  [QUESTION] Recommendations for high qual   \n",
       "\n",
       "                                                text            class  \\\n",
       "0   \\n\\nGood Day [r/Guitar](https://www.reddit.co...  non programming   \n",
       "1  Hello [r/Guitar](https://www.reddit.com/r/Guit...  non programming   \n",
       "2  For me, it's the SG. They're popular with some...  non programming   \n",
       "3  So... I've been playing for more than a decade...  non programming   \n",
       "4  I've got a small Park amp at the moment (40w) ...  non programming   \n",
       "\n",
       "         language  \n",
       "0  Not a language  \n",
       "1  Not a language  \n",
       "2  Not a language  \n",
       "3  Not a language  \n",
       "4  Not a language  "
      ]
     },
     "execution_count": 11,
     "metadata": {},
     "output_type": "execute_result"
    }
   ],
   "source": [
    "df4.head()"
   ]
  },
  {
   "cell_type": "code",
   "execution_count": 12,
   "id": "319b9e64",
   "metadata": {},
   "outputs": [],
   "source": [
    "subred = reddit.subreddit(\"Kotlin\")  \n",
    "\n",
    "df5 = []\n",
    "for post in subred.hot( limit=5000):\n",
    "    df5.append([post.title[:40], post.selftext, \"programming\", \"Kotlin\"])\n",
    "df5 = pd.DataFrame(df5, columns=[\"title\",\"text\",\"class\", \"language\"])"
   ]
  },
  {
   "cell_type": "code",
   "execution_count": 13,
   "id": "4658cbb7",
   "metadata": {},
   "outputs": [
    {
     "data": {
      "text/html": [
       "<div>\n",
       "<style scoped>\n",
       "    .dataframe tbody tr th:only-of-type {\n",
       "        vertical-align: middle;\n",
       "    }\n",
       "\n",
       "    .dataframe tbody tr th {\n",
       "        vertical-align: top;\n",
       "    }\n",
       "\n",
       "    .dataframe thead th {\n",
       "        text-align: right;\n",
       "    }\n",
       "</style>\n",
       "<table border=\"1\" class=\"dataframe\">\n",
       "  <thead>\n",
       "    <tr style=\"text-align: right;\">\n",
       "      <th></th>\n",
       "      <th>title</th>\n",
       "      <th>text</th>\n",
       "      <th>class</th>\n",
       "      <th>language</th>\n",
       "    </tr>\n",
       "  </thead>\n",
       "  <tbody>\n",
       "    <tr>\n",
       "      <th>0</th>\n",
       "      <td>Enum.hashCode isn't stable, so why is it</td>\n",
       "      <td>I ran into [this footgun](https://madhead.me/p...</td>\n",
       "      <td>programming</td>\n",
       "      <td>Kotlin</td>\n",
       "    </tr>\n",
       "    <tr>\n",
       "      <th>1</th>\n",
       "      <td>Trying Insertion sort in Kotlin</td>\n",
       "      <td>Can someone please review my code, why its not...</td>\n",
       "      <td>programming</td>\n",
       "      <td>Kotlin</td>\n",
       "    </tr>\n",
       "    <tr>\n",
       "      <th>2</th>\n",
       "      <td>Fake It, but Don't Make It</td>\n",
       "      <td>More exploration of Test Driven Development an...</td>\n",
       "      <td>programming</td>\n",
       "      <td>Kotlin</td>\n",
       "    </tr>\n",
       "    <tr>\n",
       "      <th>3</th>\n",
       "      <td>Experiences with Kotlin OR Frameworks</td>\n",
       "      <td>We're a small team working on Spring Boot-base...</td>\n",
       "      <td>programming</td>\n",
       "      <td>Kotlin</td>\n",
       "    </tr>\n",
       "    <tr>\n",
       "      <th>4</th>\n",
       "      <td>Exploring Photo Picker in Android 13</td>\n",
       "      <td></td>\n",
       "      <td>programming</td>\n",
       "      <td>Kotlin</td>\n",
       "    </tr>\n",
       "  </tbody>\n",
       "</table>\n",
       "</div>"
      ],
      "text/plain": [
       "                                      title  \\\n",
       "0  Enum.hashCode isn't stable, so why is it   \n",
       "1           Trying Insertion sort in Kotlin   \n",
       "2                Fake It, but Don't Make It   \n",
       "3     Experiences with Kotlin OR Frameworks   \n",
       "4      Exploring Photo Picker in Android 13   \n",
       "\n",
       "                                                text        class language  \n",
       "0  I ran into [this footgun](https://madhead.me/p...  programming   Kotlin  \n",
       "1  Can someone please review my code, why its not...  programming   Kotlin  \n",
       "2  More exploration of Test Driven Development an...  programming   Kotlin  \n",
       "3  We're a small team working on Spring Boot-base...  programming   Kotlin  \n",
       "4                                                     programming   Kotlin  "
      ]
     },
     "execution_count": 13,
     "metadata": {},
     "output_type": "execute_result"
    }
   ],
   "source": [
    "df5.head()"
   ]
  },
  {
   "cell_type": "code",
   "execution_count": 14,
   "id": "8fe71fb3",
   "metadata": {},
   "outputs": [],
   "source": [
    "subred = reddit.subreddit(\"nba\")  \n",
    "\n",
    "df6 = []\n",
    "for post in subred.hot( limit=5000):\n",
    "    df6.append([post.title[:40], post.selftext, \"non programming\", \"Not a language\"])\n",
    "df6 = pd.DataFrame(df6, columns=[\"title\",\"text\",\"class\", \"language\"])"
   ]
  },
  {
   "cell_type": "code",
   "execution_count": 15,
   "id": "3ffe16c9",
   "metadata": {},
   "outputs": [
    {
     "data": {
      "text/html": [
       "<div>\n",
       "<style scoped>\n",
       "    .dataframe tbody tr th:only-of-type {\n",
       "        vertical-align: middle;\n",
       "    }\n",
       "\n",
       "    .dataframe tbody tr th {\n",
       "        vertical-align: top;\n",
       "    }\n",
       "\n",
       "    .dataframe thead th {\n",
       "        text-align: right;\n",
       "    }\n",
       "</style>\n",
       "<table border=\"1\" class=\"dataframe\">\n",
       "  <thead>\n",
       "    <tr style=\"text-align: right;\">\n",
       "      <th></th>\n",
       "      <th>title</th>\n",
       "      <th>text</th>\n",
       "      <th>class</th>\n",
       "      <th>language</th>\n",
       "    </tr>\n",
       "  </thead>\n",
       "  <tbody>\n",
       "    <tr>\n",
       "      <th>0</th>\n",
       "      <td>Daily Discussion Thread + Game Thread In</td>\n",
       "      <td># Game Threads Index (February 15, 2022):\\n\\n|...</td>\n",
       "      <td>non programming</td>\n",
       "      <td>Not a language</td>\n",
       "    </tr>\n",
       "    <tr>\n",
       "      <th>1</th>\n",
       "      <td>[SERIOUS NEXT DAY THREAD] Post-Game Disc</td>\n",
       "      <td>Here is a place to have in depth, x's and o's,...</td>\n",
       "      <td>non programming</td>\n",
       "      <td>Not a language</td>\n",
       "    </tr>\n",
       "    <tr>\n",
       "      <th>2</th>\n",
       "      <td>[Fischer] Durant and Nash wanted a free-</td>\n",
       "      <td>https://bleacherreport.com/articles/2953512-in...</td>\n",
       "      <td>non programming</td>\n",
       "      <td>Not a language</td>\n",
       "    </tr>\n",
       "    <tr>\n",
       "      <th>3</th>\n",
       "      <td>James Harden teaching Joel Embiid how to</td>\n",
       "      <td></td>\n",
       "      <td>non programming</td>\n",
       "      <td>Not a language</td>\n",
       "    </tr>\n",
       "    <tr>\n",
       "      <th>4</th>\n",
       "      <td>[Charania] Goran Dragic has agreed to a</td>\n",
       "      <td></td>\n",
       "      <td>non programming</td>\n",
       "      <td>Not a language</td>\n",
       "    </tr>\n",
       "  </tbody>\n",
       "</table>\n",
       "</div>"
      ],
      "text/plain": [
       "                                      title  \\\n",
       "0  Daily Discussion Thread + Game Thread In   \n",
       "1  [SERIOUS NEXT DAY THREAD] Post-Game Disc   \n",
       "2  [Fischer] Durant and Nash wanted a free-   \n",
       "3  James Harden teaching Joel Embiid how to   \n",
       "4  [Charania] Goran Dragic has agreed to a    \n",
       "\n",
       "                                                text            class  \\\n",
       "0  # Game Threads Index (February 15, 2022):\\n\\n|...  non programming   \n",
       "1  Here is a place to have in depth, x's and o's,...  non programming   \n",
       "2  https://bleacherreport.com/articles/2953512-in...  non programming   \n",
       "3                                                     non programming   \n",
       "4                                                     non programming   \n",
       "\n",
       "         language  \n",
       "0  Not a language  \n",
       "1  Not a language  \n",
       "2  Not a language  \n",
       "3  Not a language  \n",
       "4  Not a language  "
      ]
     },
     "execution_count": 15,
     "metadata": {},
     "output_type": "execute_result"
    }
   ],
   "source": [
    "df6.head()"
   ]
  },
  {
   "cell_type": "code",
   "execution_count": 16,
   "id": "09e62035",
   "metadata": {},
   "outputs": [],
   "source": [
    "subred = reddit.subreddit(\"news\")  \n",
    "\n",
    "df7 = []\n",
    "for post in subred.hot( limit=5000):\n",
    "    df7.append([post.title[:40], post.selftext, \"non programming\", \"Not a language\"])\n",
    "df7 = pd.DataFrame(df7, columns=[\"title\",\"text\",\"class\", \"language\"])"
   ]
  },
  {
   "cell_type": "code",
   "execution_count": 17,
   "id": "7c9873ee",
   "metadata": {},
   "outputs": [
    {
     "data": {
      "text/html": [
       "<div>\n",
       "<style scoped>\n",
       "    .dataframe tbody tr th:only-of-type {\n",
       "        vertical-align: middle;\n",
       "    }\n",
       "\n",
       "    .dataframe tbody tr th {\n",
       "        vertical-align: top;\n",
       "    }\n",
       "\n",
       "    .dataframe thead th {\n",
       "        text-align: right;\n",
       "    }\n",
       "</style>\n",
       "<table border=\"1\" class=\"dataframe\">\n",
       "  <thead>\n",
       "    <tr style=\"text-align: right;\">\n",
       "      <th></th>\n",
       "      <th>title</th>\n",
       "      <th>text</th>\n",
       "      <th>class</th>\n",
       "      <th>language</th>\n",
       "    </tr>\n",
       "  </thead>\n",
       "  <tbody>\n",
       "    <tr>\n",
       "      <th>0</th>\n",
       "      <td>FBI: Americans Lost $1 Billion to Romanc</td>\n",
       "      <td></td>\n",
       "      <td>non programming</td>\n",
       "      <td>Not a language</td>\n",
       "    </tr>\n",
       "    <tr>\n",
       "      <th>1</th>\n",
       "      <td>Long Island Man Claims Cops Ripped Off H</td>\n",
       "      <td></td>\n",
       "      <td>non programming</td>\n",
       "      <td>Not a language</td>\n",
       "    </tr>\n",
       "    <tr>\n",
       "      <th>2</th>\n",
       "      <td>Sandy Hook families settle with gun make</td>\n",
       "      <td></td>\n",
       "      <td>non programming</td>\n",
       "      <td>Not a language</td>\n",
       "    </tr>\n",
       "    <tr>\n",
       "      <th>3</th>\n",
       "      <td>Alexei Navalny faces 15 more years in pr</td>\n",
       "      <td></td>\n",
       "      <td>non programming</td>\n",
       "      <td>Not a language</td>\n",
       "    </tr>\n",
       "    <tr>\n",
       "      <th>4</th>\n",
       "      <td>Major banks pledging net zero are pourin</td>\n",
       "      <td></td>\n",
       "      <td>non programming</td>\n",
       "      <td>Not a language</td>\n",
       "    </tr>\n",
       "  </tbody>\n",
       "</table>\n",
       "</div>"
      ],
      "text/plain": [
       "                                      title text            class  \\\n",
       "0  FBI: Americans Lost $1 Billion to Romanc       non programming   \n",
       "1  Long Island Man Claims Cops Ripped Off H       non programming   \n",
       "2  Sandy Hook families settle with gun make       non programming   \n",
       "3  Alexei Navalny faces 15 more years in pr       non programming   \n",
       "4  Major banks pledging net zero are pourin       non programming   \n",
       "\n",
       "         language  \n",
       "0  Not a language  \n",
       "1  Not a language  \n",
       "2  Not a language  \n",
       "3  Not a language  \n",
       "4  Not a language  "
      ]
     },
     "execution_count": 17,
     "metadata": {},
     "output_type": "execute_result"
    }
   ],
   "source": [
    "df7.head()"
   ]
  },
  {
   "cell_type": "code",
   "execution_count": 18,
   "id": "d838a9af",
   "metadata": {},
   "outputs": [],
   "source": [
    "subred = reddit.subreddit(\"europe\")  \n",
    "\n",
    "df8 = []\n",
    "for post in subred.hot( limit=5000):\n",
    "    df8.append([post.title[:40], post.selftext, \"non programming\", \"Not a language\"])\n",
    "df8 = pd.DataFrame(df8, columns=[\"title\",\"text\",\"class\", \"language\"])"
   ]
  },
  {
   "cell_type": "code",
   "execution_count": 19,
   "id": "474d1e1c",
   "metadata": {},
   "outputs": [
    {
     "data": {
      "text/html": [
       "<div>\n",
       "<style scoped>\n",
       "    .dataframe tbody tr th:only-of-type {\n",
       "        vertical-align: middle;\n",
       "    }\n",
       "\n",
       "    .dataframe tbody tr th {\n",
       "        vertical-align: top;\n",
       "    }\n",
       "\n",
       "    .dataframe thead th {\n",
       "        text-align: right;\n",
       "    }\n",
       "</style>\n",
       "<table border=\"1\" class=\"dataframe\">\n",
       "  <thead>\n",
       "    <tr style=\"text-align: right;\">\n",
       "      <th></th>\n",
       "      <th>title</th>\n",
       "      <th>text</th>\n",
       "      <th>class</th>\n",
       "      <th>language</th>\n",
       "    </tr>\n",
       "  </thead>\n",
       "  <tbody>\n",
       "    <tr>\n",
       "      <th>0</th>\n",
       "      <td>What happened in your country this week?</td>\n",
       "      <td>**Welcome to the weekly European news gatherin...</td>\n",
       "      <td>non programming</td>\n",
       "      <td>Not a language</td>\n",
       "    </tr>\n",
       "    <tr>\n",
       "      <th>1</th>\n",
       "      <td>Ukraine-Russia Conflict Megathread 4</td>\n",
       "      <td>‎As news of the confrontation between Ukraine ...</td>\n",
       "      <td>non programming</td>\n",
       "      <td>Not a language</td>\n",
       "    </tr>\n",
       "    <tr>\n",
       "      <th>2</th>\n",
       "      <td>\"When a slave sets foot in Serbia, he/sh</td>\n",
       "      <td></td>\n",
       "      <td>non programming</td>\n",
       "      <td>Not a language</td>\n",
       "    </tr>\n",
       "    <tr>\n",
       "      <th>3</th>\n",
       "      <td>A random fact I recently noticed: Italy</td>\n",
       "      <td></td>\n",
       "      <td>non programming</td>\n",
       "      <td>Not a language</td>\n",
       "    </tr>\n",
       "    <tr>\n",
       "      <th>4</th>\n",
       "      <td>Belgium approves four-day week and gives</td>\n",
       "      <td></td>\n",
       "      <td>non programming</td>\n",
       "      <td>Not a language</td>\n",
       "    </tr>\n",
       "  </tbody>\n",
       "</table>\n",
       "</div>"
      ],
      "text/plain": [
       "                                      title  \\\n",
       "0  What happened in your country this week?   \n",
       "1      Ukraine-Russia Conflict Megathread 4   \n",
       "2  \"When a slave sets foot in Serbia, he/sh   \n",
       "3  A random fact I recently noticed: Italy    \n",
       "4  Belgium approves four-day week and gives   \n",
       "\n",
       "                                                text            class  \\\n",
       "0  **Welcome to the weekly European news gatherin...  non programming   \n",
       "1  ‎As news of the confrontation between Ukraine ...  non programming   \n",
       "2                                                     non programming   \n",
       "3                                                     non programming   \n",
       "4                                                     non programming   \n",
       "\n",
       "         language  \n",
       "0  Not a language  \n",
       "1  Not a language  \n",
       "2  Not a language  \n",
       "3  Not a language  \n",
       "4  Not a language  "
      ]
     },
     "execution_count": 19,
     "metadata": {},
     "output_type": "execute_result"
    }
   ],
   "source": [
    "df8.head()"
   ]
  },
  {
   "cell_type": "code",
   "execution_count": 20,
   "id": "ac0043ad",
   "metadata": {},
   "outputs": [],
   "source": [
    "subred = reddit.subreddit(\"angular\")  \n",
    "\n",
    "df9 = []\n",
    "for post in subred.hot( limit=5000):\n",
    "    df9.append([post.title[:40], post.selftext, \"programming\", \"Angular\"])\n",
    "df9 = pd.DataFrame(df9, columns=[\"title\",\"text\",\"class\", \"language\"])"
   ]
  },
  {
   "cell_type": "code",
   "execution_count": 21,
   "id": "d40a11fb",
   "metadata": {},
   "outputs": [
    {
     "data": {
      "text/html": [
       "<div>\n",
       "<style scoped>\n",
       "    .dataframe tbody tr th:only-of-type {\n",
       "        vertical-align: middle;\n",
       "    }\n",
       "\n",
       "    .dataframe tbody tr th {\n",
       "        vertical-align: top;\n",
       "    }\n",
       "\n",
       "    .dataframe thead th {\n",
       "        text-align: right;\n",
       "    }\n",
       "</style>\n",
       "<table border=\"1\" class=\"dataframe\">\n",
       "  <thead>\n",
       "    <tr style=\"text-align: right;\">\n",
       "      <th></th>\n",
       "      <th>title</th>\n",
       "      <th>text</th>\n",
       "      <th>class</th>\n",
       "      <th>language</th>\n",
       "    </tr>\n",
       "  </thead>\n",
       "  <tbody>\n",
       "    <tr>\n",
       "      <th>0</th>\n",
       "      <td>Angular 12 in depth</td>\n",
       "      <td></td>\n",
       "      <td>programming</td>\n",
       "      <td>Angular</td>\n",
       "    </tr>\n",
       "    <tr>\n",
       "      <th>1</th>\n",
       "      <td>RxJS in Angular: from beginner to advanc</td>\n",
       "      <td></td>\n",
       "      <td>programming</td>\n",
       "      <td>Angular</td>\n",
       "    </tr>\n",
       "    <tr>\n",
       "      <th>2</th>\n",
       "      <td>How to Contribute to Angular Material —</td>\n",
       "      <td></td>\n",
       "      <td>programming</td>\n",
       "      <td>Angular</td>\n",
       "    </tr>\n",
       "    <tr>\n",
       "      <th>3</th>\n",
       "      <td>Is it possible to get webpack.config.js</td>\n",
       "      <td>I know how to custom webpack, but I still want...</td>\n",
       "      <td>programming</td>\n",
       "      <td>Angular</td>\n",
       "    </tr>\n",
       "    <tr>\n",
       "      <th>4</th>\n",
       "      <td>Approach for Creating a Landing Page</td>\n",
       "      <td>Hi. I'm fairly new with Angular. I'm creating ...</td>\n",
       "      <td>programming</td>\n",
       "      <td>Angular</td>\n",
       "    </tr>\n",
       "  </tbody>\n",
       "</table>\n",
       "</div>"
      ],
      "text/plain": [
       "                                      title  \\\n",
       "0                       Angular 12 in depth   \n",
       "1  RxJS in Angular: from beginner to advanc   \n",
       "2  How to Contribute to Angular Material —    \n",
       "3  Is it possible to get webpack.config.js    \n",
       "4      Approach for Creating a Landing Page   \n",
       "\n",
       "                                                text        class language  \n",
       "0                                                     programming  Angular  \n",
       "1                                                     programming  Angular  \n",
       "2                                                     programming  Angular  \n",
       "3  I know how to custom webpack, but I still want...  programming  Angular  \n",
       "4  Hi. I'm fairly new with Angular. I'm creating ...  programming  Angular  "
      ]
     },
     "execution_count": 21,
     "metadata": {},
     "output_type": "execute_result"
    }
   ],
   "source": [
    "df9.head()"
   ]
  },
  {
   "cell_type": "code",
   "execution_count": 22,
   "id": "88541b4e",
   "metadata": {},
   "outputs": [],
   "source": [
    "subred = reddit.subreddit(\"Motorcycles\")  \n",
    "\n",
    "df10 = []\n",
    "for post in subred.hot( limit=5000):\n",
    "    df10.append([post.title[:40], post.selftext, \"non programming\", \"Not a language\"])\n",
    "df10 = pd.DataFrame(df10, columns=[\"title\",\"text\",\"class\", \"language\"])"
   ]
  },
  {
   "cell_type": "code",
   "execution_count": 23,
   "id": "7f8c7cbe",
   "metadata": {},
   "outputs": [
    {
     "data": {
      "text/html": [
       "<div>\n",
       "<style scoped>\n",
       "    .dataframe tbody tr th:only-of-type {\n",
       "        vertical-align: middle;\n",
       "    }\n",
       "\n",
       "    .dataframe tbody tr th {\n",
       "        vertical-align: top;\n",
       "    }\n",
       "\n",
       "    .dataframe thead th {\n",
       "        text-align: right;\n",
       "    }\n",
       "</style>\n",
       "<table border=\"1\" class=\"dataframe\">\n",
       "  <thead>\n",
       "    <tr style=\"text-align: right;\">\n",
       "      <th></th>\n",
       "      <th>title</th>\n",
       "      <th>text</th>\n",
       "      <th>class</th>\n",
       "      <th>language</th>\n",
       "    </tr>\n",
       "  </thead>\n",
       "  <tbody>\n",
       "    <tr>\n",
       "      <th>0</th>\n",
       "      <td>REMINDER: Riding season is almost here!</td>\n",
       "      <td># [Quick Link To Current Superthread](https://...</td>\n",
       "      <td>non programming</td>\n",
       "      <td>Not a language</td>\n",
       "    </tr>\n",
       "    <tr>\n",
       "      <th>1</th>\n",
       "      <td>Purchase Advice Superthread</td>\n",
       "      <td># PURCHASE ADVICE SUPERTHREAD!\\n\\nA dedicated ...</td>\n",
       "      <td>non programming</td>\n",
       "      <td>Not a language</td>\n",
       "    </tr>\n",
       "    <tr>\n",
       "      <th>2</th>\n",
       "      <td>body position practice</td>\n",
       "      <td></td>\n",
       "      <td>non programming</td>\n",
       "      <td>Not a language</td>\n",
       "    </tr>\n",
       "    <tr>\n",
       "      <th>3</th>\n",
       "      <td>Master of aquaplanning</td>\n",
       "      <td></td>\n",
       "      <td>non programming</td>\n",
       "      <td>Not a language</td>\n",
       "    </tr>\n",
       "    <tr>\n",
       "      <th>4</th>\n",
       "      <td>Anyone have ideas about my aftermarket t</td>\n",
       "      <td></td>\n",
       "      <td>non programming</td>\n",
       "      <td>Not a language</td>\n",
       "    </tr>\n",
       "  </tbody>\n",
       "</table>\n",
       "</div>"
      ],
      "text/plain": [
       "                                      title  \\\n",
       "0  REMINDER: Riding season is almost here!    \n",
       "1               Purchase Advice Superthread   \n",
       "2                    body position practice   \n",
       "3                    Master of aquaplanning   \n",
       "4  Anyone have ideas about my aftermarket t   \n",
       "\n",
       "                                                text            class  \\\n",
       "0  # [Quick Link To Current Superthread](https://...  non programming   \n",
       "1  # PURCHASE ADVICE SUPERTHREAD!\\n\\nA dedicated ...  non programming   \n",
       "2                                                     non programming   \n",
       "3                                                     non programming   \n",
       "4                                                     non programming   \n",
       "\n",
       "         language  \n",
       "0  Not a language  \n",
       "1  Not a language  \n",
       "2  Not a language  \n",
       "3  Not a language  \n",
       "4  Not a language  "
      ]
     },
     "execution_count": 23,
     "metadata": {},
     "output_type": "execute_result"
    }
   ],
   "source": [
    "df10.head()"
   ]
  },
  {
   "cell_type": "code",
   "execution_count": 24,
   "id": "41d25f28",
   "metadata": {},
   "outputs": [],
   "source": [
    "subred = reddit.subreddit(\"PHP\")  \n",
    "\n",
    "df11 = []\n",
    "for post in subred.hot( limit=5000):\n",
    "    df11.append([post.title[:40], post.selftext, \"programming\", \"PHP\"])\n",
    "df11 = pd.DataFrame(df11, columns=[\"title\",\"text\",\"class\", \"language\"])"
   ]
  },
  {
   "cell_type": "code",
   "execution_count": 25,
   "id": "51e6e0f3",
   "metadata": {},
   "outputs": [
    {
     "data": {
      "text/html": [
       "<div>\n",
       "<style scoped>\n",
       "    .dataframe tbody tr th:only-of-type {\n",
       "        vertical-align: middle;\n",
       "    }\n",
       "\n",
       "    .dataframe tbody tr th {\n",
       "        vertical-align: top;\n",
       "    }\n",
       "\n",
       "    .dataframe thead th {\n",
       "        text-align: right;\n",
       "    }\n",
       "</style>\n",
       "<table border=\"1\" class=\"dataframe\">\n",
       "  <thead>\n",
       "    <tr style=\"text-align: right;\">\n",
       "      <th></th>\n",
       "      <th>title</th>\n",
       "      <th>text</th>\n",
       "      <th>class</th>\n",
       "      <th>language</th>\n",
       "    </tr>\n",
       "  </thead>\n",
       "  <tbody>\n",
       "    <tr>\n",
       "      <th>0</th>\n",
       "      <td>Weekly \"ask anything\" thread</td>\n",
       "      <td>Hey there!\\n\\nThis subreddit isn't meant for h...</td>\n",
       "      <td>programming</td>\n",
       "      <td>PHP</td>\n",
       "    </tr>\n",
       "    <tr>\n",
       "      <th>1</th>\n",
       "      <td>PHP Benchmarks (2022) for 14 different P</td>\n",
       "      <td>I'm back almost a year later with a new round ...</td>\n",
       "      <td>programming</td>\n",
       "      <td>PHP</td>\n",
       "    </tr>\n",
       "    <tr>\n",
       "      <th>2</th>\n",
       "      <td>[need help] From Go to PHP</td>\n",
       "      <td>Hi. I've been developing in Go for over 6 year...</td>\n",
       "      <td>programming</td>\n",
       "      <td>PHP</td>\n",
       "    </tr>\n",
       "    <tr>\n",
       "      <th>3</th>\n",
       "      <td>Integrate Firebase web notification in t</td>\n",
       "      <td>Web notifications are messages sent to a visit...</td>\n",
       "      <td>programming</td>\n",
       "      <td>PHP</td>\n",
       "    </tr>\n",
       "    <tr>\n",
       "      <th>4</th>\n",
       "      <td>What are good resources for learning PHP</td>\n",
       "      <td>Where can I find materials on automated testin...</td>\n",
       "      <td>programming</td>\n",
       "      <td>PHP</td>\n",
       "    </tr>\n",
       "  </tbody>\n",
       "</table>\n",
       "</div>"
      ],
      "text/plain": [
       "                                      title  \\\n",
       "0              Weekly \"ask anything\" thread   \n",
       "1  PHP Benchmarks (2022) for 14 different P   \n",
       "2                [need help] From Go to PHP   \n",
       "3  Integrate Firebase web notification in t   \n",
       "4  What are good resources for learning PHP   \n",
       "\n",
       "                                                text        class language  \n",
       "0  Hey there!\\n\\nThis subreddit isn't meant for h...  programming      PHP  \n",
       "1  I'm back almost a year later with a new round ...  programming      PHP  \n",
       "2  Hi. I've been developing in Go for over 6 year...  programming      PHP  \n",
       "3  Web notifications are messages sent to a visit...  programming      PHP  \n",
       "4  Where can I find materials on automated testin...  programming      PHP  "
      ]
     },
     "execution_count": 25,
     "metadata": {},
     "output_type": "execute_result"
    }
   ],
   "source": [
    "df11.head()"
   ]
  },
  {
   "cell_type": "code",
   "execution_count": 26,
   "id": "7a672b76",
   "metadata": {},
   "outputs": [],
   "source": [
    "subred = reddit.subreddit(\"Damnthatsinteresting\")  \n",
    "\n",
    "df12 = []\n",
    "for post in subred.hot( limit=5000):\n",
    "    df12.append([post.title[:40], post.selftext, \"non programming\", \"Not a language\"])\n",
    "df12 = pd.DataFrame(df12, columns=[\"title\",\"text\",\"class\", \"language\"])"
   ]
  },
  {
   "cell_type": "code",
   "execution_count": 27,
   "id": "ef1ca699",
   "metadata": {},
   "outputs": [
    {
     "data": {
      "text/html": [
       "<div>\n",
       "<style scoped>\n",
       "    .dataframe tbody tr th:only-of-type {\n",
       "        vertical-align: middle;\n",
       "    }\n",
       "\n",
       "    .dataframe tbody tr th {\n",
       "        vertical-align: top;\n",
       "    }\n",
       "\n",
       "    .dataframe thead th {\n",
       "        text-align: right;\n",
       "    }\n",
       "</style>\n",
       "<table border=\"1\" class=\"dataframe\">\n",
       "  <thead>\n",
       "    <tr style=\"text-align: right;\">\n",
       "      <th></th>\n",
       "      <th>title</th>\n",
       "      <th>text</th>\n",
       "      <th>class</th>\n",
       "      <th>language</th>\n",
       "    </tr>\n",
       "  </thead>\n",
       "  <tbody>\n",
       "    <tr>\n",
       "      <th>0</th>\n",
       "      <td>Map shows Netherlands progress in flood</td>\n",
       "      <td></td>\n",
       "      <td>non programming</td>\n",
       "      <td>Not a language</td>\n",
       "    </tr>\n",
       "    <tr>\n",
       "      <th>1</th>\n",
       "      <td>Women who previously worked in Clinical</td>\n",
       "      <td></td>\n",
       "      <td>non programming</td>\n",
       "      <td>Not a language</td>\n",
       "    </tr>\n",
       "    <tr>\n",
       "      <th>2</th>\n",
       "      <td>Dog eating a shark while 2 snakes fight</td>\n",
       "      <td></td>\n",
       "      <td>non programming</td>\n",
       "      <td>Not a language</td>\n",
       "    </tr>\n",
       "    <tr>\n",
       "      <th>3</th>\n",
       "      <td>3D modelling just by walking around the</td>\n",
       "      <td></td>\n",
       "      <td>non programming</td>\n",
       "      <td>Not a language</td>\n",
       "    </tr>\n",
       "    <tr>\n",
       "      <th>4</th>\n",
       "      <td>Digital artists recreated the changes of</td>\n",
       "      <td></td>\n",
       "      <td>non programming</td>\n",
       "      <td>Not a language</td>\n",
       "    </tr>\n",
       "  </tbody>\n",
       "</table>\n",
       "</div>"
      ],
      "text/plain": [
       "                                      title text            class  \\\n",
       "0  Map shows Netherlands progress in flood        non programming   \n",
       "1  Women who previously worked in Clinical        non programming   \n",
       "2  Dog eating a shark while 2 snakes fight        non programming   \n",
       "3  3D modelling just by walking around the        non programming   \n",
       "4  Digital artists recreated the changes of       non programming   \n",
       "\n",
       "         language  \n",
       "0  Not a language  \n",
       "1  Not a language  \n",
       "2  Not a language  \n",
       "3  Not a language  \n",
       "4  Not a language  "
      ]
     },
     "execution_count": 27,
     "metadata": {},
     "output_type": "execute_result"
    }
   ],
   "source": [
    "df12.head()"
   ]
  },
  {
   "cell_type": "code",
   "execution_count": 28,
   "id": "a92aa7a8",
   "metadata": {},
   "outputs": [],
   "source": [
    "subred = reddit.subreddit(\"golang\")  \n",
    "\n",
    "df13 = []\n",
    "for post in subred.hot( limit=5000):\n",
    "    df13.append([post.title[:40], post.selftext, \"programming\", \"Go\"])\n",
    "df13 = pd.DataFrame(df13, columns=[\"title\",\"text\",\"class\", \"language\"])"
   ]
  },
  {
   "cell_type": "code",
   "execution_count": 29,
   "id": "0a77dcf1",
   "metadata": {},
   "outputs": [
    {
     "data": {
      "text/html": [
       "<div>\n",
       "<style scoped>\n",
       "    .dataframe tbody tr th:only-of-type {\n",
       "        vertical-align: middle;\n",
       "    }\n",
       "\n",
       "    .dataframe tbody tr th {\n",
       "        vertical-align: top;\n",
       "    }\n",
       "\n",
       "    .dataframe thead th {\n",
       "        text-align: right;\n",
       "    }\n",
       "</style>\n",
       "<table border=\"1\" class=\"dataframe\">\n",
       "  <thead>\n",
       "    <tr style=\"text-align: right;\">\n",
       "      <th></th>\n",
       "      <th>title</th>\n",
       "      <th>text</th>\n",
       "      <th>class</th>\n",
       "      <th>language</th>\n",
       "    </tr>\n",
       "  </thead>\n",
       "  <tbody>\n",
       "    <tr>\n",
       "      <th>0</th>\n",
       "      <td>CloverDB</td>\n",
       "      <td>Hi, all! I wrote a storage project in Golang. ...</td>\n",
       "      <td>programming</td>\n",
       "      <td>Go</td>\n",
       "    </tr>\n",
       "    <tr>\n",
       "      <th>1</th>\n",
       "      <td>Continuous Build and Deployment of Go Ap</td>\n",
       "      <td></td>\n",
       "      <td>programming</td>\n",
       "      <td>Go</td>\n",
       "    </tr>\n",
       "    <tr>\n",
       "      <th>2</th>\n",
       "      <td>mature alternative for webview?</td>\n",
       "      <td>I was playing around with [webview](https://gi...</td>\n",
       "      <td>programming</td>\n",
       "      <td>Go</td>\n",
       "    </tr>\n",
       "    <tr>\n",
       "      <th>3</th>\n",
       "      <td>log in and modules I could make use of</td>\n",
       "      <td>Hi fellow Gophers! I'm a new gopher who is sti...</td>\n",
       "      <td>programming</td>\n",
       "      <td>Go</td>\n",
       "    </tr>\n",
       "    <tr>\n",
       "      <th>4</th>\n",
       "      <td>When does a Goroutine actually start exe</td>\n",
       "      <td>I'm in the middle of learning go and especiall...</td>\n",
       "      <td>programming</td>\n",
       "      <td>Go</td>\n",
       "    </tr>\n",
       "  </tbody>\n",
       "</table>\n",
       "</div>"
      ],
      "text/plain": [
       "                                      title  \\\n",
       "0                                  CloverDB   \n",
       "1  Continuous Build and Deployment of Go Ap   \n",
       "2           mature alternative for webview?   \n",
       "3    log in and modules I could make use of   \n",
       "4  When does a Goroutine actually start exe   \n",
       "\n",
       "                                                text        class language  \n",
       "0  Hi, all! I wrote a storage project in Golang. ...  programming       Go  \n",
       "1                                                     programming       Go  \n",
       "2  I was playing around with [webview](https://gi...  programming       Go  \n",
       "3  Hi fellow Gophers! I'm a new gopher who is sti...  programming       Go  \n",
       "4  I'm in the middle of learning go and especiall...  programming       Go  "
      ]
     },
     "execution_count": 29,
     "metadata": {},
     "output_type": "execute_result"
    }
   ],
   "source": [
    "df13.head()"
   ]
  },
  {
   "cell_type": "code",
   "execution_count": 30,
   "id": "e7c7f6f4",
   "metadata": {},
   "outputs": [],
   "source": [
    "subred = reddit.subreddit(\"AskReddit\")  \n",
    "\n",
    "df14 = []\n",
    "for post in subred.hot( limit=5000):\n",
    "    df14.append([post.title[:40], post.selftext, \"non programming\", \"Not a language\"])\n",
    "df14 = pd.DataFrame(df14, columns=[\"title\",\"text\",\"class\", \"language\"])"
   ]
  },
  {
   "cell_type": "code",
   "execution_count": 31,
   "id": "18a95c30",
   "metadata": {},
   "outputs": [
    {
     "data": {
      "text/html": [
       "<div>\n",
       "<style scoped>\n",
       "    .dataframe tbody tr th:only-of-type {\n",
       "        vertical-align: middle;\n",
       "    }\n",
       "\n",
       "    .dataframe tbody tr th {\n",
       "        vertical-align: top;\n",
       "    }\n",
       "\n",
       "    .dataframe thead th {\n",
       "        text-align: right;\n",
       "    }\n",
       "</style>\n",
       "<table border=\"1\" class=\"dataframe\">\n",
       "  <thead>\n",
       "    <tr style=\"text-align: right;\">\n",
       "      <th></th>\n",
       "      <th>title</th>\n",
       "      <th>text</th>\n",
       "      <th>class</th>\n",
       "      <th>language</th>\n",
       "    </tr>\n",
       "  </thead>\n",
       "  <tbody>\n",
       "    <tr>\n",
       "      <th>0</th>\n",
       "      <td>What’s one thing your partner doesn’t kn</td>\n",
       "      <td></td>\n",
       "      <td>non programming</td>\n",
       "      <td>Not a language</td>\n",
       "    </tr>\n",
       "    <tr>\n",
       "      <th>1</th>\n",
       "      <td>What pisses you off instantly?</td>\n",
       "      <td></td>\n",
       "      <td>non programming</td>\n",
       "      <td>Not a language</td>\n",
       "    </tr>\n",
       "    <tr>\n",
       "      <th>2</th>\n",
       "      <td>What makes you nope out of reading a lon</td>\n",
       "      <td></td>\n",
       "      <td>non programming</td>\n",
       "      <td>Not a language</td>\n",
       "    </tr>\n",
       "    <tr>\n",
       "      <th>3</th>\n",
       "      <td>What's the most uncomfortable compliment</td>\n",
       "      <td></td>\n",
       "      <td>non programming</td>\n",
       "      <td>Not a language</td>\n",
       "    </tr>\n",
       "    <tr>\n",
       "      <th>4</th>\n",
       "      <td>People who live in the US, how would you</td>\n",
       "      <td></td>\n",
       "      <td>non programming</td>\n",
       "      <td>Not a language</td>\n",
       "    </tr>\n",
       "  </tbody>\n",
       "</table>\n",
       "</div>"
      ],
      "text/plain": [
       "                                      title text            class  \\\n",
       "0  What’s one thing your partner doesn’t kn       non programming   \n",
       "1            What pisses you off instantly?       non programming   \n",
       "2  What makes you nope out of reading a lon       non programming   \n",
       "3  What's the most uncomfortable compliment       non programming   \n",
       "4  People who live in the US, how would you       non programming   \n",
       "\n",
       "         language  \n",
       "0  Not a language  \n",
       "1  Not a language  \n",
       "2  Not a language  \n",
       "3  Not a language  \n",
       "4  Not a language  "
      ]
     },
     "execution_count": 31,
     "metadata": {},
     "output_type": "execute_result"
    }
   ],
   "source": [
    "df14.head()"
   ]
  },
  {
   "cell_type": "markdown",
   "id": "17eb921f",
   "metadata": {},
   "source": [
    "Dopo aver ottenuto i vari post provenienti dai subreddit presi in analisi ed averli memorizzati opportunamente in dei **Pandas dataframe**, costruiamo un unico dataset in grado di contenerli tutti in modo da lavorare più agilmente sui dati raccolti. Durante questa fase inoltre, saranno rimossi dal dataset tutti i record in cui non è presente del testo, infatti, in questi ultimi sono presenti immagini o link non utili ai fini dell'addestamento dell'algoritmo."
   ]
  },
  {
   "cell_type": "code",
   "execution_count": 32,
   "id": "814d9d25",
   "metadata": {},
   "outputs": [
    {
     "name": "stdout",
     "output_type": "stream",
     "text": [
      "<class 'pandas.core.frame.DataFrame'>\n",
      "Int64Index: 4798 entries, 0 to 9622\n",
      "Data columns (total 4 columns):\n",
      " #   Column    Non-Null Count  Dtype \n",
      "---  ------    --------------  ----- \n",
      " 0   title     4798 non-null   object\n",
      " 1   text      4798 non-null   object\n",
      " 2   class     4798 non-null   object\n",
      " 3   language  4798 non-null   object\n",
      "dtypes: object(4)\n",
      "memory usage: 187.4+ KB\n"
     ]
    }
   ],
   "source": [
    "frames = [df1, df2, df3, df4, df5, df6, df7, df8, df9, df10, df11, df12, df13, df14]\n",
    "dataset = pd.concat(frames, ignore_index=True)\n",
    "dataset = dataset.drop(dataset[dataset.text == \"\"].index)\n",
    "dataset.info()"
   ]
  },
  {
   "cell_type": "markdown",
   "id": "f12f7af2",
   "metadata": {},
   "source": [
    "Una volta ottenuto il dataframe che rappresenta i dati raccolti, utilizziamo la libreria **sklearn**  che ci fornirà tutti gli strumenti per portare a termine il task di classificazione, dalla creazione dei set su cui lavorare, l'algoritmo vero e proprio e al calcolo delle misure di valutazione.\n",
    "\n",
    "Come appena citato il primo passo da effettuare è quello di dividere il dataset in due parti, per fare ciò utilizziamo il **metodo holdout**, ovvero assegneremo al training set l'**X%** delle osservazioni e al test set il restante **100-X%** delle osservazioni. Nel nostro caso avremo che **X = 25%**."
   ]
  },
  {
   "cell_type": "code",
   "execution_count": 33,
   "id": "a41b9fac",
   "metadata": {},
   "outputs": [
    {
     "name": "stdout",
     "output_type": "stream",
     "text": [
      "<class 'pandas.core.frame.DataFrame'>\n",
      "Int64Index: 3598 entries, 2 to 6090\n",
      "Data columns (total 4 columns):\n",
      " #   Column    Non-Null Count  Dtype \n",
      "---  ------    --------------  ----- \n",
      " 0   title     3598 non-null   object\n",
      " 1   text      3598 non-null   object\n",
      " 2   class     3598 non-null   object\n",
      " 3   language  3598 non-null   object\n",
      "dtypes: object(4)\n",
      "memory usage: 140.5+ KB\n",
      "\n",
      "\n",
      "<class 'pandas.core.frame.DataFrame'>\n",
      "Int64Index: 1200 entries, 6673 to 2557\n",
      "Data columns (total 4 columns):\n",
      " #   Column    Non-Null Count  Dtype \n",
      "---  ------    --------------  ----- \n",
      " 0   title     1200 non-null   object\n",
      " 1   text      1200 non-null   object\n",
      " 2   class     1200 non-null   object\n",
      " 3   language  1200 non-null   object\n",
      "dtypes: object(4)\n",
      "memory usage: 46.9+ KB\n"
     ]
    }
   ],
   "source": [
    "from sklearn.model_selection import train_test_split\n",
    "import numpy as np\n",
    "\n",
    "np.random.seed(1234)\n",
    "\n",
    "train_set, test_set = train_test_split(dataset, test_size=0.25)\n",
    "train_set.info(); print('\\n'); test_set.info()"
   ]
  },
  {
   "cell_type": "markdown",
   "id": "01afe3ff",
   "metadata": {},
   "source": [
    "Osserviamo graficamente come sono disposte le osservazioni all'interno del training set, in genere è buona norma che il training set sia **bilanciato** ovvero che le osservazioni appartenenti all'insieme siano ripartite in egual misura in base alla loro classe. "
   ]
  },
  {
   "cell_type": "code",
   "execution_count": 34,
   "id": "0a1f65d5",
   "metadata": {},
   "outputs": [
    {
     "data": {
      "image/png": "[encoded data removed]",
      "text/plain": [
       "<Figure size 432x288 with 1 Axes>"
      ]
     },
     "metadata": {
      "needs_background": "light"
     },
     "output_type": "display_data"
    }
   ],
   "source": [
    "from matplotlib import pyplot as plt\n",
    "train_set.groupby('class').count().plot.bar()\n",
    "plt.show()"
   ]
  },
  {
   "cell_type": "markdown",
   "id": "2ded37a2",
   "metadata": {},
   "source": [
    "Possiamo adesso osservare parte dei due set per verificare che essi siano stati creati correttamente."
   ]
  },
  {
   "cell_type": "code",
   "execution_count": 35,
   "id": "f9c41215",
   "metadata": {},
   "outputs": [
    {
     "data": {
      "text/html": [
       "<div>\n",
       "<style scoped>\n",
       "    .dataframe tbody tr th:only-of-type {\n",
       "        vertical-align: middle;\n",
       "    }\n",
       "\n",
       "    .dataframe tbody tr th {\n",
       "        vertical-align: top;\n",
       "    }\n",
       "\n",
       "    .dataframe thead th {\n",
       "        text-align: right;\n",
       "    }\n",
       "</style>\n",
       "<table border=\"1\" class=\"dataframe\">\n",
       "  <thead>\n",
       "    <tr style=\"text-align: right;\">\n",
       "      <th></th>\n",
       "      <th>title</th>\n",
       "      <th>text</th>\n",
       "      <th>class</th>\n",
       "      <th>language</th>\n",
       "    </tr>\n",
       "  </thead>\n",
       "  <tbody>\n",
       "    <tr>\n",
       "      <th>2</th>\n",
       "      <td>I made a CLI-version of Wordle in Python</td>\n",
       "      <td>Hopefully I am not too late to the party! I am...</td>\n",
       "      <td>programming</td>\n",
       "      <td>Python</td>\n",
       "    </tr>\n",
       "    <tr>\n",
       "      <th>7258</th>\n",
       "      <td>Do you consider yourselves \"Adrenaline J</td>\n",
       "      <td>I've noticed a lot people call themselves \"adr...</td>\n",
       "      <td>non programming</td>\n",
       "      <td>Not a language</td>\n",
       "    </tr>\n",
       "    <tr>\n",
       "      <th>2976</th>\n",
       "      <td>Don't know where to begin</td>\n",
       "      <td>I've learned how to program in Kotlin through ...</td>\n",
       "      <td>programming</td>\n",
       "      <td>Kotlin</td>\n",
       "    </tr>\n",
       "    <tr>\n",
       "      <th>2959</th>\n",
       "      <td>Questions about a project I'm working on</td>\n",
       "      <td>I volunteered to attempt to put together what ...</td>\n",
       "      <td>programming</td>\n",
       "      <td>Kotlin</td>\n",
       "    </tr>\n",
       "    <tr>\n",
       "      <th>165</th>\n",
       "      <td>I made an automatic Scrabble solver</td>\n",
       "      <td>&amp;#x200B;\\n\\nhttps://reddit.com/link/snzlvj/vid...</td>\n",
       "      <td>programming</td>\n",
       "      <td>Python</td>\n",
       "    </tr>\n",
       "  </tbody>\n",
       "</table>\n",
       "</div>"
      ],
      "text/plain": [
       "                                         title  \\\n",
       "2     I made a CLI-version of Wordle in Python   \n",
       "7258  Do you consider yourselves \"Adrenaline J   \n",
       "2976                 Don't know where to begin   \n",
       "2959  Questions about a project I'm working on   \n",
       "165        I made an automatic Scrabble solver   \n",
       "\n",
       "                                                   text            class  \\\n",
       "2     Hopefully I am not too late to the party! I am...      programming   \n",
       "7258  I've noticed a lot people call themselves \"adr...  non programming   \n",
       "2976  I've learned how to program in Kotlin through ...      programming   \n",
       "2959  I volunteered to attempt to put together what ...      programming   \n",
       "165   &#x200B;\\n\\nhttps://reddit.com/link/snzlvj/vid...      programming   \n",
       "\n",
       "            language  \n",
       "2             Python  \n",
       "7258  Not a language  \n",
       "2976          Kotlin  \n",
       "2959          Kotlin  \n",
       "165           Python  "
      ]
     },
     "execution_count": 35,
     "metadata": {},
     "output_type": "execute_result"
    }
   ],
   "source": [
    "train_set.head()"
   ]
  },
  {
   "cell_type": "code",
   "execution_count": 36,
   "id": "f2f2802a",
   "metadata": {},
   "outputs": [
    {
     "data": {
      "text/html": [
       "<div>\n",
       "<style scoped>\n",
       "    .dataframe tbody tr th:only-of-type {\n",
       "        vertical-align: middle;\n",
       "    }\n",
       "\n",
       "    .dataframe tbody tr th {\n",
       "        vertical-align: top;\n",
       "    }\n",
       "\n",
       "    .dataframe thead th {\n",
       "        text-align: right;\n",
       "    }\n",
       "</style>\n",
       "<table border=\"1\" class=\"dataframe\">\n",
       "  <thead>\n",
       "    <tr style=\"text-align: right;\">\n",
       "      <th></th>\n",
       "      <th>title</th>\n",
       "      <th>text</th>\n",
       "      <th>class</th>\n",
       "      <th>language</th>\n",
       "    </tr>\n",
       "  </thead>\n",
       "  <tbody>\n",
       "    <tr>\n",
       "      <th>6673</th>\n",
       "      <td>Yamaha MT03 steering suddenly feels weir</td>\n",
       "      <td>Hi /rmotorcycles\\n\\nI've got a 2017 Yamaha MT0...</td>\n",
       "      <td>non programming</td>\n",
       "      <td>Not a language</td>\n",
       "    </tr>\n",
       "    <tr>\n",
       "      <th>2477</th>\n",
       "      <td>[GEAR] NGD My setup with a new PRS McCar</td>\n",
       "      <td>[New PRS McCarty 10 Top](https://imgur.com/a/y...</td>\n",
       "      <td>non programming</td>\n",
       "      <td>Not a language</td>\n",
       "    </tr>\n",
       "    <tr>\n",
       "      <th>4457</th>\n",
       "      <td>Highschool LaMelo asking if Luka Doncic</td>\n",
       "      <td>Who remembers that Ball in the Family episode ...</td>\n",
       "      <td>non programming</td>\n",
       "      <td>Not a language</td>\n",
       "    </tr>\n",
       "    <tr>\n",
       "      <th>4497</th>\n",
       "      <td>Per Sam Amick on the Deuce &amp; Mo Podcast,</td>\n",
       "      <td>Find it hilarious that the Lakers would even t...</td>\n",
       "      <td>non programming</td>\n",
       "      <td>Not a language</td>\n",
       "    </tr>\n",
       "    <tr>\n",
       "      <th>2411</th>\n",
       "      <td>Electric guitar to learn on [newbie]</td>\n",
       "      <td>I wanna learn electric guitar\\nAfter an age of...</td>\n",
       "      <td>non programming</td>\n",
       "      <td>Not a language</td>\n",
       "    </tr>\n",
       "  </tbody>\n",
       "</table>\n",
       "</div>"
      ],
      "text/plain": [
       "                                         title  \\\n",
       "6673  Yamaha MT03 steering suddenly feels weir   \n",
       "2477  [GEAR] NGD My setup with a new PRS McCar   \n",
       "4457  Highschool LaMelo asking if Luka Doncic    \n",
       "4497  Per Sam Amick on the Deuce & Mo Podcast,   \n",
       "2411      Electric guitar to learn on [newbie]   \n",
       "\n",
       "                                                   text            class  \\\n",
       "6673  Hi /rmotorcycles\\n\\nI've got a 2017 Yamaha MT0...  non programming   \n",
       "2477  [New PRS McCarty 10 Top](https://imgur.com/a/y...  non programming   \n",
       "4457  Who remembers that Ball in the Family episode ...  non programming   \n",
       "4497  Find it hilarious that the Lakers would even t...  non programming   \n",
       "2411  I wanna learn electric guitar\\nAfter an age of...  non programming   \n",
       "\n",
       "            language  \n",
       "6673  Not a language  \n",
       "2477  Not a language  \n",
       "4457  Not a language  \n",
       "4497  Not a language  \n",
       "2411  Not a language  "
      ]
     },
     "execution_count": 36,
     "metadata": {},
     "output_type": "execute_result"
    }
   ],
   "source": [
    "test_set.head()"
   ]
  },
  {
   "cell_type": "markdown",
   "id": "37e8a7d3",
   "metadata": {},
   "source": [
    "## 3. Rappresentazione Bag of Word e creazione del vettore BOW"
   ]
  },
  {
   "cell_type": "markdown",
   "id": "6a79a317",
   "metadata": {},
   "source": [
    "Dopo aver ottenuto i set su cui lavorare è necessario applicare ad essi una **funzione di trasformazione** che permetta di rappresentare in una forma comprensibile all'algoritmo.\n",
    "A tal proposito utilizziamo la rappresentazione **Bag of Words** che dato un corpus di documenti (i nostri post) ritorna una rappresentazione che non considera l'ordine o il significato delle parole: dopo una fase di pre-processing in cui vengono applicati alcuni step della **NLP pipeline** ad ogni post verrà associato un ***vettore di lunghezza fissa*** che lo rappresenta in cui saranno evidenziati soltanto i termini appartenenti a quello specifico documento.\n",
    "Per effettuare quest'operazione utilizzeremo ancora **sklearn** e in particolare l'oggetto **CountVectorizer**."
   ]
  },
  {
   "cell_type": "code",
   "execution_count": 37,
   "id": "0c74722c",
   "metadata": {},
   "outputs": [],
   "source": [
    "from sklearn.feature_extraction.text import CountVectorizer\n",
    "count_vect = CountVectorizer()"
   ]
  },
  {
   "cell_type": "code",
   "execution_count": 38,
   "id": "7522c9f0",
   "metadata": {},
   "outputs": [
    {
     "data": {
      "text/plain": [
       "<3598x25560 sparse matrix of type '<class 'numpy.int64'>'\n",
       "\twith 262126 stored elements in Compressed Sparse Row format>"
      ]
     },
     "execution_count": 38,
     "metadata": {},
     "output_type": "execute_result"
    }
   ],
   "source": [
    "x_train = count_vect.fit_transform(train_set['text'])\n",
    "x_train"
   ]
  },
  {
   "cell_type": "markdown",
   "id": "50030a4f",
   "metadata": {},
   "source": [
    "Come possiamo notare, dopo l'applicazione della funzione, il training set verrà rappresentato attraverso una **sparse matrix** e non più come un **dataframe**, questo per ottimizzare lo spazio occupato."
   ]
  },
  {
   "cell_type": "code",
   "execution_count": 39,
   "id": "7b09fbc6",
   "metadata": {},
   "outputs": [
    {
     "name": "stdout",
     "output_type": "stream",
     "text": [
      "25560\n"
     ]
    }
   ],
   "source": [
    "print(len(count_vect.vocabulary_))"
   ]
  },
  {
   "cell_type": "markdown",
   "id": "c6096802",
   "metadata": {},
   "source": [
    "Un'altra importante informazione da visualizzare è la lunghezza del **vocabolario**, essa infatti rappresenta il numero di token estratti dal corpus. A partire da questa grandezza, ogni post verrà rappresentato tramite un vettore di lunghezza pari alla grandezza del vocabolario."
   ]
  },
  {
   "cell_type": "markdown",
   "id": "f51155ba",
   "metadata": {},
   "source": [
    "## 4. Classificazione kNN con k pari 1"
   ]
  },
  {
   "cell_type": "markdown",
   "id": "c050ab19",
   "metadata": {},
   "source": [
    "L'algoritmo **kNN** nasce come ottimizzazione dell'algoritmo **Neirest Neighbour**, infatti **k** è un **iperparametro** che rappresenta il numero di vicini nell'intorno dell'osservazione da classificare che verranno considerati per stimare la classe del dato in input.\n",
    "\n",
    "Come prima cosa applichiamo il kNN nella sua versione **Naive** (k=1) per osservarne i risultati."
   ]
  },
  {
   "cell_type": "code",
   "execution_count": 40,
   "id": "0c772d2d",
   "metadata": {},
   "outputs": [],
   "source": [
    "from sklearn.neighbors import KNeighborsClassifier\n",
    "knn = KNeighborsClassifier(n_neighbors=1)  #impostiamo il numero di vicini pari a uno"
   ]
  },
  {
   "cell_type": "markdown",
   "id": "51d438a0",
   "metadata": {},
   "source": [
    "Effettuiamo il training tramite la funzione **fit** fornita da sklearn:"
   ]
  },
  {
   "cell_type": "code",
   "execution_count": 41,
   "id": "48cbdb47",
   "metadata": {},
   "outputs": [
    {
     "data": {
      "text/plain": [
       "KNeighborsClassifier(n_neighbors=1)"
      ]
     },
     "execution_count": 41,
     "metadata": {},
     "output_type": "execute_result"
    }
   ],
   "source": [
    "knn.fit(x_train, train_set['class'])"
   ]
  },
  {
   "cell_type": "markdown",
   "id": "58e9e93f",
   "metadata": {},
   "source": [
    "Dopo aver addestrato il classificatore è possibile effettuare una prova applicandolo su un'osservazione del test set che non ha mai visto e confrontandola con la classe di appartenenza reale. L'algoritmo è addestrato sulla rappresentazione bow dei post, sarà dunque prima necessario trasformare anche l'osservazione in input opportunamente:"
   ]
  },
  {
   "cell_type": "code",
   "execution_count": 42,
   "id": "f32ffb8c",
   "metadata": {},
   "outputs": [
    {
     "data": {
      "text/plain": [
       "'[New PRS McCarty 10 Top](https://imgur.com/a/y7OKUsW)\\n\\nJust got this today. Very excited. Always wanted a PRS and I finally got one. \\n\\nThis thing is so pretty and super playable. I think I’m a fan of the thicker neck compared to my Strat.'"
      ]
     },
     "execution_count": 42,
     "metadata": {},
     "output_type": "execute_result"
    }
   ],
   "source": [
    "test = test_set.iloc[1]['text']\n",
    "trueclass = test_set.iloc[1]['class']\n",
    "test"
   ]
  },
  {
   "cell_type": "code",
   "execution_count": 43,
   "id": "22e21be5",
   "metadata": {},
   "outputs": [
    {
     "data": {
      "text/plain": [
       "<1x25560 sparse matrix of type '<class 'numpy.int64'>'\n",
       "\twith 35 stored elements in Compressed Sparse Row format>"
      ]
     },
     "execution_count": 43,
     "metadata": {},
     "output_type": "execute_result"
    }
   ],
   "source": [
    "feats=count_vect.transform([test])\n",
    "feats"
   ]
  },
  {
   "cell_type": "code",
   "execution_count": 44,
   "id": "59424e88",
   "metadata": {},
   "outputs": [
    {
     "name": "stdout",
     "output_type": "stream",
     "text": [
      "classe predetta: programming\n",
      "classe reale: non programming\n"
     ]
    }
   ],
   "source": [
    "print(\"classe predetta:\", knn.predict(feats)[0])\n",
    "print(\"classe reale:\", trueclass)"
   ]
  },
  {
   "cell_type": "markdown",
   "id": "2998b636",
   "metadata": {},
   "source": [
    "Calcoliamo adesso la predizione su tutti gli elementi del test set per poi poter ricavare delle **misure di performance** del classificatore:"
   ]
  },
  {
   "cell_type": "code",
   "execution_count": 45,
   "id": "2fab3796",
   "metadata": {},
   "outputs": [],
   "source": [
    "x_test = count_vect.transform(test_set['text'])\n",
    "y_test_pred = knn.predict(x_test)"
   ]
  },
  {
   "cell_type": "markdown",
   "id": "b104f5bd",
   "metadata": {},
   "source": [
    "Come misura utilizzeremo l'**f1-score**, una misura ottenuta come **la media armonica di precision e recall** che fornisce una **visuale completa** della bontà del classificatore."
   ]
  },
  {
   "cell_type": "code",
   "execution_count": 46,
   "id": "3c7c8d11",
   "metadata": {},
   "outputs": [
    {
     "name": "stdout",
     "output_type": "stream",
     "text": [
      "F1-score K = 1: 0.7944111776447106\n"
     ]
    }
   ],
   "source": [
    "from sklearn.metrics import f1_score\n",
    "\n",
    "f1_scores = f1_score(test_set['class'], y_test_pred, average=None, labels=['programming'])[0]\n",
    "print(\"F1-score K = 1:\", f1_scores)"
   ]
  },
  {
   "cell_type": "markdown",
   "id": "cbd164ed",
   "metadata": {},
   "source": [
    "Per avere contezza degli errori del classificatore, essendo agevolati dalla situazione binaria in cui ci troviamo è possibile visualizzare la **confusion matrix** che fornisce la quantità di osservazioni classificate correttamente e la tipologia di errori commessi, in genere si preferiscono valori alti sulla diagonale principale e viceversa valori bassi sulla diagonale secondaria. Infatti, essendo rappresentate sull'asse delle ascisse i valori **predetti** e su quella delle ordinate i valori **reali** le osservazioni per cui i due valori coincidono (diagonale principale) saranno quelle classificate correttamente."
   ]
  },
  {
   "cell_type": "code",
   "execution_count": 47,
   "id": "a2536ab4",
   "metadata": {},
   "outputs": [
    {
     "data": {
      "text/plain": [
       "<sklearn.metrics._plot.confusion_matrix.ConfusionMatrixDisplay at 0x7f9e26262580>"
      ]
     },
     "execution_count": 47,
     "metadata": {},
     "output_type": "execute_result"
    },
    {
     "data": {
      "image/png": "[encoded data removed]",
      "text/plain": [
       "<Figure size 432x288 with 2 Axes>"
      ]
     },
     "metadata": {
      "needs_background": "light"
     },
     "output_type": "display_data"
    }
   ],
   "source": [
    "from sklearn.metrics import ConfusionMatrixDisplay\n",
    "ConfusionMatrixDisplay.from_predictions(test_set['class'], y_test_pred)"
   ]
  },
  {
   "cell_type": "markdown",
   "id": "929913ea",
   "metadata": {},
   "source": [
    "## 5. Stima del K migliore"
   ]
  },
  {
   "cell_type": "markdown",
   "id": "79a11d10",
   "metadata": {},
   "source": [
    "Come detto prima, k è un iperparametro che va ottimizzato sulla base di un **validation set**, infatti al fine di ottenere il massimo rendimento dal classificatore, k va scelto con criterio. Per effettuare il **\"tuning\"** di k, verra usata ancora sklearn, in particolare tramite il metodo **GridSearchCV** verranno testati vari k (***da 1 a 20***): il k che otterrà f1score migliore verrà scelto come iperaparametro."
   ]
  },
  {
   "cell_type": "code",
   "execution_count": 48,
   "id": "8d62bd1b",
   "metadata": {},
   "outputs": [],
   "source": [
    "from sklearn.model_selection import GridSearchCV\n",
    "from sklearn.metrics import f1_score, make_scorer\n",
    "\n",
    "knn = KNeighborsClassifier()\n",
    "\n",
    "#definiamo che i k da testare vanno da 1 a 20\n",
    "param_grid = {'n_neighbors': np.arange(1, 20)}\n",
    "\n",
    "#specifichiamo che vogliamo utilizzare l'f1score come misura di confronto\n",
    "f1 = make_scorer(f1_score , average='macro')\n",
    "gs = GridSearchCV(knn, param_grid, cv=5,  scoring=f1)\n",
    "gs.fit(x_train,train_set['class'])\n",
    "bestK= gs.best_params_['n_neighbors']"
   ]
  },
  {
   "cell_type": "markdown",
   "id": "2f4966f1",
   "metadata": {},
   "source": [
    "Cerchiamo adesso un **riscontro grafico** che ci permetta di osservare l'andamento dell'algoritmo al variare di k."
   ]
  },
  {
   "cell_type": "code",
   "execution_count": 49,
   "id": "845afddc",
   "metadata": {},
   "outputs": [
    {
     "data": {
      "image/png": "[encoded data removed]",
      "text/plain": [
       "<Figure size 1152x360 with 1 Axes>"
      ]
     },
     "metadata": {
      "needs_background": "light"
     },
     "output_type": "display_data"
    }
   ],
   "source": [
    "import matplotlib.pyplot as plt \n",
    "asseY = gs.cv_results_['mean_test_score']\n",
    "asseX = list(range(1,20))\n",
    "plt.figure(figsize = (16,5))\n",
    "plt.plot(asseY)\n",
    "plt.xticks(np.arange(len(asseY)), np.arange(1, len(asseY)+1)) #tick asse X\n",
    "\n",
    "plt.title(\"best K \")\n",
    "plt.xlabel(\"K\")\n",
    "plt.ylabel(\"mean_test_score\")\n",
    "max_value = max(asseY) \n",
    "max_index =np.where(asseY == max_value) #cerco dove il valore è max per stampare poi la linea rossa\n",
    "plt.axvline(max_index, color = \"r\")\n",
    "plt.show()"
   ]
  },
  {
   "cell_type": "markdown",
   "id": "b242791b",
   "metadata": {},
   "source": [
    "Possiamo adesso visualizzare l'output ottenuto dal tuning, ovvero il k migliore:"
   ]
  },
  {
   "cell_type": "code",
   "execution_count": 50,
   "id": "d814710d",
   "metadata": {},
   "outputs": [
    {
     "name": "stdout",
     "output_type": "stream",
     "text": [
      "k migliore: 13\n"
     ]
    }
   ],
   "source": [
    "print(\"k migliore:\", bestK)"
   ]
  },
  {
   "cell_type": "markdown",
   "id": "e5dcf16d",
   "metadata": {},
   "source": [
    "Dopo aver stimato il parametro k ideale rieffettuiamo la classificazione e calcoliamo l'f1score e la matrice di confusione nuovamente:"
   ]
  },
  {
   "cell_type": "code",
   "execution_count": 51,
   "id": "3a676a91",
   "metadata": {},
   "outputs": [
    {
     "name": "stdout",
     "output_type": "stream",
     "text": [
      "F1-score k = 13 : 0.8034643570952699\n"
     ]
    }
   ],
   "source": [
    "knn = KNeighborsClassifier(n_neighbors=3)\n",
    "knn.fit(x_train, train_set['class'])\n",
    "x_test = count_vect.transform(test_set['text'])\n",
    "y_test_pred2 = knn.predict(x_test)\n",
    "f1_scores = f1_score(test_set['class'], y_test_pred2, average=None, labels=['programming'])[0]\n",
    "print(\"F1-score k =\",bestK,\":\", f1_scores)"
   ]
  },
  {
   "cell_type": "markdown",
   "id": "d73c2757",
   "metadata": {},
   "source": [
    "Matrice di confusione con k ottimale:"
   ]
  },
  {
   "cell_type": "code",
   "execution_count": 52,
   "id": "7e192ed6",
   "metadata": {},
   "outputs": [
    {
     "data": {
      "text/plain": [
       "<sklearn.metrics._plot.confusion_matrix.ConfusionMatrixDisplay at 0x7f9e25fd9df0>"
      ]
     },
     "execution_count": 52,
     "metadata": {},
     "output_type": "execute_result"
    },
    {
     "data": {
      "image/png": "[encoded data removed]",
      "text/plain": [
       "<Figure size 432x288 with 2 Axes>"
      ]
     },
     "metadata": {
      "needs_background": "light"
     },
     "output_type": "display_data"
    }
   ],
   "source": [
    "from sklearn.metrics import ConfusionMatrixDisplay\n",
    "ConfusionMatrixDisplay.from_predictions(test_set['class'], y_test_pred)"
   ]
  },
  {
   "cell_type": "markdown",
   "id": "5d517bbf",
   "metadata": {},
   "source": [
    "## 6. Ottimizzazione tramite rappresentazione TF-IDF"
   ]
  },
  {
   "cell_type": "markdown",
   "id": "56d49f9a",
   "metadata": {},
   "source": [
    "Si cerca adesso ad ottimizzare la rappresentazione dei dati a disposizione allo scopo di migliorare le performance del classificatore.\n",
    "L'obiettivo è quello di fornire a parole meno frequenti (e quindi più significative) un peso maggiore e viceversa a parole più frequenti (meno significative) un peso minore. Questa tipologia di rappresentazione prende il nome di **TF-IDF** e permette di ottenere una classificazione più accurata e meno sensibile agli **outliers**.\n",
    "Per realizzare quanto detto prima, verrà istanziato un nuovo classificatore che sarà però addestrato sui dati rappresentati tramite l'oggetto **TfidfTransformer** fornito da sklearn che calcola la rappresentazione **TF-IDF** dei post."
   ]
  },
  {
   "cell_type": "code",
   "execution_count": 53,
   "id": "737e546e",
   "metadata": {},
   "outputs": [],
   "source": [
    "from sklearn.feature_extraction.text import TfidfTransformer\n",
    "count_vect = CountVectorizer()\n",
    "tf_transformer = TfidfTransformer(use_idf=False)\n",
    "\n",
    "x_train_counts = count_vect.fit_transform(train_set['text'])\n",
    "x_train_tf_idf = tf_transformer.fit_transform(x_train_counts)\n",
    "\n",
    "x_test_counts = count_vect.transform(test_set['text'])\n",
    "x_test_tf_idf = tf_transformer.fit_transform(x_test_counts)"
   ]
  },
  {
   "cell_type": "markdown",
   "id": "38bcb71e",
   "metadata": {},
   "source": [
    "Dopo aver ottenuto la rappresentazione tf-idf dei dati, ricerchiamo il k migliore per poi applicare l'algoritmo kNN:"
   ]
  },
  {
   "cell_type": "code",
   "execution_count": 54,
   "id": "803c638d",
   "metadata": {},
   "outputs": [],
   "source": [
    "from sklearn.model_selection import GridSearchCV\n",
    "from sklearn.metrics import f1_score, make_scorer\n",
    "\n",
    "knn = KNeighborsClassifier()\n",
    "\n",
    "#definiamo che i k da testare vanno da 1 a 20\n",
    "param_grid = {'n_neighbors': np.arange(1, 20)}\n",
    "\n",
    "#specifichiamo che vogliamo utilizzare l'f1score come misura di confronto\n",
    "f1 = make_scorer(f1_score , average='macro')\n",
    "gs = GridSearchCV(knn, param_grid, cv=5,  scoring=f1)\n",
    "gs.fit(x_train_tf_idf,train_set['class'])\n",
    "bestK2= gs.best_params_['n_neighbors']"
   ]
  },
  {
   "cell_type": "code",
   "execution_count": 55,
   "id": "c7442d84",
   "metadata": {},
   "outputs": [
    {
     "name": "stdout",
     "output_type": "stream",
     "text": [
      "k migliore tf-idf: 10\n"
     ]
    }
   ],
   "source": [
    "print(\"k migliore tf-idf:\", bestK2)"
   ]
  },
  {
   "cell_type": "markdown",
   "id": "72e9e4aa",
   "metadata": {},
   "source": [
    "Addestriamo ora l'algoritmo utilizzando il k migliore"
   ]
  },
  {
   "cell_type": "code",
   "execution_count": 56,
   "id": "8314925e",
   "metadata": {},
   "outputs": [
    {
     "data": {
      "text/plain": [
       "KNeighborsClassifier(n_neighbors=10)"
      ]
     },
     "execution_count": 56,
     "metadata": {},
     "output_type": "execute_result"
    }
   ],
   "source": [
    "classifier = KNeighborsClassifier(n_neighbors=bestK2)\n",
    "classifier.fit(x_train_tf_idf, train_set['class'])"
   ]
  },
  {
   "cell_type": "markdown",
   "id": "8efc29f1",
   "metadata": {},
   "source": [
    "calcoliamo l'**f1-score**:"
   ]
  },
  {
   "cell_type": "code",
   "execution_count": 57,
   "id": "345ce83f",
   "metadata": {},
   "outputs": [
    {
     "name": "stdout",
     "output_type": "stream",
     "text": [
      "f1-score tf-idf: 0.9019354838709678\n"
     ]
    }
   ],
   "source": [
    "y_test_preds = classifier.predict(x_test_tf_idf)\n",
    "f1_scores=f1_score(test_set['class'],y_test_preds, average=None, labels=['programming'])[0]\n",
    "print(\"f1-score tf-idf:\",f1_scores)"
   ]
  },
  {
   "cell_type": "markdown",
   "id": "2e7682bd",
   "metadata": {},
   "source": [
    "Anche in questo caso è possibile ottenere la matrice di confusione:"
   ]
  },
  {
   "cell_type": "code",
   "execution_count": 58,
   "id": "24cb396a",
   "metadata": {},
   "outputs": [
    {
     "data": {
      "text/plain": [
       "<sklearn.metrics._plot.confusion_matrix.ConfusionMatrixDisplay at 0x7f9e25f4a2b0>"
      ]
     },
     "execution_count": 58,
     "metadata": {},
     "output_type": "execute_result"
    },
    {
     "data": {
      "image/png": "[encoded data removed]",
      "text/plain": [
       "<Figure size 432x288 with 2 Axes>"
      ]
     },
     "metadata": {
      "needs_background": "light"
     },
     "output_type": "display_data"
    }
   ],
   "source": [
    "from sklearn.metrics import ConfusionMatrixDisplay\n",
    "ConfusionMatrixDisplay.from_predictions(test_set['class'], y_test_preds)"
   ]
  },
  {
   "cell_type": "markdown",
   "id": "867498f2",
   "metadata": {},
   "source": [
    "## 7. Confronto tra i vari classificatori"
   ]
  },
  {
   "cell_type": "markdown",
   "id": "c2f25787",
   "metadata": {},
   "source": [
    "E' possibile adesso confrontare i tre risultati ottenuti visualizzando la **curva PR**, ovvero la curva che mette in realzione **precision** e **recall**. Prima di fare ciò è però necessario ai fini della rappresentazione, mappare i nomi delle classi, avremo dunque:\n",
    "* **non programming** = 0;\n",
    "* **programming** = 1;\n",
    "\n",
    "Di seguito il processo di mapping e il plot della curva PR:"
   ]
  },
  {
   "cell_type": "code",
   "execution_count": 59,
   "id": "8f06f042",
   "metadata": {
    "scrolled": true
   },
   "outputs": [
    {
     "data": {
      "image/png": "[encoded data removed]",
      "text/plain": [
       "<Figure size 720x432 with 1 Axes>"
      ]
     },
     "metadata": {
      "needs_background": "light"
     },
     "output_type": "display_data"
    }
   ],
   "source": [
    "#map delle etichette reali\n",
    "test_zero_one = test_set.copy()\n",
    "test_zero_one = test_zero_one.replace(to_replace=['non programming', 'programming'], value=[0, 1])\n",
    "\n",
    "#map delle varie predizioni\n",
    "y_preds_zero_one_tf_idf = y_test_preds.copy()\n",
    "for i in range(y_preds_zero_one_tf_idf.size):\n",
    "    if(y_preds_zero_one_tf_idf[i] == 'programming'):\n",
    "        y_preds_zero_one_tf_idf[i] = 1\n",
    "    else:\n",
    "        y_preds_zero_one_tf_idf[i] = 0\n",
    "\n",
    "        \n",
    "y_preds_zero_one_bestk = y_test_pred2.copy()\n",
    "for i in range(y_preds_zero_one_bestk.size):\n",
    "    if(y_preds_zero_one_bestk[i] == 'programming'):\n",
    "        y_preds_zero_one_bestk[i] = 1\n",
    "    else:\n",
    "        y_preds_zero_one_bestk[i] = 0\n",
    "        \n",
    "y_preds_zero_one_k1 = y_test_pred.copy()\n",
    "for i in range(y_preds_zero_one_k1.size):\n",
    "    if(y_preds_zero_one_k1[i] == 'programming'):\n",
    "        y_preds_zero_one_k1[i] = 1\n",
    "    else:\n",
    "        y_preds_zero_one_k1[i] = 0  \n",
    "        \n",
    "#generazione valori x,y della curva PR e plot\n",
    "from sklearn.metrics import precision_recall_curve\n",
    "from matplotlib.pyplot import figure\n",
    "figure(figsize=(10, 6))\n",
    "\n",
    "precision_k1, recall_k1, thresholds_k1 = precision_recall_curve(test_zero_one['class'], y_preds_zero_one_k1)\n",
    "plt.plot(recall_k1, precision_k1, color='blue', label='k = 1')\n",
    "\n",
    "precision_bestk, recall_bestk, thresholds_bestk = precision_recall_curve(test_zero_one['class'], y_preds_zero_one_bestk)\n",
    "plt.plot(recall_bestk, precision_bestk, color='red', label='best k')\n",
    "\n",
    "precision_tfidf, recall_tfidf, thresholds_tfidf = precision_recall_curve(test_zero_one['class'], y_preds_zero_one_tf_idf)\n",
    "plt.plot(recall_tfidf, precision_tfidf, color='purple', label='tf-idf')\n",
    "\n",
    "plt.title('Precision-Recall Curve')\n",
    "plt.ylabel('Precision')\n",
    "plt.xlabel('Recall')\n",
    "\n",
    "#display plot\n",
    "plt.legend()\n",
    "plt.show()"
   ]
  },
  {
   "cell_type": "markdown",
   "id": "89d88776",
   "metadata": {},
   "source": [
    "E' possibile adesso calcolare l'**area under the curver**, ovvero una metrica che calcolando l'area sottesa alla curva PR permette di stimare la bontà del classificatore. L'AUC è un valore compreso tra 0 e 1, idealmente vorremmo che il nostro classificatore abbia **AUC = 1**."
   ]
  },
  {
   "cell_type": "code",
   "execution_count": 60,
   "id": "ddbed417",
   "metadata": {},
   "outputs": [
    {
     "name": "stdout",
     "output_type": "stream",
     "text": [
      "AUC k=1: 0.723\n",
      "AUC best k: 0.736\n",
      "AUC tf-idf: 0.852\n"
     ]
    }
   ],
   "source": [
    "from sklearn.metrics import roc_auc_score\n",
    "auc_k1 = roc_auc_score(test_zero_one['class'],y_preds_zero_one_k1)\n",
    "auc_bestk = roc_auc_score(test_zero_one['class'],y_preds_zero_one_bestk)\n",
    "auc_tfidf = roc_auc_score(test_zero_one['class'],y_preds_zero_one_tf_idf)\n",
    "\n",
    "print('AUC k=1: %.3f' % auc_k1)\n",
    "print('AUC best k: %.3f' % auc_bestk)\n",
    "print('AUC tf-idf: %.3f' % auc_tfidf)"
   ]
  },
  {
   "cell_type": "markdown",
   "id": "1e268d7c",
   "metadata": {},
   "source": [
    "## 8. Classificazione del linguaggio di programmazione"
   ]
  },
  {
   "cell_type": "markdown",
   "id": "cd3ea78b",
   "metadata": {},
   "source": [
    "Dopo aver classificato i post, è possibile applicare un'altra istanza dell'algoritmo kNN in grado di predirre il linguaggio di interesse di un determinato post, a tal proposito utilizzeremo come dataset di partenza tutte le osservazioni classificate come \"programming\" dal precedente classificatore. \n",
    "Questo dataset dovrà quindi essere diviso in trainig set e test set per effettuare l'addestramento, il tuning dei parametri e una prova su dati mai visti."
   ]
  },
  {
   "cell_type": "markdown",
   "id": "6a0d2876",
   "metadata": {},
   "source": [
    "Il primo passo è quello di creare  un dataframe che contiene solamente i post che sono stati classificati come \"programming\" nel test set utilizzato dall'algoritmo precedente. Avendo a disposizione il test set e gli indici ottenuti dal classificatore è sufficiente un'operazione di **filtraggio**.\n",
    "\n",
    "Come prima cosa conserviamo solo gli indici dei post classificati come \"non programming\" in modo da rimuoverli successivamente dal dataset iniziale:"
   ]
  },
  {
   "cell_type": "code",
   "execution_count": 61,
   "id": "a001fce7",
   "metadata": {},
   "outputs": [],
   "source": [
    "output = [idx for idx, element in enumerate(y_test_preds) if len(element) == 'non programming']"
   ]
  },
  {
   "cell_type": "markdown",
   "id": "cda344de",
   "metadata": {},
   "source": [
    "A questo punto, possono essere rimossi dal vecchio test set tutti i record la cui predizione è diversa da 'programming'. Otterremo il nuovo dataset (che verrà usato dal nuovo algoritmo) che prenderà il nome di **DfProg**:"
   ]
  },
  {
   "cell_type": "code",
   "execution_count": 62,
   "id": "3a397945",
   "metadata": {},
   "outputs": [
    {
     "data": {
      "text/html": [
       "<div>\n",
       "<style scoped>\n",
       "    .dataframe tbody tr th:only-of-type {\n",
       "        vertical-align: middle;\n",
       "    }\n",
       "\n",
       "    .dataframe tbody tr th {\n",
       "        vertical-align: top;\n",
       "    }\n",
       "\n",
       "    .dataframe thead th {\n",
       "        text-align: right;\n",
       "    }\n",
       "</style>\n",
       "<table border=\"1\" class=\"dataframe\">\n",
       "  <thead>\n",
       "    <tr style=\"text-align: right;\">\n",
       "      <th></th>\n",
       "      <th>title</th>\n",
       "      <th>text</th>\n",
       "      <th>class</th>\n",
       "      <th>language</th>\n",
       "    </tr>\n",
       "  </thead>\n",
       "  <tbody>\n",
       "    <tr>\n",
       "      <th>6673</th>\n",
       "      <td>Yamaha MT03 steering suddenly feels weir</td>\n",
       "      <td>Hi /rmotorcycles\\n\\nI've got a 2017 Yamaha MT0...</td>\n",
       "      <td>non programming</td>\n",
       "      <td>Not a language</td>\n",
       "    </tr>\n",
       "    <tr>\n",
       "      <th>2477</th>\n",
       "      <td>[GEAR] NGD My setup with a new PRS McCar</td>\n",
       "      <td>[New PRS McCarty 10 Top](https://imgur.com/a/y...</td>\n",
       "      <td>non programming</td>\n",
       "      <td>Not a language</td>\n",
       "    </tr>\n",
       "    <tr>\n",
       "      <th>4457</th>\n",
       "      <td>Highschool LaMelo asking if Luka Doncic</td>\n",
       "      <td>Who remembers that Ball in the Family episode ...</td>\n",
       "      <td>non programming</td>\n",
       "      <td>Not a language</td>\n",
       "    </tr>\n",
       "    <tr>\n",
       "      <th>4497</th>\n",
       "      <td>Per Sam Amick on the Deuce &amp; Mo Podcast,</td>\n",
       "      <td>Find it hilarious that the Lakers would even t...</td>\n",
       "      <td>non programming</td>\n",
       "      <td>Not a language</td>\n",
       "    </tr>\n",
       "    <tr>\n",
       "      <th>2411</th>\n",
       "      <td>Electric guitar to learn on [newbie]</td>\n",
       "      <td>I wanna learn electric guitar\\nAfter an age of...</td>\n",
       "      <td>non programming</td>\n",
       "      <td>Not a language</td>\n",
       "    </tr>\n",
       "    <tr>\n",
       "      <th>...</th>\n",
       "      <td>...</td>\n",
       "      <td>...</td>\n",
       "      <td>...</td>\n",
       "      <td>...</td>\n",
       "    </tr>\n",
       "    <tr>\n",
       "      <th>2917</th>\n",
       "      <td>Is IntelliJ the only working IDE for Kot</td>\n",
       "      <td>I tried NetBeans, and discovered that its Kotl...</td>\n",
       "      <td>programming</td>\n",
       "      <td>Kotlin</td>\n",
       "    </tr>\n",
       "    <tr>\n",
       "      <th>9028</th>\n",
       "      <td>suggestion on a way to make a simple cli</td>\n",
       "      <td>title says it all, id appreciate the help</td>\n",
       "      <td>programming</td>\n",
       "      <td>Go</td>\n",
       "    </tr>\n",
       "    <tr>\n",
       "      <th>2008</th>\n",
       "      <td>Headed to Morimoto on Saturday</td>\n",
       "      <td>Headed to Morimoto (in Philly) for the first t...</td>\n",
       "      <td>non programming</td>\n",
       "      <td>Not a language</td>\n",
       "    </tr>\n",
       "    <tr>\n",
       "      <th>6075</th>\n",
       "      <td>chat application kafka/angular</td>\n",
       "      <td>hi guys i want to create a chat application wi...</td>\n",
       "      <td>programming</td>\n",
       "      <td>Angular</td>\n",
       "    </tr>\n",
       "    <tr>\n",
       "      <th>2557</th>\n",
       "      <td>[QUESTION] Questions about Modern Japane</td>\n",
       "      <td>Hey Everyone,\\n\\nI've been interested in Fende...</td>\n",
       "      <td>non programming</td>\n",
       "      <td>Not a language</td>\n",
       "    </tr>\n",
       "  </tbody>\n",
       "</table>\n",
       "<p>1200 rows × 4 columns</p>\n",
       "</div>"
      ],
      "text/plain": [
       "                                         title  \\\n",
       "6673  Yamaha MT03 steering suddenly feels weir   \n",
       "2477  [GEAR] NGD My setup with a new PRS McCar   \n",
       "4457  Highschool LaMelo asking if Luka Doncic    \n",
       "4497  Per Sam Amick on the Deuce & Mo Podcast,   \n",
       "2411      Electric guitar to learn on [newbie]   \n",
       "...                                        ...   \n",
       "2917  Is IntelliJ the only working IDE for Kot   \n",
       "9028  suggestion on a way to make a simple cli   \n",
       "2008            Headed to Morimoto on Saturday   \n",
       "6075            chat application kafka/angular   \n",
       "2557  [QUESTION] Questions about Modern Japane   \n",
       "\n",
       "                                                   text            class  \\\n",
       "6673  Hi /rmotorcycles\\n\\nI've got a 2017 Yamaha MT0...  non programming   \n",
       "2477  [New PRS McCarty 10 Top](https://imgur.com/a/y...  non programming   \n",
       "4457  Who remembers that Ball in the Family episode ...  non programming   \n",
       "4497  Find it hilarious that the Lakers would even t...  non programming   \n",
       "2411  I wanna learn electric guitar\\nAfter an age of...  non programming   \n",
       "...                                                 ...              ...   \n",
       "2917  I tried NetBeans, and discovered that its Kotl...      programming   \n",
       "9028          title says it all, id appreciate the help      programming   \n",
       "2008  Headed to Morimoto (in Philly) for the first t...  non programming   \n",
       "6075  hi guys i want to create a chat application wi...      programming   \n",
       "2557  Hey Everyone,\\n\\nI've been interested in Fende...  non programming   \n",
       "\n",
       "            language  \n",
       "6673  Not a language  \n",
       "2477  Not a language  \n",
       "4457  Not a language  \n",
       "4497  Not a language  \n",
       "2411  Not a language  \n",
       "...              ...  \n",
       "2917          Kotlin  \n",
       "9028              Go  \n",
       "2008  Not a language  \n",
       "6075         Angular  \n",
       "2557  Not a language  \n",
       "\n",
       "[1200 rows x 4 columns]"
      ]
     },
     "execution_count": 62,
     "metadata": {},
     "output_type": "execute_result"
    }
   ],
   "source": [
    "dfProg = test_set.copy()\n",
    "dfProg = dfProg.drop(labels=output, axis=0)\n",
    "dfProg"
   ]
  },
  {
   "cell_type": "markdown",
   "id": "ec5df382",
   "metadata": {},
   "source": [
    "Per rendere più accurata la classificazione, rimuoviamo adesso i record il cui linguaggio è \"Not a language\", essi infatti apparterrebbero ad una classe non utile ai nostri fini che potrebbe introdurre degli errori:"
   ]
  },
  {
   "cell_type": "code",
   "execution_count": 63,
   "id": "382c3219",
   "metadata": {},
   "outputs": [
    {
     "data": {
      "text/html": [
       "<div>\n",
       "<style scoped>\n",
       "    .dataframe tbody tr th:only-of-type {\n",
       "        vertical-align: middle;\n",
       "    }\n",
       "\n",
       "    .dataframe tbody tr th {\n",
       "        vertical-align: top;\n",
       "    }\n",
       "\n",
       "    .dataframe thead th {\n",
       "        text-align: right;\n",
       "    }\n",
       "</style>\n",
       "<table border=\"1\" class=\"dataframe\">\n",
       "  <thead>\n",
       "    <tr style=\"text-align: right;\">\n",
       "      <th></th>\n",
       "      <th>title</th>\n",
       "      <th>text</th>\n",
       "      <th>class</th>\n",
       "      <th>language</th>\n",
       "    </tr>\n",
       "  </thead>\n",
       "  <tbody>\n",
       "    <tr>\n",
       "      <th>5826</th>\n",
       "      <td>Router navigation stops working on iPhon</td>\n",
       "      <td>Hello,\\n\\nI'm experiencing this incredibly wei...</td>\n",
       "      <td>programming</td>\n",
       "      <td>Angular</td>\n",
       "    </tr>\n",
       "    <tr>\n",
       "      <th>2985</th>\n",
       "      <td>First time using Kotlin, issues with Roo</td>\n",
       "      <td>Please feel free to let me know if this would ...</td>\n",
       "      <td>programming</td>\n",
       "      <td>Kotlin</td>\n",
       "    </tr>\n",
       "    <tr>\n",
       "      <th>3731</th>\n",
       "      <td>how to optimize netty settings in ktor?</td>\n",
       "      <td>Hi fellows, i am work with ktor and netty as s...</td>\n",
       "      <td>programming</td>\n",
       "      <td>Kotlin</td>\n",
       "    </tr>\n",
       "    <tr>\n",
       "      <th>9119</th>\n",
       "      <td>Busy waiting and the Go Memory Model</td>\n",
       "      <td>```\\nvar a string\\nvar done bool\\n\\nfunc setup...</td>\n",
       "      <td>programming</td>\n",
       "      <td>Go</td>\n",
       "    </tr>\n",
       "    <tr>\n",
       "      <th>8113</th>\n",
       "      <td>eMarket Online Store - OpenSource Engine</td>\n",
       "      <td>Hello. In January 2021, I already presented th...</td>\n",
       "      <td>programming</td>\n",
       "      <td>PHP</td>\n",
       "    </tr>\n",
       "    <tr>\n",
       "      <th>...</th>\n",
       "      <td>...</td>\n",
       "      <td>...</td>\n",
       "      <td>...</td>\n",
       "      <td>...</td>\n",
       "    </tr>\n",
       "    <tr>\n",
       "      <th>9432</th>\n",
       "      <td>Use Go with jupyter notebook inside Visu</td>\n",
       "      <td>Hi,\\n\\nIm a beginner at learning golang just w...</td>\n",
       "      <td>programming</td>\n",
       "      <td>Go</td>\n",
       "    </tr>\n",
       "    <tr>\n",
       "      <th>529</th>\n",
       "      <td>OptView2: an open source tool to inspect</td>\n",
       "      <td>Talk: [https://www.youtube.com/watch?v=nVc439d...</td>\n",
       "      <td>programming</td>\n",
       "      <td>C++</td>\n",
       "    </tr>\n",
       "    <tr>\n",
       "      <th>2917</th>\n",
       "      <td>Is IntelliJ the only working IDE for Kot</td>\n",
       "      <td>I tried NetBeans, and discovered that its Kotl...</td>\n",
       "      <td>programming</td>\n",
       "      <td>Kotlin</td>\n",
       "    </tr>\n",
       "    <tr>\n",
       "      <th>9028</th>\n",
       "      <td>suggestion on a way to make a simple cli</td>\n",
       "      <td>title says it all, id appreciate the help</td>\n",
       "      <td>programming</td>\n",
       "      <td>Go</td>\n",
       "    </tr>\n",
       "    <tr>\n",
       "      <th>6075</th>\n",
       "      <td>chat application kafka/angular</td>\n",
       "      <td>hi guys i want to create a chat application wi...</td>\n",
       "      <td>programming</td>\n",
       "      <td>Angular</td>\n",
       "    </tr>\n",
       "  </tbody>\n",
       "</table>\n",
       "<p>740 rows × 4 columns</p>\n",
       "</div>"
      ],
      "text/plain": [
       "                                         title  \\\n",
       "5826  Router navigation stops working on iPhon   \n",
       "2985  First time using Kotlin, issues with Roo   \n",
       "3731   how to optimize netty settings in ktor?   \n",
       "9119      Busy waiting and the Go Memory Model   \n",
       "8113  eMarket Online Store - OpenSource Engine   \n",
       "...                                        ...   \n",
       "9432  Use Go with jupyter notebook inside Visu   \n",
       "529   OptView2: an open source tool to inspect   \n",
       "2917  Is IntelliJ the only working IDE for Kot   \n",
       "9028  suggestion on a way to make a simple cli   \n",
       "6075            chat application kafka/angular   \n",
       "\n",
       "                                                   text        class language  \n",
       "5826  Hello,\\n\\nI'm experiencing this incredibly wei...  programming  Angular  \n",
       "2985  Please feel free to let me know if this would ...  programming   Kotlin  \n",
       "3731  Hi fellows, i am work with ktor and netty as s...  programming   Kotlin  \n",
       "9119  ```\\nvar a string\\nvar done bool\\n\\nfunc setup...  programming       Go  \n",
       "8113  Hello. In January 2021, I already presented th...  programming      PHP  \n",
       "...                                                 ...          ...      ...  \n",
       "9432  Hi,\\n\\nIm a beginner at learning golang just w...  programming       Go  \n",
       "529   Talk: [https://www.youtube.com/watch?v=nVc439d...  programming      C++  \n",
       "2917  I tried NetBeans, and discovered that its Kotl...  programming   Kotlin  \n",
       "9028          title says it all, id appreciate the help  programming       Go  \n",
       "6075  hi guys i want to create a chat application wi...  programming  Angular  \n",
       "\n",
       "[740 rows x 4 columns]"
      ]
     },
     "execution_count": 63,
     "metadata": {},
     "output_type": "execute_result"
    }
   ],
   "source": [
    "dfProg = dfProg[dfProg.language != 'Not a language']\n",
    "dfProg"
   ]
  },
  {
   "cell_type": "markdown",
   "id": "ee69212f",
   "metadata": {},
   "source": [
    "Dopo aver ottenuto il dataset dfProg, il procedimento è simile al procedente, dunque dovremo dividere il dataset in **training set** e **test set** utilizzando sempre il **metodo holdout** citato precedentemente."
   ]
  },
  {
   "cell_type": "code",
   "execution_count": 64,
   "id": "16981480",
   "metadata": {},
   "outputs": [
    {
     "name": "stdout",
     "output_type": "stream",
     "text": [
      "<class 'pandas.core.frame.DataFrame'>\n",
      "Int64Index: 555 entries, 7784 to 6551\n",
      "Data columns (total 4 columns):\n",
      " #   Column    Non-Null Count  Dtype \n",
      "---  ------    --------------  ----- \n",
      " 0   title     555 non-null    object\n",
      " 1   text      555 non-null    object\n",
      " 2   class     555 non-null    object\n",
      " 3   language  555 non-null    object\n",
      "dtypes: object(4)\n",
      "memory usage: 21.7+ KB\n",
      "\n",
      "\n",
      "<class 'pandas.core.frame.DataFrame'>\n",
      "Int64Index: 185 entries, 869 to 999\n",
      "Data columns (total 4 columns):\n",
      " #   Column    Non-Null Count  Dtype \n",
      "---  ------    --------------  ----- \n",
      " 0   title     185 non-null    object\n",
      " 1   text      185 non-null    object\n",
      " 2   class     185 non-null    object\n",
      " 3   language  185 non-null    object\n",
      "dtypes: object(4)\n",
      "memory usage: 7.2+ KB\n"
     ]
    }
   ],
   "source": [
    "np.random.seed(1234)\n",
    "\n",
    "train_set2, test_set2 = train_test_split(dfProg, test_size=0.25)\n",
    "train_set2.info(); print('\\n'); test_set2.info()"
   ]
  },
  {
   "cell_type": "markdown",
   "id": "98b2b2b6",
   "metadata": {},
   "source": [
    "Possiamo adesso calcolare la rappresentazione **tf-idf** dei nuovi set"
   ]
  },
  {
   "cell_type": "code",
   "execution_count": 65,
   "id": "3fb80f4c",
   "metadata": {},
   "outputs": [],
   "source": [
    "count_vect = CountVectorizer()\n",
    "tf_transformer = TfidfTransformer(use_idf=False)\n",
    "\n",
    "x_train_counts_language = count_vect.fit_transform(train_set2['text'])\n",
    "x_train_tf_idf_language = tf_transformer.fit_transform(x_train_counts_language)\n",
    "\n",
    "x_test_counts_language = count_vect.transform(test_set2['text'])\n",
    "x_test_tf_idf_language = tf_transformer.fit_transform(x_test_counts_language)"
   ]
  },
  {
   "cell_type": "markdown",
   "id": "2f6bfc6e",
   "metadata": {},
   "source": [
    "In analogia ai passi precedenti, dopo aver ottenuto la rappresentazione tf-idf dei dati, viene cercato il **k migliore** tramite validation set:"
   ]
  },
  {
   "cell_type": "code",
   "execution_count": 66,
   "id": "25101cb3",
   "metadata": {},
   "outputs": [],
   "source": [
    "knn = KNeighborsClassifier()\n",
    "\n",
    "#definiamo che i k da testare vanno da 1 a 20\n",
    "param_grid = {'n_neighbors': np.arange(1, 20)}\n",
    "\n",
    "#specifichiamo che vogliamo utilizzare l'f1score come misura di confronto\n",
    "f1 = make_scorer(f1_score , average='macro')\n",
    "gs = GridSearchCV(knn, param_grid, cv=5,  scoring=f1)\n",
    "gs.fit(x_train_tf_idf_language,train_set2['class'])\n",
    "bestK_language= gs.best_params_['n_neighbors']"
   ]
  },
  {
   "cell_type": "markdown",
   "id": "2ff36d07",
   "metadata": {},
   "source": [
    "A questo punto è possibile effettuare il **training** dell'algoritmo:"
   ]
  },
  {
   "cell_type": "code",
   "execution_count": 67,
   "id": "8b565f58",
   "metadata": {},
   "outputs": [
    {
     "data": {
      "text/plain": [
       "KNeighborsClassifier(n_neighbors=1)"
      ]
     },
     "execution_count": 67,
     "metadata": {},
     "output_type": "execute_result"
    }
   ],
   "source": [
    "classifier = KNeighborsClassifier(n_neighbors=bestK_language)\n",
    "classifier.fit(x_train_tf_idf_language, train_set2['language'])"
   ]
  },
  {
   "cell_type": "markdown",
   "id": "3fcf0d19",
   "metadata": {},
   "source": [
    "E' possibile quindi applicare l'algoritmo alla prima osservazione del test set per verificarne il funzionamento:"
   ]
  },
  {
   "cell_type": "code",
   "execution_count": 68,
   "id": "6c4150dd",
   "metadata": {},
   "outputs": [
    {
     "data": {
      "text/plain": [
       "\"i feel like a lot of codebases don't seem to use them -- is it mostly for test coverage?\""
      ]
     },
     "execution_count": 68,
     "metadata": {},
     "output_type": "execute_result"
    }
   ],
   "source": [
    "test = test_set2.iloc[1]['text']\n",
    "trueclass = test_set2.iloc[1]['language']\n",
    "test"
   ]
  },
  {
   "cell_type": "code",
   "execution_count": 69,
   "id": "403ee09e",
   "metadata": {},
   "outputs": [
    {
     "name": "stdout",
     "output_type": "stream",
     "text": [
      "classe predetta: C++\n",
      "classe reale: C++\n"
     ]
    }
   ],
   "source": [
    "feats=count_vect.transform([test])\n",
    "\n",
    "print(\"classe predetta:\", classifier.predict(feats)[0])\n",
    "print(\"classe reale:\", trueclass)"
   ]
  },
  {
   "cell_type": "markdown",
   "id": "358c21a9",
   "metadata": {},
   "source": [
    "Il prossimo step è quello di calcolare le predizioni di tutto il test set e calcolare l'f1score per verificare la bontà dell'algoritmo:"
   ]
  },
  {
   "cell_type": "code",
   "execution_count": 70,
   "id": "8aaf4c1b",
   "metadata": {},
   "outputs": [
    {
     "name": "stdout",
     "output_type": "stream",
     "text": [
      "f1-score language classification: 0.5\n"
     ]
    }
   ],
   "source": [
    "y_test_preds_language = classifier.predict(x_test_tf_idf_language)\n",
    "f1_scores=f1_score(test_set2['language'],y_test_preds_language, average=None)[0]\n",
    "print(\"f1-score language classification:\",f1_scores)"
   ]
  },
  {
   "cell_type": "markdown",
   "id": "06b097b9",
   "metadata": {},
   "source": [
    "E' inoltre possibile visualizzare una versione generalizzata al caso **non binario** della matrice di confusione del nuovo classificatore."
   ]
  },
  {
   "cell_type": "code",
   "execution_count": 71,
   "id": "06b67447",
   "metadata": {},
   "outputs": [
    {
     "data": {
      "text/plain": [
       "<sklearn.metrics._plot.confusion_matrix.ConfusionMatrixDisplay at 0x7f9e25e6ce20>"
      ]
     },
     "execution_count": 71,
     "metadata": {},
     "output_type": "execute_result"
    },
    {
     "data": {
      "image/png": "[encoded data removed]",
      "text/plain": [
       "<Figure size 432x288 with 2 Axes>"
      ]
     },
     "metadata": {
      "needs_background": "light"
     },
     "output_type": "display_data"
    }
   ],
   "source": [
    "ConfusionMatrixDisplay.from_predictions(test_set2['language'], y_test_preds_language)"
   ]
  },
  {
   "cell_type": "markdown",
   "id": "3f1ea3c9",
   "metadata": {},
   "source": [
    "## 9. Sentiment analysis sui post che parlano di programmazione"
   ]
  },
  {
   "cell_type": "markdown",
   "id": "4d4d405e",
   "metadata": {},
   "source": [
    "Dopo aver classificato i post provenienti dai vari subreddit, verrà adesso analizzato il **sentiment** ovvero, lo stato d'animo dell'autore quando ha scritto quel determinato post. Alla fine verrà stimata una **media** dei sentiment per vedere se in generale, tramite Reddit gli utenti esprimono le loro problematiche o evidenziano i punti di forza di un linguaggio e lo consigliano.\n",
    "Per portare a termine questo compito verrà usato l'algoritmo **VADER**, ovvero un algoritmo per la **sentiment analysis** slegato dal dominio delle osservazioni in input e che assegna ad ogni parola un punteggio, basato su statistiche ottenute dalla media di punteggi espressi da dei volontari durante la fase di creazione dell'algoritmo.\n",
    "Per effettuare l'analisi utilizzando VADER faremo uso della libreria **nltk**.\n",
    "\n",
    "Come prima cosa è necessario caricare il package di lexicon fornito da vader:"
   ]
  },
  {
   "cell_type": "code",
   "execution_count": 72,
   "id": "85f4c8cb",
   "metadata": {},
   "outputs": [
    {
     "name": "stderr",
     "output_type": "stream",
     "text": [
      "[nltk_data] Downloading package vader_lexicon to\n",
      "[nltk_data]     /home/rosario/nltk_data...\n",
      "[nltk_data]   Package vader_lexicon is already up-to-date!\n"
     ]
    },
    {
     "data": {
      "text/plain": [
       "True"
      ]
     },
     "execution_count": 72,
     "metadata": {},
     "output_type": "execute_result"
    }
   ],
   "source": [
    "import nltk\n",
    "nltk.download('vader_lexicon')"
   ]
  },
  {
   "cell_type": "markdown",
   "id": "2accd0f1",
   "metadata": {},
   "source": [
    "A questo punto sarà possibile creare l'oggetto **sid** che permetterà di effettuare il **calcolo del sentiment**."
   ]
  },
  {
   "cell_type": "code",
   "execution_count": 73,
   "id": "736f4efc",
   "metadata": {},
   "outputs": [],
   "source": [
    "from nltk.sentiment.vader import SentimentIntensityAnalyzer\n",
    "sid = SentimentIntensityAnalyzer()"
   ]
  },
  {
   "cell_type": "markdown",
   "id": "58ab3724",
   "metadata": {},
   "source": [
    "Prima di procedere con il calcolo del sentiment score, è necessario ai fini di una maggiore comprensione riorganizzare il dataset. A tal proposito sarannoeliminate le colonne \"language\" e \"class\" non utili ai fini dell'analisi e verrà inserita la colonna \"**predicted_language**\" contenente la predizione del linguaggio effettuta dal secondo algoritmo:"
   ]
  },
  {
   "cell_type": "code",
   "execution_count": 74,
   "id": "154e2ecd",
   "metadata": {},
   "outputs": [
    {
     "data": {
      "text/html": [
       "<div>\n",
       "<style scoped>\n",
       "    .dataframe tbody tr th:only-of-type {\n",
       "        vertical-align: middle;\n",
       "    }\n",
       "\n",
       "    .dataframe tbody tr th {\n",
       "        vertical-align: top;\n",
       "    }\n",
       "\n",
       "    .dataframe thead th {\n",
       "        text-align: right;\n",
       "    }\n",
       "</style>\n",
       "<table border=\"1\" class=\"dataframe\">\n",
       "  <thead>\n",
       "    <tr style=\"text-align: right;\">\n",
       "      <th></th>\n",
       "      <th>title</th>\n",
       "      <th>text</th>\n",
       "      <th>predicted_language</th>\n",
       "    </tr>\n",
       "  </thead>\n",
       "  <tbody>\n",
       "    <tr>\n",
       "      <th>869</th>\n",
       "      <td>Why was concept_map abandoned?</td>\n",
       "      <td>Hello, Why was [concept\\_map](https://isocpp.o...</td>\n",
       "      <td>PHP</td>\n",
       "    </tr>\n",
       "    <tr>\n",
       "      <th>1209</th>\n",
       "      <td>whatever happened to friend functions?</td>\n",
       "      <td>i feel like a lot of codebases don't seem to u...</td>\n",
       "      <td>C++</td>\n",
       "    </tr>\n",
       "    <tr>\n",
       "      <th>231</th>\n",
       "      <td>Improving image similarity detection by</td>\n",
       "      <td>I wrote some code using the Python library Fin...</td>\n",
       "      <td>Angular</td>\n",
       "    </tr>\n",
       "    <tr>\n",
       "      <th>3020</th>\n",
       "      <td>Do you use kotlin/js?</td>\n",
       "      <td>I would like to see how widespread kotlin/js i...</td>\n",
       "      <td>C++</td>\n",
       "    </tr>\n",
       "    <tr>\n",
       "      <th>6340</th>\n",
       "      <td>Resolving build/linkage errors in Angula</td>\n",
       "      <td>To me, this could have been posted in the r/Ty...</td>\n",
       "      <td>Go</td>\n",
       "    </tr>\n",
       "    <tr>\n",
       "      <th>...</th>\n",
       "      <td>...</td>\n",
       "      <td>...</td>\n",
       "      <td>...</td>\n",
       "    </tr>\n",
       "    <tr>\n",
       "      <th>7853</th>\n",
       "      <td>Help from language designers</td>\n",
       "      <td>Titles are hard, go easy.\\n\\nI am building a p...</td>\n",
       "      <td>C++</td>\n",
       "    </tr>\n",
       "    <tr>\n",
       "      <th>3101</th>\n",
       "      <td>My images grid recyclerview scrolling is</td>\n",
       "      <td>Hello, please can you advice me what i do and ...</td>\n",
       "      <td>Go</td>\n",
       "    </tr>\n",
       "    <tr>\n",
       "      <th>9582</th>\n",
       "      <td>Closing custom http.Transport?</td>\n",
       "      <td>Sometimes I use a simple custom http.Transport...</td>\n",
       "      <td>C++</td>\n",
       "    </tr>\n",
       "    <tr>\n",
       "      <th>8174</th>\n",
       "      <td>phpReel - new PHP CMS for creating a sub</td>\n",
       "      <td>Hello everyone!\\n\\nMy name is Paul, and I crea...</td>\n",
       "      <td>Kotlin</td>\n",
       "    </tr>\n",
       "    <tr>\n",
       "      <th>999</th>\n",
       "      <td>std::string_view could be made null char</td>\n",
       "      <td>This could be done in many ways:\\n\\n1. std::st...</td>\n",
       "      <td>Angular</td>\n",
       "    </tr>\n",
       "  </tbody>\n",
       "</table>\n",
       "<p>185 rows × 3 columns</p>\n",
       "</div>"
      ],
      "text/plain": [
       "                                         title  \\\n",
       "869             Why was concept_map abandoned?   \n",
       "1209    whatever happened to friend functions?   \n",
       "231   Improving image similarity detection by    \n",
       "3020                     Do you use kotlin/js?   \n",
       "6340  Resolving build/linkage errors in Angula   \n",
       "...                                        ...   \n",
       "7853              Help from language designers   \n",
       "3101  My images grid recyclerview scrolling is   \n",
       "9582            Closing custom http.Transport?   \n",
       "8174  phpReel - new PHP CMS for creating a sub   \n",
       "999   std::string_view could be made null char   \n",
       "\n",
       "                                                   text predicted_language  \n",
       "869   Hello, Why was [concept\\_map](https://isocpp.o...                PHP  \n",
       "1209  i feel like a lot of codebases don't seem to u...                C++  \n",
       "231   I wrote some code using the Python library Fin...            Angular  \n",
       "3020  I would like to see how widespread kotlin/js i...                C++  \n",
       "6340  To me, this could have been posted in the r/Ty...                 Go  \n",
       "...                                                 ...                ...  \n",
       "7853  Titles are hard, go easy.\\n\\nI am building a p...                C++  \n",
       "3101  Hello, please can you advice me what i do and ...                 Go  \n",
       "9582  Sometimes I use a simple custom http.Transport...                C++  \n",
       "8174  Hello everyone!\\n\\nMy name is Paul, and I crea...             Kotlin  \n",
       "999   This could be done in many ways:\\n\\n1. std::st...            Angular  \n",
       "\n",
       "[185 rows x 3 columns]"
      ]
     },
     "execution_count": 74,
     "metadata": {},
     "output_type": "execute_result"
    }
   ],
   "source": [
    "SentimentDf = test_set2.copy()\n",
    "\n",
    "SentimentDf = SentimentDf.assign(predicted_language = y_test_preds_language)\n",
    "SentimentDf.drop(columns=['language','class'], inplace=True)\n",
    "SentimentDf"
   ]
  },
  {
   "cell_type": "markdown",
   "id": "f29ed6cc",
   "metadata": {},
   "source": [
    "Verrà affiancata al dataframe una nuova colonna che prenderà il nome di **'score'** ottenuta dal lexicon score di vader, in questo modo sarà possibile osservare il post e il rispettivo punteggio.\n",
    "Calcoliamo per ogni riga del dataframe già filtrato il **compound** del testo associato: VADER ritorna diversi valori in output che rappresentano la percentuale di positività, neutralità e negatività del testo analizzato, il compound non è altro che la media di essi, ovvero il lexicon score effettivo."
   ]
  },
  {
   "cell_type": "code",
   "execution_count": 75,
   "id": "b7df5583",
   "metadata": {},
   "outputs": [],
   "source": [
    "rows, cols = SentimentDf.shape\n",
    "score = []\n",
    "for i in range(rows):\n",
    "    score.append(sid.polarity_scores(SentimentDf.iloc[i]['text'])['compound'])"
   ]
  },
  {
   "cell_type": "code",
   "execution_count": 76,
   "id": "0416c5d1",
   "metadata": {},
   "outputs": [
    {
     "data": {
      "text/html": [
       "<div>\n",
       "<style scoped>\n",
       "    .dataframe tbody tr th:only-of-type {\n",
       "        vertical-align: middle;\n",
       "    }\n",
       "\n",
       "    .dataframe tbody tr th {\n",
       "        vertical-align: top;\n",
       "    }\n",
       "\n",
       "    .dataframe thead th {\n",
       "        text-align: right;\n",
       "    }\n",
       "</style>\n",
       "<table border=\"1\" class=\"dataframe\">\n",
       "  <thead>\n",
       "    <tr style=\"text-align: right;\">\n",
       "      <th></th>\n",
       "      <th>title</th>\n",
       "      <th>text</th>\n",
       "      <th>predicted_language</th>\n",
       "      <th>score</th>\n",
       "    </tr>\n",
       "  </thead>\n",
       "  <tbody>\n",
       "    <tr>\n",
       "      <th>869</th>\n",
       "      <td>Why was concept_map abandoned?</td>\n",
       "      <td>Hello, Why was [concept\\_map](https://isocpp.o...</td>\n",
       "      <td>PHP</td>\n",
       "      <td>0.4696</td>\n",
       "    </tr>\n",
       "    <tr>\n",
       "      <th>1209</th>\n",
       "      <td>whatever happened to friend functions?</td>\n",
       "      <td>i feel like a lot of codebases don't seem to u...</td>\n",
       "      <td>C++</td>\n",
       "      <td>0.3612</td>\n",
       "    </tr>\n",
       "    <tr>\n",
       "      <th>231</th>\n",
       "      <td>Improving image similarity detection by</td>\n",
       "      <td>I wrote some code using the Python library Fin...</td>\n",
       "      <td>Angular</td>\n",
       "      <td>0.7370</td>\n",
       "    </tr>\n",
       "    <tr>\n",
       "      <th>3020</th>\n",
       "      <td>Do you use kotlin/js?</td>\n",
       "      <td>I would like to see how widespread kotlin/js i...</td>\n",
       "      <td>C++</td>\n",
       "      <td>0.6599</td>\n",
       "    </tr>\n",
       "    <tr>\n",
       "      <th>6340</th>\n",
       "      <td>Resolving build/linkage errors in Angula</td>\n",
       "      <td>To me, this could have been posted in the r/Ty...</td>\n",
       "      <td>Go</td>\n",
       "      <td>0.7912</td>\n",
       "    </tr>\n",
       "    <tr>\n",
       "      <th>...</th>\n",
       "      <td>...</td>\n",
       "      <td>...</td>\n",
       "      <td>...</td>\n",
       "      <td>...</td>\n",
       "    </tr>\n",
       "    <tr>\n",
       "      <th>7853</th>\n",
       "      <td>Help from language designers</td>\n",
       "      <td>Titles are hard, go easy.\\n\\nI am building a p...</td>\n",
       "      <td>C++</td>\n",
       "      <td>0.9680</td>\n",
       "    </tr>\n",
       "    <tr>\n",
       "      <th>3101</th>\n",
       "      <td>My images grid recyclerview scrolling is</td>\n",
       "      <td>Hello, please can you advice me what i do and ...</td>\n",
       "      <td>Go</td>\n",
       "      <td>0.0258</td>\n",
       "    </tr>\n",
       "    <tr>\n",
       "      <th>9582</th>\n",
       "      <td>Closing custom http.Transport?</td>\n",
       "      <td>Sometimes I use a simple custom http.Transport...</td>\n",
       "      <td>C++</td>\n",
       "      <td>-0.0489</td>\n",
       "    </tr>\n",
       "    <tr>\n",
       "      <th>8174</th>\n",
       "      <td>phpReel - new PHP CMS for creating a sub</td>\n",
       "      <td>Hello everyone!\\n\\nMy name is Paul, and I crea...</td>\n",
       "      <td>Kotlin</td>\n",
       "      <td>0.4559</td>\n",
       "    </tr>\n",
       "    <tr>\n",
       "      <th>999</th>\n",
       "      <td>std::string_view could be made null char</td>\n",
       "      <td>This could be done in many ways:\\n\\n1. std::st...</td>\n",
       "      <td>Angular</td>\n",
       "      <td>0.6486</td>\n",
       "    </tr>\n",
       "  </tbody>\n",
       "</table>\n",
       "<p>185 rows × 4 columns</p>\n",
       "</div>"
      ],
      "text/plain": [
       "                                         title  \\\n",
       "869             Why was concept_map abandoned?   \n",
       "1209    whatever happened to friend functions?   \n",
       "231   Improving image similarity detection by    \n",
       "3020                     Do you use kotlin/js?   \n",
       "6340  Resolving build/linkage errors in Angula   \n",
       "...                                        ...   \n",
       "7853              Help from language designers   \n",
       "3101  My images grid recyclerview scrolling is   \n",
       "9582            Closing custom http.Transport?   \n",
       "8174  phpReel - new PHP CMS for creating a sub   \n",
       "999   std::string_view could be made null char   \n",
       "\n",
       "                                                   text predicted_language  \\\n",
       "869   Hello, Why was [concept\\_map](https://isocpp.o...                PHP   \n",
       "1209  i feel like a lot of codebases don't seem to u...                C++   \n",
       "231   I wrote some code using the Python library Fin...            Angular   \n",
       "3020  I would like to see how widespread kotlin/js i...                C++   \n",
       "6340  To me, this could have been posted in the r/Ty...                 Go   \n",
       "...                                                 ...                ...   \n",
       "7853  Titles are hard, go easy.\\n\\nI am building a p...                C++   \n",
       "3101  Hello, please can you advice me what i do and ...                 Go   \n",
       "9582  Sometimes I use a simple custom http.Transport...                C++   \n",
       "8174  Hello everyone!\\n\\nMy name is Paul, and I crea...             Kotlin   \n",
       "999   This could be done in many ways:\\n\\n1. std::st...            Angular   \n",
       "\n",
       "       score  \n",
       "869   0.4696  \n",
       "1209  0.3612  \n",
       "231   0.7370  \n",
       "3020  0.6599  \n",
       "6340  0.7912  \n",
       "...      ...  \n",
       "7853  0.9680  \n",
       "3101  0.0258  \n",
       "9582 -0.0489  \n",
       "8174  0.4559  \n",
       "999   0.6486  \n",
       "\n",
       "[185 rows x 4 columns]"
      ]
     },
     "execution_count": 76,
     "metadata": {},
     "output_type": "execute_result"
    }
   ],
   "source": [
    "SentimentDf = SentimentDf.assign(score = score)\n",
    "SentimentDf"
   ]
  },
  {
   "cell_type": "markdown",
   "id": "0bbe4231",
   "metadata": {},
   "source": [
    "Il compound è un valore compreso tra -1 e 1, dove 1 indica che il sentiment della frase è totalmente positivo mentre -1 che il sentiment è totalmente negativo."
   ]
  },
  {
   "cell_type": "markdown",
   "id": "10b357be",
   "metadata": {},
   "source": [
    "Come ultimo passaggio dell'analisi è possibile adesso calcolare la media dello score delle valutazioni raggruppate per linguaggio per vedere in generale il sentiment rispetto a quello che sono i post nei subreddit di programmazione: la media sarà superiore allo zero in caso di esito positivo e inferiore nel caso contrario:"
   ]
  },
  {
   "cell_type": "code",
   "execution_count": 77,
   "id": "3a8dacb9",
   "metadata": {},
   "outputs": [
    {
     "data": {
      "text/html": [
       "<div>\n",
       "<style scoped>\n",
       "    .dataframe tbody tr th:only-of-type {\n",
       "        vertical-align: middle;\n",
       "    }\n",
       "\n",
       "    .dataframe tbody tr th {\n",
       "        vertical-align: top;\n",
       "    }\n",
       "\n",
       "    .dataframe thead th {\n",
       "        text-align: right;\n",
       "    }\n",
       "</style>\n",
       "<table border=\"1\" class=\"dataframe\">\n",
       "  <thead>\n",
       "    <tr style=\"text-align: right;\">\n",
       "      <th></th>\n",
       "      <th>score</th>\n",
       "    </tr>\n",
       "    <tr>\n",
       "      <th>predicted_language</th>\n",
       "      <th></th>\n",
       "    </tr>\n",
       "  </thead>\n",
       "  <tbody>\n",
       "    <tr>\n",
       "      <th>Angular</th>\n",
       "      <td>0.562004</td>\n",
       "    </tr>\n",
       "    <tr>\n",
       "      <th>C++</th>\n",
       "      <td>0.536893</td>\n",
       "    </tr>\n",
       "    <tr>\n",
       "      <th>Go</th>\n",
       "      <td>0.219496</td>\n",
       "    </tr>\n",
       "    <tr>\n",
       "      <th>Kotlin</th>\n",
       "      <td>0.466579</td>\n",
       "    </tr>\n",
       "    <tr>\n",
       "      <th>PHP</th>\n",
       "      <td>0.499561</td>\n",
       "    </tr>\n",
       "    <tr>\n",
       "      <th>Python</th>\n",
       "      <td>0.255450</td>\n",
       "    </tr>\n",
       "  </tbody>\n",
       "</table>\n",
       "</div>"
      ],
      "text/plain": [
       "                       score\n",
       "predicted_language          \n",
       "Angular             0.562004\n",
       "C++                 0.536893\n",
       "Go                  0.219496\n",
       "Kotlin              0.466579\n",
       "PHP                 0.499561\n",
       "Python              0.255450"
      ]
     },
     "execution_count": 77,
     "metadata": {},
     "output_type": "execute_result"
    }
   ],
   "source": [
    "dfMean = SentimentDf.groupby('predicted_language').mean()\n",
    "dfMean"
   ]
  },
  {
   "cell_type": "code",
   "execution_count": 78,
   "id": "b87499f6",
   "metadata": {},
   "outputs": [
    {
     "data": {
      "image/png": "[encoded data removed]",
      "text/plain": [
       "<Figure size 432x288 with 1 Axes>"
      ]
     },
     "metadata": {
      "needs_background": "light"
     },
     "output_type": "display_data"
    }
   ],
   "source": [
    "dfMean.plot.bar(y = 'score')\n",
    "plt.xlabel('language')\n",
    "plt.ylabel('sentiment score')\n",
    "a = np.arange(-1,1,0.1)\n",
    "plt.show()"
   ]
  },
  {
   "cell_type": "markdown",
   "id": "7796e039",
   "metadata": {},
   "source": [
    "## 10. Conclusioni"
   ]
  },
  {
   "cell_type": "markdown",
   "id": "eaed00b0",
   "metadata": {},
   "source": [
    "Concludendo, quella ottenuta è una **pipeline** che dato un insieme di post provenienti da Reddit (comunque generalizzabile a qualsiasi fonte) permette di estrarre solo quelli che trattano di programmazione e di analizzarne il sentiment in modo da trarre delle conclusioni e stimare il pensiero degli utenti che fanno uso dei vari linguaggi. Sono state marcate le differenze tra le varie ottimizzazioni che è possibile applicare ad un algoritmo semplice come il kNN che si ricorda essere un algoritmo **lazy**, ovvero un algoritmo la cui fase di training si limita a memorizzare il training set e ad approssimare una pseudofunzione di classificazione solo nel momento in cui viene richiesto di classificare una nuova osservazione. \n",
    "Generalizzando, questa catena di processi è utilizzabile ogni qual volta data una quantità di dati generici, si vuole isolare una sola categoria di essi per capire se di quest'ultima si sta parlando positivamente o meno rispetto alle altre. Il processo è applicabile in molti contesti e quello dei post di un social network ne è l'esempio più generale."
   ]
  }
 ],
 "metadata": {
  "kernelspec": {
   "display_name": "Python 3 (ipykernel)",
   "language": "python",
   "name": "python3"
  },
  "language_info": {
   "codemirror_mode": {
    "name": "ipython",
    "version": 3
   },
   "file_extension": ".py",
   "mimetype": "text/x-python",
   "name": "python",
   "nbconvert_exporter": "python",
   "pygments_lexer": "ipython3",
   "version": "3.9.7"
  }
 },
 "nbformat": 4,
 "nbformat_minor": 5
}
