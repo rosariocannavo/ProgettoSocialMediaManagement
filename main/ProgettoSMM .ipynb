{
 "cells": [
  {
   "cell_type": "markdown",
   "id": "bee6d04b",
   "metadata": {},
   "source": [
    "# Classificazione e Sentiment analysis su post provenienti da Reddit"
   ]
  },
  {
   "cell_type": "markdown",
   "id": "9dfcdc3e",
   "metadata": {},
   "source": [
    "**Studente:** Rosario Cannavò\n",
    "<br>\n",
    "**Matricola:** 1000004011\n",
    "<br>\n",
    "**A.A:** 2021/2022"
   ]
  },
  {
   "cell_type": "markdown",
   "id": "35416eaf",
   "metadata": {},
   "source": [
    "## 1. Introduzione"
   ]
  },
  {
   "cell_type": "markdown",
   "id": "48aa2d28",
   "metadata": {},
   "source": [
    "Come già noto, Reddit è un social network caratterizzato da una struttura simile ai primissimi forum che popolavano internet fino a qualche anno fa e fornivano un pensiero attuale sui vari topic che affrontavano. Riprendendo questo concetto si vuole addestrare un algoritmo di machine learning che opportunamente addestrato e ottimizzato riesca a classificare la categoria di un post. Successivamente si vuole anche predirre il linguaggio di cui si sta parlando tramite l'uso dello stesso algoritmo ma addestrato diversamente per portare a termine questa tipologia di task. Nello specifico, verranno allenate  due istanze dell'algoritmo su post che provengono da vari subreddit che trattano di linguaggi di programmazione e da altri il cui argomento di interesse è diverso dal mondo della programmazione e dell'informatica in generale. In questo modo alla fine del training i due algoritmi saranno in grado di classificare correttamente i post. \n",
    "L'algoritmo utilizzato sarà il K-Nearest Neighbour e delle sue ottimizzazioni. I punti su cui lavorerà l'algoritmo saranno i vettori bag of words opportunamente estrapolati dai post di esempio. \n",
    "Dopo aver effettuato la classificazione, una seconda parte del progetto consisterà nel calcolare il sentiment dei post che parlano di programmazione per osservare di quali linguaggi si parla positivamente e di quali negativamente. Per fare ciò verrà utilizzato l'algoritmo VADER e in conclusione verrà calcolata la media delle valutazioni per ogni linguaggio, in questo modo sarà possibile capire se generalmente gli utenti di Reddit utilizzano il social network per esporre difetti e lamentele dei vari linguaggi o per elogiarne le funzionalità e le potenzialità, potremo inoltre capire quale linguaggio è maggiormente supportato dai suoi utenti.  "
   ]
  },
  {
   "cell_type": "markdown",
   "id": "e8c79149",
   "metadata": {},
   "source": [
    "Per accedere ai contenuti dei vari subreddit utilizzeremo le API di Reddit fornite dal wrapper Praw. Come citato nel tutorial ([Tutorial Reddit](https://github.com/rosariocannavo/TutorialSocialMediaManagement)), per avere accesso sarà necessario registrarsi a Reddit come programmatori e riscattare i token di identificazione."
   ]
  },
  {
   "cell_type": "code",
   "execution_count": 1,
   "id": "97eea800",
   "metadata": {
    "scrolled": true
   },
   "outputs": [],
   "source": [
    "import praw \n",
    "reddit = praw.Reddit(client_id = 'tvHkTZ-wanEENSM1GSdQ5w',\n",
    "                     client_secret = 'kw-wzX7cNVvYYi8VBCjxjQp5C2Pn9Q',\n",
    "                     username = 'tutorialSocialMedia',\n",
    "                     password = 'password123',\n",
    "                     user_agent = 'tutorialpython'\n",
    "                    )"
   ]
  },
  {
   "cell_type": "markdown",
   "id": "5f0c6472",
   "metadata": {},
   "source": [
    "## 2. Estrazione dei dati e creazione del dataset"
   ]
  },
  {
   "cell_type": "markdown",
   "id": "6a29c5be",
   "metadata": {},
   "source": [
    "Dopo aver ottenuto l'oggetto **reddit**, potremo esplorare i vari subreddit del social network utilizzando i metodi del wrapper. Nelle prossime righe sarà effettuata l'estrapolazione dei post più recenti in modo da costruire un dataset di partenza su cui addestrare e testare gli algoritmi che saranno utilizzati.\n",
    "E' importante notare che il numero di post ritornati dal metodo \"hot\" non è fisso, per tale motivo è stabilito un limite superiore (posto a 5000) per evitare di appesantire e rallentare eccessivamente l'algoritmo.\n",
    "\n",
    "I post sono nello specifico ottenuti dai subreddit: \"Python\", \"C++\", \"Sushi\", \"Guitar\", \"Kotlin\", \"nba\",\"news\", \"Europe\", \"Angular\", \"Motorcycles\",\"PHP\", \"Damnthatsinteresting\", \"Golang\",\"AskReddit\" e \"Music\", \"World news\", \"CSS\" e \"Java\".\n",
    "Inoltre, conoscendo la provenienza dei post durante la fase di costruzione del dataset, è stato assegnato ad ognuno di essi, la classe di appartenenza \"reale\". Le possibili classi sono \"**programming**\" e \"**non programming**\", ad indicare la natura del post. Allo stesso modo saremo in grado di assegnare ad ogni osservazione il linguaggio di cui tratta. "
   ]
  },
  {
   "cell_type": "code",
   "execution_count": 2,
   "id": "a1d2b9f8",
   "metadata": {},
   "outputs": [],
   "source": [
    "subred = reddit.subreddit(\"Python\")"
   ]
  },
  {
   "cell_type": "code",
   "execution_count": 3,
   "id": "8fce31c5",
   "metadata": {},
   "outputs": [],
   "source": [
    "import pandas as pd\n",
    "df1 = []\n",
    "for post in subred.hot(limit=5000):\n",
    "    df1.append([post.title[:40], post.selftext, \"programming\", \"Python\"])\n",
    "df1 = pd.DataFrame(df1, columns=[\"title\",\"text\",\"class\", \"language\"])"
   ]
  },
  {
   "cell_type": "code",
   "execution_count": 4,
   "id": "6cd2abfa",
   "metadata": {},
   "outputs": [
    {
     "name": "stdout",
     "output_type": "stream",
     "text": [
      "<class 'pandas.core.frame.DataFrame'>\n",
      "RangeIndex: 461 entries, 0 to 460\n",
      "Data columns (total 4 columns):\n",
      " #   Column    Non-Null Count  Dtype \n",
      "---  ------    --------------  ----- \n",
      " 0   title     461 non-null    object\n",
      " 1   text      461 non-null    object\n",
      " 2   class     461 non-null    object\n",
      " 3   language  461 non-null    object\n",
      "dtypes: object(4)\n",
      "memory usage: 14.5+ KB\n"
     ]
    }
   ],
   "source": [
    "df1.head()"
   ]
  },
  {
   "cell_type": "markdown",
   "id": "17b63128",
   "metadata": {},
   "source": [
    "Prendiamo adesso dei post da un altro subreddit che parla di programmazione, ad esempio il subreddit di C++:"
   ]
  },
  {
   "cell_type": "code",
   "execution_count": 5,
   "id": "f464177d",
   "metadata": {},
   "outputs": [],
   "source": [
    "subred = reddit.subreddit(\"cpp\")  "
   ]
  },
  {
   "cell_type": "code",
   "execution_count": 6,
   "id": "88a5e41f",
   "metadata": {},
   "outputs": [],
   "source": [
    "df2 = []\n",
    "for post in subred.hot(limit=5000):\n",
    "    df2.append([post.title[:40], post.selftext, \"programming\", \"C++\"])\n",
    "df2 = pd.DataFrame(df2, columns=[\"title\",\"text\",\"class\", \"language\"])"
   ]
  },
  {
   "cell_type": "code",
   "execution_count": 7,
   "id": "0e6a48ae",
   "metadata": {},
   "outputs": [
    {
     "data": {
      "text/html": [
       "<div>\n",
       "<style scoped>\n",
       "    .dataframe tbody tr th:only-of-type {\n",
       "        vertical-align: middle;\n",
       "    }\n",
       "\n",
       "    .dataframe tbody tr th {\n",
       "        vertical-align: top;\n",
       "    }\n",
       "\n",
       "    .dataframe thead th {\n",
       "        text-align: right;\n",
       "    }\n",
       "</style>\n",
       "<table border=\"1\" class=\"dataframe\">\n",
       "  <thead>\n",
       "    <tr style=\"text-align: right;\">\n",
       "      <th></th>\n",
       "      <th>title</th>\n",
       "      <th>text</th>\n",
       "      <th>class</th>\n",
       "      <th>language</th>\n",
       "    </tr>\n",
       "  </thead>\n",
       "  <tbody>\n",
       "    <tr>\n",
       "      <th>0</th>\n",
       "      <td>C++ Jobs - Q1 2022</td>\n",
       "      <td>Rules For Individuals\\n---------------------\\n...</td>\n",
       "      <td>programming</td>\n",
       "      <td>C++</td>\n",
       "    </tr>\n",
       "    <tr>\n",
       "      <th>1</th>\n",
       "      <td>C++ Show and Tell - Experiment</td>\n",
       "      <td>Recently, we've been getting an uptick of \"loo...</td>\n",
       "      <td>programming</td>\n",
       "      <td>C++</td>\n",
       "    </tr>\n",
       "    <tr>\n",
       "      <th>2</th>\n",
       "      <td>C++'s Superpower - Matt Godbolt - CPPP 2</td>\n",
       "      <td></td>\n",
       "      <td>programming</td>\n",
       "      <td>C++</td>\n",
       "    </tr>\n",
       "    <tr>\n",
       "      <th>3</th>\n",
       "      <td>P2300 (Sender/Receiver) is DEAD in the w</td>\n",
       "      <td>\"No consensus. There is sustained strong oppos...</td>\n",
       "      <td>programming</td>\n",
       "      <td>C++</td>\n",
       "    </tr>\n",
       "    <tr>\n",
       "      <th>4</th>\n",
       "      <td>Constant references are not always your</td>\n",
       "      <td></td>\n",
       "      <td>programming</td>\n",
       "      <td>C++</td>\n",
       "    </tr>\n",
       "  </tbody>\n",
       "</table>\n",
       "</div>"
      ],
      "text/plain": [
       "                                      title  \\\n",
       "0                        C++ Jobs - Q1 2022   \n",
       "1            C++ Show and Tell - Experiment   \n",
       "2  C++'s Superpower - Matt Godbolt - CPPP 2   \n",
       "3  P2300 (Sender/Receiver) is DEAD in the w   \n",
       "4  Constant references are not always your    \n",
       "\n",
       "                                                text        class language  \n",
       "0  Rules For Individuals\\n---------------------\\n...  programming      C++  \n",
       "1  Recently, we've been getting an uptick of \"loo...  programming      C++  \n",
       "2                                                     programming      C++  \n",
       "3  \"No consensus. There is sustained strong oppos...  programming      C++  \n",
       "4                                                     programming      C++  "
      ]
     },
     "execution_count": 7,
     "metadata": {},
     "output_type": "execute_result"
    }
   ],
   "source": [
    "df2.head()"
   ]
  },
  {
   "cell_type": "markdown",
   "id": "bc579f70",
   "metadata": {},
   "source": [
    "Prendiamo adesso dei post da un subreddit che parla di sushi:"
   ]
  },
  {
   "cell_type": "code",
   "execution_count": 8,
   "id": "e7b12540",
   "metadata": {},
   "outputs": [],
   "source": [
    "subred = reddit.subreddit(\"sushi\")  \n",
    "\n",
    "df3 = []\n",
    "for post in subred.hot( limit=5000):\n",
    "    df3.append([post.title[:40], post.selftext, \"non programming\", \"Not a language\"])\n",
    "df3 = pd.DataFrame(df3, columns=[\"title\",\"text\",\"class\", \"language\"])"
   ]
  },
  {
   "cell_type": "code",
   "execution_count": 9,
   "id": "1b7fa311",
   "metadata": {},
   "outputs": [
    {
     "data": {
      "text/html": [
       "<div>\n",
       "<style scoped>\n",
       "    .dataframe tbody tr th:only-of-type {\n",
       "        vertical-align: middle;\n",
       "    }\n",
       "\n",
       "    .dataframe tbody tr th {\n",
       "        vertical-align: top;\n",
       "    }\n",
       "\n",
       "    .dataframe thead th {\n",
       "        text-align: right;\n",
       "    }\n",
       "</style>\n",
       "<table border=\"1\" class=\"dataframe\">\n",
       "  <thead>\n",
       "    <tr style=\"text-align: right;\">\n",
       "      <th></th>\n",
       "      <th>title</th>\n",
       "      <th>text</th>\n",
       "      <th>class</th>\n",
       "      <th>language</th>\n",
       "    </tr>\n",
       "  </thead>\n",
       "  <tbody>\n",
       "    <tr>\n",
       "      <th>0</th>\n",
       "      <td>First time making sushi fully by myself!</td>\n",
       "      <td></td>\n",
       "      <td>non programming</td>\n",
       "      <td>Not a language</td>\n",
       "    </tr>\n",
       "    <tr>\n",
       "      <th>1</th>\n",
       "      <td>Made some sushi for dinner.</td>\n",
       "      <td></td>\n",
       "      <td>non programming</td>\n",
       "      <td>Not a language</td>\n",
       "    </tr>\n",
       "    <tr>\n",
       "      <th>2</th>\n",
       "      <td>Epic sushi night!</td>\n",
       "      <td></td>\n",
       "      <td>non programming</td>\n",
       "      <td>Not a language</td>\n",
       "    </tr>\n",
       "    <tr>\n",
       "      <th>3</th>\n",
       "      <td>Just an assortment from heaven</td>\n",
       "      <td></td>\n",
       "      <td>non programming</td>\n",
       "      <td>Not a language</td>\n",
       "    </tr>\n",
       "    <tr>\n",
       "      <th>4</th>\n",
       "      <td>Hamachi</td>\n",
       "      <td></td>\n",
       "      <td>non programming</td>\n",
       "      <td>Not a language</td>\n",
       "    </tr>\n",
       "  </tbody>\n",
       "</table>\n",
       "</div>"
      ],
      "text/plain": [
       "                                      title text            class  \\\n",
       "0  First time making sushi fully by myself!       non programming   \n",
       "1               Made some sushi for dinner.       non programming   \n",
       "2                         Epic sushi night!       non programming   \n",
       "3            Just an assortment from heaven       non programming   \n",
       "4                                   Hamachi       non programming   \n",
       "\n",
       "         language  \n",
       "0  Not a language  \n",
       "1  Not a language  \n",
       "2  Not a language  \n",
       "3  Not a language  \n",
       "4  Not a language  "
      ]
     },
     "execution_count": 9,
     "metadata": {},
     "output_type": "execute_result"
    }
   ],
   "source": [
    "df3.head()"
   ]
  },
  {
   "cell_type": "markdown",
   "id": "bf3246cf",
   "metadata": {},
   "source": [
    "E dei post da un subreddit che parla di chitarre:"
   ]
  },
  {
   "cell_type": "code",
   "execution_count": 10,
   "id": "7b0d8d93",
   "metadata": {},
   "outputs": [],
   "source": [
    "subred = reddit.subreddit(\"Guitar\")  \n",
    "\n",
    "df4 = []\n",
    "for post in subred.hot( limit=5000):\n",
    "    df4.append([post.title[:40], post.selftext, \"non programming\", \"Not a language\"])\n",
    "df4 = pd.DataFrame(df4, columns=[\"title\",\"text\",\"class\", \"language\"])"
   ]
  },
  {
   "cell_type": "code",
   "execution_count": 11,
   "id": "78c417a9",
   "metadata": {},
   "outputs": [
    {
     "data": {
      "text/html": [
       "<div>\n",
       "<style scoped>\n",
       "    .dataframe tbody tr th:only-of-type {\n",
       "        vertical-align: middle;\n",
       "    }\n",
       "\n",
       "    .dataframe tbody tr th {\n",
       "        vertical-align: top;\n",
       "    }\n",
       "\n",
       "    .dataframe thead th {\n",
       "        text-align: right;\n",
       "    }\n",
       "</style>\n",
       "<table border=\"1\" class=\"dataframe\">\n",
       "  <thead>\n",
       "    <tr style=\"text-align: right;\">\n",
       "      <th></th>\n",
       "      <th>title</th>\n",
       "      <th>text</th>\n",
       "      <th>class</th>\n",
       "      <th>language</th>\n",
       "    </tr>\n",
       "  </thead>\n",
       "  <tbody>\n",
       "    <tr>\n",
       "      <th>0</th>\n",
       "      <td>[DISCUSSION] - February 2022 - NO STUPID</td>\n",
       "      <td>\\n\\nGood Day [r/Guitar](https://www.reddit.co...</td>\n",
       "      <td>non programming</td>\n",
       "      <td>Not a language</td>\n",
       "    </tr>\n",
       "    <tr>\n",
       "      <th>1</th>\n",
       "      <td>[PLAY] R/GUITAR - Players Spotlight - Fe</td>\n",
       "      <td>Hello [r/Guitar](https://www.reddit.com/r/Guit...</td>\n",
       "      <td>non programming</td>\n",
       "      <td>Not a language</td>\n",
       "    </tr>\n",
       "    <tr>\n",
       "      <th>2</th>\n",
       "      <td>[QUESTION] What popular guitar / guitar</td>\n",
       "      <td>For me, it's the SG. They're popular with some...</td>\n",
       "      <td>non programming</td>\n",
       "      <td>Not a language</td>\n",
       "    </tr>\n",
       "    <tr>\n",
       "      <th>3</th>\n",
       "      <td>[NEWBIE] Believe the hype - JustinGuitar</td>\n",
       "      <td>So... I've been playing for more than a decade...</td>\n",
       "      <td>non programming</td>\n",
       "      <td>Not a language</td>\n",
       "    </tr>\n",
       "    <tr>\n",
       "      <th>4</th>\n",
       "      <td>[DISCUSSION] What popular guitar model d</td>\n",
       "      <td>It doesn't have to be based on sound only, cou...</td>\n",
       "      <td>non programming</td>\n",
       "      <td>Not a language</td>\n",
       "    </tr>\n",
       "  </tbody>\n",
       "</table>\n",
       "</div>"
      ],
      "text/plain": [
       "                                      title  \\\n",
       "0  [DISCUSSION] - February 2022 - NO STUPID   \n",
       "1  [PLAY] R/GUITAR - Players Spotlight - Fe   \n",
       "2  [QUESTION] What popular guitar / guitar    \n",
       "3  [NEWBIE] Believe the hype - JustinGuitar   \n",
       "4  [DISCUSSION] What popular guitar model d   \n",
       "\n",
       "                                                text            class  \\\n",
       "0   \\n\\nGood Day [r/Guitar](https://www.reddit.co...  non programming   \n",
       "1  Hello [r/Guitar](https://www.reddit.com/r/Guit...  non programming   \n",
       "2  For me, it's the SG. They're popular with some...  non programming   \n",
       "3  So... I've been playing for more than a decade...  non programming   \n",
       "4  It doesn't have to be based on sound only, cou...  non programming   \n",
       "\n",
       "         language  \n",
       "0  Not a language  \n",
       "1  Not a language  \n",
       "2  Not a language  \n",
       "3  Not a language  \n",
       "4  Not a language  "
      ]
     },
     "execution_count": 11,
     "metadata": {},
     "output_type": "execute_result"
    }
   ],
   "source": [
    "df4.head()"
   ]
  },
  {
   "cell_type": "code",
   "execution_count": 12,
   "id": "319b9e64",
   "metadata": {},
   "outputs": [],
   "source": [
    "subred = reddit.subreddit(\"Kotlin\")  \n",
    "\n",
    "df5 = []\n",
    "for post in subred.hot( limit=5000):\n",
    "    df5.append([post.title[:40], post.selftext, \"programming\", \"Kotlin\"])\n",
    "df5 = pd.DataFrame(df5, columns=[\"title\",\"text\",\"class\", \"language\"])"
   ]
  },
  {
   "cell_type": "code",
   "execution_count": 13,
   "id": "4658cbb7",
   "metadata": {},
   "outputs": [
    {
     "data": {
      "text/html": [
       "<div>\n",
       "<style scoped>\n",
       "    .dataframe tbody tr th:only-of-type {\n",
       "        vertical-align: middle;\n",
       "    }\n",
       "\n",
       "    .dataframe tbody tr th {\n",
       "        vertical-align: top;\n",
       "    }\n",
       "\n",
       "    .dataframe thead th {\n",
       "        text-align: right;\n",
       "    }\n",
       "</style>\n",
       "<table border=\"1\" class=\"dataframe\">\n",
       "  <thead>\n",
       "    <tr style=\"text-align: right;\">\n",
       "      <th></th>\n",
       "      <th>title</th>\n",
       "      <th>text</th>\n",
       "      <th>class</th>\n",
       "      <th>language</th>\n",
       "    </tr>\n",
       "  </thead>\n",
       "  <tbody>\n",
       "    <tr>\n",
       "      <th>0</th>\n",
       "      <td>Enum.hashCode isn't stable, so why is it</td>\n",
       "      <td>I ran into [this footgun](https://madhead.me/p...</td>\n",
       "      <td>programming</td>\n",
       "      <td>Kotlin</td>\n",
       "    </tr>\n",
       "    <tr>\n",
       "      <th>1</th>\n",
       "      <td>Trying Insertion sort in Kotlin</td>\n",
       "      <td>Can someone please review my code, why its not...</td>\n",
       "      <td>programming</td>\n",
       "      <td>Kotlin</td>\n",
       "    </tr>\n",
       "    <tr>\n",
       "      <th>2</th>\n",
       "      <td>Fake It, but Don't Make It</td>\n",
       "      <td>More exploration of Test Driven Development an...</td>\n",
       "      <td>programming</td>\n",
       "      <td>Kotlin</td>\n",
       "    </tr>\n",
       "    <tr>\n",
       "      <th>3</th>\n",
       "      <td>Experiences with Kotlin OR Frameworks</td>\n",
       "      <td>We're a small team working on Spring Boot-base...</td>\n",
       "      <td>programming</td>\n",
       "      <td>Kotlin</td>\n",
       "    </tr>\n",
       "    <tr>\n",
       "      <th>4</th>\n",
       "      <td>Exploring Photo Picker in Android 13</td>\n",
       "      <td></td>\n",
       "      <td>programming</td>\n",
       "      <td>Kotlin</td>\n",
       "    </tr>\n",
       "  </tbody>\n",
       "</table>\n",
       "</div>"
      ],
      "text/plain": [
       "                                      title  \\\n",
       "0  Enum.hashCode isn't stable, so why is it   \n",
       "1           Trying Insertion sort in Kotlin   \n",
       "2                Fake It, but Don't Make It   \n",
       "3     Experiences with Kotlin OR Frameworks   \n",
       "4      Exploring Photo Picker in Android 13   \n",
       "\n",
       "                                                text        class language  \n",
       "0  I ran into [this footgun](https://madhead.me/p...  programming   Kotlin  \n",
       "1  Can someone please review my code, why its not...  programming   Kotlin  \n",
       "2  More exploration of Test Driven Development an...  programming   Kotlin  \n",
       "3  We're a small team working on Spring Boot-base...  programming   Kotlin  \n",
       "4                                                     programming   Kotlin  "
      ]
     },
     "execution_count": 13,
     "metadata": {},
     "output_type": "execute_result"
    }
   ],
   "source": [
    "df5.head()"
   ]
  },
  {
   "cell_type": "code",
   "execution_count": 14,
   "id": "8fe71fb3",
   "metadata": {},
   "outputs": [],
   "source": [
    "subred = reddit.subreddit(\"nba\")  \n",
    "\n",
    "df6 = []\n",
    "for post in subred.hot( limit=5000):\n",
    "    df6.append([post.title[:40], post.selftext, \"non programming\", \"Not a language\"])\n",
    "df6 = pd.DataFrame(df6, columns=[\"title\",\"text\",\"class\", \"language\"])"
   ]
  },
  {
   "cell_type": "code",
   "execution_count": 15,
   "id": "3ffe16c9",
   "metadata": {},
   "outputs": [
    {
     "data": {
      "text/html": [
       "<div>\n",
       "<style scoped>\n",
       "    .dataframe tbody tr th:only-of-type {\n",
       "        vertical-align: middle;\n",
       "    }\n",
       "\n",
       "    .dataframe tbody tr th {\n",
       "        vertical-align: top;\n",
       "    }\n",
       "\n",
       "    .dataframe thead th {\n",
       "        text-align: right;\n",
       "    }\n",
       "</style>\n",
       "<table border=\"1\" class=\"dataframe\">\n",
       "  <thead>\n",
       "    <tr style=\"text-align: right;\">\n",
       "      <th></th>\n",
       "      <th>title</th>\n",
       "      <th>text</th>\n",
       "      <th>class</th>\n",
       "      <th>language</th>\n",
       "    </tr>\n",
       "  </thead>\n",
       "  <tbody>\n",
       "    <tr>\n",
       "      <th>0</th>\n",
       "      <td>Daily Discussion Thread + Game Thread In</td>\n",
       "      <td># Game Threads Index (February 15, 2022):\\n\\n|...</td>\n",
       "      <td>non programming</td>\n",
       "      <td>Not a language</td>\n",
       "    </tr>\n",
       "    <tr>\n",
       "      <th>1</th>\n",
       "      <td>[SERIOUS NEXT DAY THREAD] Post-Game Disc</td>\n",
       "      <td>Here is a place to have in depth, x's and o's,...</td>\n",
       "      <td>non programming</td>\n",
       "      <td>Not a language</td>\n",
       "    </tr>\n",
       "    <tr>\n",
       "      <th>2</th>\n",
       "      <td>[Fischer] Durant and Nash wanted a free-</td>\n",
       "      <td>https://bleacherreport.com/articles/2953512-in...</td>\n",
       "      <td>non programming</td>\n",
       "      <td>Not a language</td>\n",
       "    </tr>\n",
       "    <tr>\n",
       "      <th>3</th>\n",
       "      <td>James Harden teaching Joel Embiid how to</td>\n",
       "      <td></td>\n",
       "      <td>non programming</td>\n",
       "      <td>Not a language</td>\n",
       "    </tr>\n",
       "    <tr>\n",
       "      <th>4</th>\n",
       "      <td>Harden on if Kyrie's vax situation impac</td>\n",
       "      <td>[Source](https://twitter.com/JoePantorno/statu...</td>\n",
       "      <td>non programming</td>\n",
       "      <td>Not a language</td>\n",
       "    </tr>\n",
       "  </tbody>\n",
       "</table>\n",
       "</div>"
      ],
      "text/plain": [
       "                                      title  \\\n",
       "0  Daily Discussion Thread + Game Thread In   \n",
       "1  [SERIOUS NEXT DAY THREAD] Post-Game Disc   \n",
       "2  [Fischer] Durant and Nash wanted a free-   \n",
       "3  James Harden teaching Joel Embiid how to   \n",
       "4  Harden on if Kyrie's vax situation impac   \n",
       "\n",
       "                                                text            class  \\\n",
       "0  # Game Threads Index (February 15, 2022):\\n\\n|...  non programming   \n",
       "1  Here is a place to have in depth, x's and o's,...  non programming   \n",
       "2  https://bleacherreport.com/articles/2953512-in...  non programming   \n",
       "3                                                     non programming   \n",
       "4  [Source](https://twitter.com/JoePantorno/statu...  non programming   \n",
       "\n",
       "         language  \n",
       "0  Not a language  \n",
       "1  Not a language  \n",
       "2  Not a language  \n",
       "3  Not a language  \n",
       "4  Not a language  "
      ]
     },
     "execution_count": 15,
     "metadata": {},
     "output_type": "execute_result"
    }
   ],
   "source": [
    "df6.head()"
   ]
  },
  {
   "cell_type": "code",
   "execution_count": 16,
   "id": "09e62035",
   "metadata": {},
   "outputs": [],
   "source": [
    "subred = reddit.subreddit(\"news\")  \n",
    "\n",
    "df7 = []\n",
    "for post in subred.hot( limit=5000):\n",
    "    df7.append([post.title[:40], post.selftext, \"non programming\", \"Not a language\"])\n",
    "df7 = pd.DataFrame(df7, columns=[\"title\",\"text\",\"class\", \"language\"])"
   ]
  },
  {
   "cell_type": "code",
   "execution_count": 17,
   "id": "7c9873ee",
   "metadata": {},
   "outputs": [
    {
     "data": {
      "text/html": [
       "<div>\n",
       "<style scoped>\n",
       "    .dataframe tbody tr th:only-of-type {\n",
       "        vertical-align: middle;\n",
       "    }\n",
       "\n",
       "    .dataframe tbody tr th {\n",
       "        vertical-align: top;\n",
       "    }\n",
       "\n",
       "    .dataframe thead th {\n",
       "        text-align: right;\n",
       "    }\n",
       "</style>\n",
       "<table border=\"1\" class=\"dataframe\">\n",
       "  <thead>\n",
       "    <tr style=\"text-align: right;\">\n",
       "      <th></th>\n",
       "      <th>title</th>\n",
       "      <th>text</th>\n",
       "      <th>class</th>\n",
       "      <th>language</th>\n",
       "    </tr>\n",
       "  </thead>\n",
       "  <tbody>\n",
       "    <tr>\n",
       "      <th>0</th>\n",
       "      <td>FBI: Americans Lost $1 Billion to Romanc</td>\n",
       "      <td></td>\n",
       "      <td>non programming</td>\n",
       "      <td>Not a language</td>\n",
       "    </tr>\n",
       "    <tr>\n",
       "      <th>1</th>\n",
       "      <td>Sandy Hook families settle with gun make</td>\n",
       "      <td></td>\n",
       "      <td>non programming</td>\n",
       "      <td>Not a language</td>\n",
       "    </tr>\n",
       "    <tr>\n",
       "      <th>2</th>\n",
       "      <td>Long Island Man Claims Cops Ripped Off H</td>\n",
       "      <td></td>\n",
       "      <td>non programming</td>\n",
       "      <td>Not a language</td>\n",
       "    </tr>\n",
       "    <tr>\n",
       "      <th>3</th>\n",
       "      <td>Alexei Navalny faces 15 more years in pr</td>\n",
       "      <td></td>\n",
       "      <td>non programming</td>\n",
       "      <td>Not a language</td>\n",
       "    </tr>\n",
       "    <tr>\n",
       "      <th>4</th>\n",
       "      <td>Scientists have possibly cured HIV in a</td>\n",
       "      <td></td>\n",
       "      <td>non programming</td>\n",
       "      <td>Not a language</td>\n",
       "    </tr>\n",
       "  </tbody>\n",
       "</table>\n",
       "</div>"
      ],
      "text/plain": [
       "                                      title text            class  \\\n",
       "0  FBI: Americans Lost $1 Billion to Romanc       non programming   \n",
       "1  Sandy Hook families settle with gun make       non programming   \n",
       "2  Long Island Man Claims Cops Ripped Off H       non programming   \n",
       "3  Alexei Navalny faces 15 more years in pr       non programming   \n",
       "4  Scientists have possibly cured HIV in a        non programming   \n",
       "\n",
       "         language  \n",
       "0  Not a language  \n",
       "1  Not a language  \n",
       "2  Not a language  \n",
       "3  Not a language  \n",
       "4  Not a language  "
      ]
     },
     "execution_count": 17,
     "metadata": {},
     "output_type": "execute_result"
    }
   ],
   "source": [
    "df7.head()"
   ]
  },
  {
   "cell_type": "code",
   "execution_count": 18,
   "id": "d838a9af",
   "metadata": {},
   "outputs": [],
   "source": [
    "subred = reddit.subreddit(\"europe\")  \n",
    "\n",
    "df8 = []\n",
    "for post in subred.hot( limit=5000):\n",
    "    df8.append([post.title[:40], post.selftext, \"non programming\", \"Not a language\"])\n",
    "df8 = pd.DataFrame(df8, columns=[\"title\",\"text\",\"class\", \"language\"])"
   ]
  },
  {
   "cell_type": "code",
   "execution_count": 19,
   "id": "474d1e1c",
   "metadata": {},
   "outputs": [
    {
     "data": {
      "text/html": [
       "<div>\n",
       "<style scoped>\n",
       "    .dataframe tbody tr th:only-of-type {\n",
       "        vertical-align: middle;\n",
       "    }\n",
       "\n",
       "    .dataframe tbody tr th {\n",
       "        vertical-align: top;\n",
       "    }\n",
       "\n",
       "    .dataframe thead th {\n",
       "        text-align: right;\n",
       "    }\n",
       "</style>\n",
       "<table border=\"1\" class=\"dataframe\">\n",
       "  <thead>\n",
       "    <tr style=\"text-align: right;\">\n",
       "      <th></th>\n",
       "      <th>title</th>\n",
       "      <th>text</th>\n",
       "      <th>class</th>\n",
       "      <th>language</th>\n",
       "    </tr>\n",
       "  </thead>\n",
       "  <tbody>\n",
       "    <tr>\n",
       "      <th>0</th>\n",
       "      <td>What happened in your country this week?</td>\n",
       "      <td>**Welcome to the weekly European news gatherin...</td>\n",
       "      <td>non programming</td>\n",
       "      <td>Not a language</td>\n",
       "    </tr>\n",
       "    <tr>\n",
       "      <th>1</th>\n",
       "      <td>Ukraine-Russia Conflict Megathread 4</td>\n",
       "      <td>‎As news of the confrontation between Ukraine ...</td>\n",
       "      <td>non programming</td>\n",
       "      <td>Not a language</td>\n",
       "    </tr>\n",
       "    <tr>\n",
       "      <th>2</th>\n",
       "      <td>\"When a slave sets foot in Serbia, he/sh</td>\n",
       "      <td></td>\n",
       "      <td>non programming</td>\n",
       "      <td>Not a language</td>\n",
       "    </tr>\n",
       "    <tr>\n",
       "      <th>3</th>\n",
       "      <td>A random fact I recently noticed: Italy</td>\n",
       "      <td></td>\n",
       "      <td>non programming</td>\n",
       "      <td>Not a language</td>\n",
       "    </tr>\n",
       "    <tr>\n",
       "      <th>4</th>\n",
       "      <td>Belgium approves four-day week and gives</td>\n",
       "      <td></td>\n",
       "      <td>non programming</td>\n",
       "      <td>Not a language</td>\n",
       "    </tr>\n",
       "  </tbody>\n",
       "</table>\n",
       "</div>"
      ],
      "text/plain": [
       "                                      title  \\\n",
       "0  What happened in your country this week?   \n",
       "1      Ukraine-Russia Conflict Megathread 4   \n",
       "2  \"When a slave sets foot in Serbia, he/sh   \n",
       "3  A random fact I recently noticed: Italy    \n",
       "4  Belgium approves four-day week and gives   \n",
       "\n",
       "                                                text            class  \\\n",
       "0  **Welcome to the weekly European news gatherin...  non programming   \n",
       "1  ‎As news of the confrontation between Ukraine ...  non programming   \n",
       "2                                                     non programming   \n",
       "3                                                     non programming   \n",
       "4                                                     non programming   \n",
       "\n",
       "         language  \n",
       "0  Not a language  \n",
       "1  Not a language  \n",
       "2  Not a language  \n",
       "3  Not a language  \n",
       "4  Not a language  "
      ]
     },
     "execution_count": 19,
     "metadata": {},
     "output_type": "execute_result"
    }
   ],
   "source": [
    "df8.head()"
   ]
  },
  {
   "cell_type": "code",
   "execution_count": 20,
   "id": "ac0043ad",
   "metadata": {},
   "outputs": [],
   "source": [
    "subred = reddit.subreddit(\"angular\")  \n",
    "\n",
    "df9 = []\n",
    "for post in subred.hot( limit=5000):\n",
    "    df9.append([post.title[:40], post.selftext, \"programming\", \"Angular\"])\n",
    "df9 = pd.DataFrame(df9, columns=[\"title\",\"text\",\"class\", \"language\"])"
   ]
  },
  {
   "cell_type": "code",
   "execution_count": 21,
   "id": "d40a11fb",
   "metadata": {},
   "outputs": [
    {
     "data": {
      "text/html": [
       "<div>\n",
       "<style scoped>\n",
       "    .dataframe tbody tr th:only-of-type {\n",
       "        vertical-align: middle;\n",
       "    }\n",
       "\n",
       "    .dataframe tbody tr th {\n",
       "        vertical-align: top;\n",
       "    }\n",
       "\n",
       "    .dataframe thead th {\n",
       "        text-align: right;\n",
       "    }\n",
       "</style>\n",
       "<table border=\"1\" class=\"dataframe\">\n",
       "  <thead>\n",
       "    <tr style=\"text-align: right;\">\n",
       "      <th></th>\n",
       "      <th>title</th>\n",
       "      <th>text</th>\n",
       "      <th>class</th>\n",
       "      <th>language</th>\n",
       "    </tr>\n",
       "  </thead>\n",
       "  <tbody>\n",
       "    <tr>\n",
       "      <th>0</th>\n",
       "      <td>Angular 12 in depth</td>\n",
       "      <td></td>\n",
       "      <td>programming</td>\n",
       "      <td>Angular</td>\n",
       "    </tr>\n",
       "    <tr>\n",
       "      <th>1</th>\n",
       "      <td>How to Contribute to Angular Material —</td>\n",
       "      <td></td>\n",
       "      <td>programming</td>\n",
       "      <td>Angular</td>\n",
       "    </tr>\n",
       "    <tr>\n",
       "      <th>2</th>\n",
       "      <td>RxJS in Angular: from beginner to advanc</td>\n",
       "      <td></td>\n",
       "      <td>programming</td>\n",
       "      <td>Angular</td>\n",
       "    </tr>\n",
       "    <tr>\n",
       "      <th>3</th>\n",
       "      <td>Is it possible to get webpack.config.js</td>\n",
       "      <td>I know how to custom webpack, but I still want...</td>\n",
       "      <td>programming</td>\n",
       "      <td>Angular</td>\n",
       "    </tr>\n",
       "    <tr>\n",
       "      <th>4</th>\n",
       "      <td>Approach for Creating a Landing Page</td>\n",
       "      <td>Hi. I'm fairly new with Angular. I'm creating ...</td>\n",
       "      <td>programming</td>\n",
       "      <td>Angular</td>\n",
       "    </tr>\n",
       "  </tbody>\n",
       "</table>\n",
       "</div>"
      ],
      "text/plain": [
       "                                      title  \\\n",
       "0                       Angular 12 in depth   \n",
       "1  How to Contribute to Angular Material —    \n",
       "2  RxJS in Angular: from beginner to advanc   \n",
       "3  Is it possible to get webpack.config.js    \n",
       "4      Approach for Creating a Landing Page   \n",
       "\n",
       "                                                text        class language  \n",
       "0                                                     programming  Angular  \n",
       "1                                                     programming  Angular  \n",
       "2                                                     programming  Angular  \n",
       "3  I know how to custom webpack, but I still want...  programming  Angular  \n",
       "4  Hi. I'm fairly new with Angular. I'm creating ...  programming  Angular  "
      ]
     },
     "execution_count": 21,
     "metadata": {},
     "output_type": "execute_result"
    }
   ],
   "source": [
    "df9.head()"
   ]
  },
  {
   "cell_type": "code",
   "execution_count": 22,
   "id": "88541b4e",
   "metadata": {},
   "outputs": [],
   "source": [
    "subred = reddit.subreddit(\"Motorcycles\")  \n",
    "\n",
    "df10 = []\n",
    "for post in subred.hot( limit=5000):\n",
    "    df10.append([post.title[:40], post.selftext, \"non programming\", \"Not a language\"])\n",
    "df10 = pd.DataFrame(df10, columns=[\"title\",\"text\",\"class\", \"language\"])"
   ]
  },
  {
   "cell_type": "code",
   "execution_count": 23,
   "id": "7f8c7cbe",
   "metadata": {},
   "outputs": [
    {
     "data": {
      "text/html": [
       "<div>\n",
       "<style scoped>\n",
       "    .dataframe tbody tr th:only-of-type {\n",
       "        vertical-align: middle;\n",
       "    }\n",
       "\n",
       "    .dataframe tbody tr th {\n",
       "        vertical-align: top;\n",
       "    }\n",
       "\n",
       "    .dataframe thead th {\n",
       "        text-align: right;\n",
       "    }\n",
       "</style>\n",
       "<table border=\"1\" class=\"dataframe\">\n",
       "  <thead>\n",
       "    <tr style=\"text-align: right;\">\n",
       "      <th></th>\n",
       "      <th>title</th>\n",
       "      <th>text</th>\n",
       "      <th>class</th>\n",
       "      <th>language</th>\n",
       "    </tr>\n",
       "  </thead>\n",
       "  <tbody>\n",
       "    <tr>\n",
       "      <th>0</th>\n",
       "      <td>REMINDER: Riding season is almost here!</td>\n",
       "      <td># [Quick Link To Current Superthread](https://...</td>\n",
       "      <td>non programming</td>\n",
       "      <td>Not a language</td>\n",
       "    </tr>\n",
       "    <tr>\n",
       "      <th>1</th>\n",
       "      <td>Purchase Advice Superthread</td>\n",
       "      <td># PURCHASE ADVICE SUPERTHREAD!\\n\\nA dedicated ...</td>\n",
       "      <td>non programming</td>\n",
       "      <td>Not a language</td>\n",
       "    </tr>\n",
       "    <tr>\n",
       "      <th>2</th>\n",
       "      <td>body position practice</td>\n",
       "      <td></td>\n",
       "      <td>non programming</td>\n",
       "      <td>Not a language</td>\n",
       "    </tr>\n",
       "    <tr>\n",
       "      <th>3</th>\n",
       "      <td>Master of aquaplanning</td>\n",
       "      <td></td>\n",
       "      <td>non programming</td>\n",
       "      <td>Not a language</td>\n",
       "    </tr>\n",
       "    <tr>\n",
       "      <th>4</th>\n",
       "      <td>Anyone have ideas about my aftermarket t</td>\n",
       "      <td></td>\n",
       "      <td>non programming</td>\n",
       "      <td>Not a language</td>\n",
       "    </tr>\n",
       "  </tbody>\n",
       "</table>\n",
       "</div>"
      ],
      "text/plain": [
       "                                      title  \\\n",
       "0  REMINDER: Riding season is almost here!    \n",
       "1               Purchase Advice Superthread   \n",
       "2                    body position practice   \n",
       "3                    Master of aquaplanning   \n",
       "4  Anyone have ideas about my aftermarket t   \n",
       "\n",
       "                                                text            class  \\\n",
       "0  # [Quick Link To Current Superthread](https://...  non programming   \n",
       "1  # PURCHASE ADVICE SUPERTHREAD!\\n\\nA dedicated ...  non programming   \n",
       "2                                                     non programming   \n",
       "3                                                     non programming   \n",
       "4                                                     non programming   \n",
       "\n",
       "         language  \n",
       "0  Not a language  \n",
       "1  Not a language  \n",
       "2  Not a language  \n",
       "3  Not a language  \n",
       "4  Not a language  "
      ]
     },
     "execution_count": 23,
     "metadata": {},
     "output_type": "execute_result"
    }
   ],
   "source": [
    "df10.head()"
   ]
  },
  {
   "cell_type": "code",
   "execution_count": 24,
   "id": "41d25f28",
   "metadata": {},
   "outputs": [],
   "source": [
    "subred = reddit.subreddit(\"PHP\")  \n",
    "\n",
    "df11 = []\n",
    "for post in subred.hot( limit=5000):\n",
    "    df11.append([post.title[:40], post.selftext, \"programming\", \"PHP\"])\n",
    "df11 = pd.DataFrame(df11, columns=[\"title\",\"text\",\"class\", \"language\"])"
   ]
  },
  {
   "cell_type": "code",
   "execution_count": 25,
   "id": "51e6e0f3",
   "metadata": {},
   "outputs": [
    {
     "data": {
      "text/html": [
       "<div>\n",
       "<style scoped>\n",
       "    .dataframe tbody tr th:only-of-type {\n",
       "        vertical-align: middle;\n",
       "    }\n",
       "\n",
       "    .dataframe tbody tr th {\n",
       "        vertical-align: top;\n",
       "    }\n",
       "\n",
       "    .dataframe thead th {\n",
       "        text-align: right;\n",
       "    }\n",
       "</style>\n",
       "<table border=\"1\" class=\"dataframe\">\n",
       "  <thead>\n",
       "    <tr style=\"text-align: right;\">\n",
       "      <th></th>\n",
       "      <th>title</th>\n",
       "      <th>text</th>\n",
       "      <th>class</th>\n",
       "      <th>language</th>\n",
       "    </tr>\n",
       "  </thead>\n",
       "  <tbody>\n",
       "    <tr>\n",
       "      <th>0</th>\n",
       "      <td>Weekly \"ask anything\" thread</td>\n",
       "      <td>Hey there!\\n\\nThis subreddit isn't meant for h...</td>\n",
       "      <td>programming</td>\n",
       "      <td>PHP</td>\n",
       "    </tr>\n",
       "    <tr>\n",
       "      <th>1</th>\n",
       "      <td>PHP Benchmarks (2022) for 14 different P</td>\n",
       "      <td>I'm back almost a year later with a new round ...</td>\n",
       "      <td>programming</td>\n",
       "      <td>PHP</td>\n",
       "    </tr>\n",
       "    <tr>\n",
       "      <th>2</th>\n",
       "      <td>novinha do face http://facebookfotosevid</td>\n",
       "      <td></td>\n",
       "      <td>programming</td>\n",
       "      <td>PHP</td>\n",
       "    </tr>\n",
       "    <tr>\n",
       "      <th>3</th>\n",
       "      <td>[need help] From Go to PHP</td>\n",
       "      <td>Hi. I've been developing in Go for over 6 year...</td>\n",
       "      <td>programming</td>\n",
       "      <td>PHP</td>\n",
       "    </tr>\n",
       "    <tr>\n",
       "      <th>4</th>\n",
       "      <td>Integrate Firebase web notification in t</td>\n",
       "      <td>Web notifications are messages sent to a visit...</td>\n",
       "      <td>programming</td>\n",
       "      <td>PHP</td>\n",
       "    </tr>\n",
       "  </tbody>\n",
       "</table>\n",
       "</div>"
      ],
      "text/plain": [
       "                                      title  \\\n",
       "0              Weekly \"ask anything\" thread   \n",
       "1  PHP Benchmarks (2022) for 14 different P   \n",
       "2  novinha do face http://facebookfotosevid   \n",
       "3                [need help] From Go to PHP   \n",
       "4  Integrate Firebase web notification in t   \n",
       "\n",
       "                                                text        class language  \n",
       "0  Hey there!\\n\\nThis subreddit isn't meant for h...  programming      PHP  \n",
       "1  I'm back almost a year later with a new round ...  programming      PHP  \n",
       "2                                                     programming      PHP  \n",
       "3  Hi. I've been developing in Go for over 6 year...  programming      PHP  \n",
       "4  Web notifications are messages sent to a visit...  programming      PHP  "
      ]
     },
     "execution_count": 25,
     "metadata": {},
     "output_type": "execute_result"
    }
   ],
   "source": [
    "df11.head()"
   ]
  },
  {
   "cell_type": "code",
   "execution_count": 26,
   "id": "7a672b76",
   "metadata": {},
   "outputs": [],
   "source": [
    "subred = reddit.subreddit(\"Damnthatsinteresting\")  \n",
    "\n",
    "df12 = []\n",
    "for post in subred.hot( limit=5000):\n",
    "    df12.append([post.title[:40], post.selftext, \"non programming\", \"Not a language\"])\n",
    "df12 = pd.DataFrame(df12, columns=[\"title\",\"text\",\"class\", \"language\"])"
   ]
  },
  {
   "cell_type": "code",
   "execution_count": 27,
   "id": "ef1ca699",
   "metadata": {},
   "outputs": [
    {
     "data": {
      "text/html": [
       "<div>\n",
       "<style scoped>\n",
       "    .dataframe tbody tr th:only-of-type {\n",
       "        vertical-align: middle;\n",
       "    }\n",
       "\n",
       "    .dataframe tbody tr th {\n",
       "        vertical-align: top;\n",
       "    }\n",
       "\n",
       "    .dataframe thead th {\n",
       "        text-align: right;\n",
       "    }\n",
       "</style>\n",
       "<table border=\"1\" class=\"dataframe\">\n",
       "  <thead>\n",
       "    <tr style=\"text-align: right;\">\n",
       "      <th></th>\n",
       "      <th>title</th>\n",
       "      <th>text</th>\n",
       "      <th>class</th>\n",
       "      <th>language</th>\n",
       "    </tr>\n",
       "  </thead>\n",
       "  <tbody>\n",
       "    <tr>\n",
       "      <th>0</th>\n",
       "      <td>Map shows Netherlands progress in flood</td>\n",
       "      <td></td>\n",
       "      <td>non programming</td>\n",
       "      <td>Not a language</td>\n",
       "    </tr>\n",
       "    <tr>\n",
       "      <th>1</th>\n",
       "      <td>Women who previously worked in Clinical</td>\n",
       "      <td></td>\n",
       "      <td>non programming</td>\n",
       "      <td>Not a language</td>\n",
       "    </tr>\n",
       "    <tr>\n",
       "      <th>2</th>\n",
       "      <td>This Victorian Invention Saved Thousands</td>\n",
       "      <td></td>\n",
       "      <td>non programming</td>\n",
       "      <td>Not a language</td>\n",
       "    </tr>\n",
       "    <tr>\n",
       "      <th>3</th>\n",
       "      <td>Digital artists recreated the changes of</td>\n",
       "      <td></td>\n",
       "      <td>non programming</td>\n",
       "      <td>Not a language</td>\n",
       "    </tr>\n",
       "    <tr>\n",
       "      <th>4</th>\n",
       "      <td>3D modelling just by walking around the</td>\n",
       "      <td></td>\n",
       "      <td>non programming</td>\n",
       "      <td>Not a language</td>\n",
       "    </tr>\n",
       "  </tbody>\n",
       "</table>\n",
       "</div>"
      ],
      "text/plain": [
       "                                      title text            class  \\\n",
       "0  Map shows Netherlands progress in flood        non programming   \n",
       "1  Women who previously worked in Clinical        non programming   \n",
       "2  This Victorian Invention Saved Thousands       non programming   \n",
       "3  Digital artists recreated the changes of       non programming   \n",
       "4  3D modelling just by walking around the        non programming   \n",
       "\n",
       "         language  \n",
       "0  Not a language  \n",
       "1  Not a language  \n",
       "2  Not a language  \n",
       "3  Not a language  \n",
       "4  Not a language  "
      ]
     },
     "execution_count": 27,
     "metadata": {},
     "output_type": "execute_result"
    }
   ],
   "source": [
    "df12.head()"
   ]
  },
  {
   "cell_type": "code",
   "execution_count": 28,
   "id": "a92aa7a8",
   "metadata": {},
   "outputs": [],
   "source": [
    "subred = reddit.subreddit(\"golang\")  \n",
    "\n",
    "df13 = []\n",
    "for post in subred.hot( limit=5000):\n",
    "    df13.append([post.title[:40], post.selftext, \"programming\", \"Go\"])\n",
    "df13 = pd.DataFrame(df13, columns=[\"title\",\"text\",\"class\", \"language\"])"
   ]
  },
  {
   "cell_type": "code",
   "execution_count": 29,
   "id": "0a77dcf1",
   "metadata": {},
   "outputs": [
    {
     "data": {
      "text/html": [
       "<div>\n",
       "<style scoped>\n",
       "    .dataframe tbody tr th:only-of-type {\n",
       "        vertical-align: middle;\n",
       "    }\n",
       "\n",
       "    .dataframe tbody tr th {\n",
       "        vertical-align: top;\n",
       "    }\n",
       "\n",
       "    .dataframe thead th {\n",
       "        text-align: right;\n",
       "    }\n",
       "</style>\n",
       "<table border=\"1\" class=\"dataframe\">\n",
       "  <thead>\n",
       "    <tr style=\"text-align: right;\">\n",
       "      <th></th>\n",
       "      <th>title</th>\n",
       "      <th>text</th>\n",
       "      <th>class</th>\n",
       "      <th>language</th>\n",
       "    </tr>\n",
       "  </thead>\n",
       "  <tbody>\n",
       "    <tr>\n",
       "      <th>0</th>\n",
       "      <td>CloverDB</td>\n",
       "      <td>Hi, all! I wrote a storage project in Golang. ...</td>\n",
       "      <td>programming</td>\n",
       "      <td>Go</td>\n",
       "    </tr>\n",
       "    <tr>\n",
       "      <th>1</th>\n",
       "      <td>Continuous Build and Deployment of Go Ap</td>\n",
       "      <td></td>\n",
       "      <td>programming</td>\n",
       "      <td>Go</td>\n",
       "    </tr>\n",
       "    <tr>\n",
       "      <th>2</th>\n",
       "      <td>Yet another graphics library but for ter</td>\n",
       "      <td></td>\n",
       "      <td>programming</td>\n",
       "      <td>Go</td>\n",
       "    </tr>\n",
       "    <tr>\n",
       "      <th>3</th>\n",
       "      <td>mature alternative for webview?</td>\n",
       "      <td>I was playing around with [webview](https://gi...</td>\n",
       "      <td>programming</td>\n",
       "      <td>Go</td>\n",
       "    </tr>\n",
       "    <tr>\n",
       "      <th>4</th>\n",
       "      <td>log in and modules I could make use of</td>\n",
       "      <td>Hi fellow Gophers! I'm a new gopher who is sti...</td>\n",
       "      <td>programming</td>\n",
       "      <td>Go</td>\n",
       "    </tr>\n",
       "  </tbody>\n",
       "</table>\n",
       "</div>"
      ],
      "text/plain": [
       "                                      title  \\\n",
       "0                                  CloverDB   \n",
       "1  Continuous Build and Deployment of Go Ap   \n",
       "2  Yet another graphics library but for ter   \n",
       "3           mature alternative for webview?   \n",
       "4    log in and modules I could make use of   \n",
       "\n",
       "                                                text        class language  \n",
       "0  Hi, all! I wrote a storage project in Golang. ...  programming       Go  \n",
       "1                                                     programming       Go  \n",
       "2                                                     programming       Go  \n",
       "3  I was playing around with [webview](https://gi...  programming       Go  \n",
       "4  Hi fellow Gophers! I'm a new gopher who is sti...  programming       Go  "
      ]
     },
     "execution_count": 29,
     "metadata": {},
     "output_type": "execute_result"
    }
   ],
   "source": [
    "df13.head()"
   ]
  },
  {
   "cell_type": "code",
   "execution_count": 30,
   "id": "e7c7f6f4",
   "metadata": {},
   "outputs": [],
   "source": [
    "subred = reddit.subreddit(\"AskReddit\")  \n",
    "\n",
    "df14 = []\n",
    "for post in subred.hot( limit=5000):\n",
    "    df14.append([post.title[:40], post.selftext, \"non programming\", \"Not a language\"])\n",
    "df14 = pd.DataFrame(df14, columns=[\"title\",\"text\",\"class\", \"language\"])"
   ]
  },
  {
   "cell_type": "code",
   "execution_count": 31,
   "id": "18a95c30",
   "metadata": {},
   "outputs": [
    {
     "data": {
      "text/html": [
       "<div>\n",
       "<style scoped>\n",
       "    .dataframe tbody tr th:only-of-type {\n",
       "        vertical-align: middle;\n",
       "    }\n",
       "\n",
       "    .dataframe tbody tr th {\n",
       "        vertical-align: top;\n",
       "    }\n",
       "\n",
       "    .dataframe thead th {\n",
       "        text-align: right;\n",
       "    }\n",
       "</style>\n",
       "<table border=\"1\" class=\"dataframe\">\n",
       "  <thead>\n",
       "    <tr style=\"text-align: right;\">\n",
       "      <th></th>\n",
       "      <th>title</th>\n",
       "      <th>text</th>\n",
       "      <th>class</th>\n",
       "      <th>language</th>\n",
       "    </tr>\n",
       "  </thead>\n",
       "  <tbody>\n",
       "    <tr>\n",
       "      <th>0</th>\n",
       "      <td>What’s one thing your partner doesn’t kn</td>\n",
       "      <td></td>\n",
       "      <td>non programming</td>\n",
       "      <td>Not a language</td>\n",
       "    </tr>\n",
       "    <tr>\n",
       "      <th>1</th>\n",
       "      <td>What makes you nope out of reading a lon</td>\n",
       "      <td></td>\n",
       "      <td>non programming</td>\n",
       "      <td>Not a language</td>\n",
       "    </tr>\n",
       "    <tr>\n",
       "      <th>2</th>\n",
       "      <td>What pisses you off instantly?</td>\n",
       "      <td></td>\n",
       "      <td>non programming</td>\n",
       "      <td>Not a language</td>\n",
       "    </tr>\n",
       "    <tr>\n",
       "      <th>3</th>\n",
       "      <td>What’s the most beautiful word in the wo</td>\n",
       "      <td></td>\n",
       "      <td>non programming</td>\n",
       "      <td>Not a language</td>\n",
       "    </tr>\n",
       "    <tr>\n",
       "      <th>4</th>\n",
       "      <td>What's the most uncomfortable compliment</td>\n",
       "      <td></td>\n",
       "      <td>non programming</td>\n",
       "      <td>Not a language</td>\n",
       "    </tr>\n",
       "  </tbody>\n",
       "</table>\n",
       "</div>"
      ],
      "text/plain": [
       "                                      title text            class  \\\n",
       "0  What’s one thing your partner doesn’t kn       non programming   \n",
       "1  What makes you nope out of reading a lon       non programming   \n",
       "2            What pisses you off instantly?       non programming   \n",
       "3  What’s the most beautiful word in the wo       non programming   \n",
       "4  What's the most uncomfortable compliment       non programming   \n",
       "\n",
       "         language  \n",
       "0  Not a language  \n",
       "1  Not a language  \n",
       "2  Not a language  \n",
       "3  Not a language  \n",
       "4  Not a language  "
      ]
     },
     "execution_count": 31,
     "metadata": {},
     "output_type": "execute_result"
    }
   ],
   "source": [
    "df14.head()"
   ]
  },
  {
   "cell_type": "code",
   "execution_count": 32,
   "id": "3c1900c9",
   "metadata": {},
   "outputs": [],
   "source": [
    "subred = reddit.subreddit(\"Music\")  \n",
    "\n",
    "df15 = []\n",
    "for post in subred.hot( limit=5000):\n",
    "    df15.append([post.title[:40], post.selftext, \"non programming\", \"Not a language\"])\n",
    "df15 = pd.DataFrame(df15, columns=[\"title\",\"text\",\"class\", \"language\"])"
   ]
  },
  {
   "cell_type": "code",
   "execution_count": 33,
   "id": "cfc2adb4",
   "metadata": {},
   "outputs": [
    {
     "data": {
      "text/html": [
       "<div>\n",
       "<style scoped>\n",
       "    .dataframe tbody tr th:only-of-type {\n",
       "        vertical-align: middle;\n",
       "    }\n",
       "\n",
       "    .dataframe tbody tr th {\n",
       "        vertical-align: top;\n",
       "    }\n",
       "\n",
       "    .dataframe thead th {\n",
       "        text-align: right;\n",
       "    }\n",
       "</style>\n",
       "<table border=\"1\" class=\"dataframe\">\n",
       "  <thead>\n",
       "    <tr style=\"text-align: right;\">\n",
       "      <th></th>\n",
       "      <th>title</th>\n",
       "      <th>text</th>\n",
       "      <th>class</th>\n",
       "      <th>language</th>\n",
       "    </tr>\n",
       "  </thead>\n",
       "  <tbody>\n",
       "    <tr>\n",
       "      <th>0</th>\n",
       "      <td>what’s up, reddit? my name is Jeris John</td>\n",
       "      <td>rock music has been stuck in the mud for the ...</td>\n",
       "      <td>non programming</td>\n",
       "      <td>Not a language</td>\n",
       "    </tr>\n",
       "    <tr>\n",
       "      <th>1</th>\n",
       "      <td>What's your favorite one hit wonder? Min</td>\n",
       "      <td>I know it's just a lame pop song but man is it...</td>\n",
       "      <td>non programming</td>\n",
       "      <td>Not a language</td>\n",
       "    </tr>\n",
       "    <tr>\n",
       "      <th>2</th>\n",
       "      <td>What album do you wish you could wipe fr</td>\n",
       "      <td>Mine would be OK Computer, with Yankee Hotel F...</td>\n",
       "      <td>non programming</td>\n",
       "      <td>Not a language</td>\n",
       "    </tr>\n",
       "    <tr>\n",
       "      <th>3</th>\n",
       "      <td>60's Los Angeles, Psychedelics, And Radi</td>\n",
       "      <td>Hello, Reddit. Welcome to my radio station, SO...</td>\n",
       "      <td>non programming</td>\n",
       "      <td>Not a language</td>\n",
       "    </tr>\n",
       "    <tr>\n",
       "      <th>4</th>\n",
       "      <td>Why I can no longer support Kanye West.</td>\n",
       "      <td>I hope this counts as legitimate discussion. I...</td>\n",
       "      <td>non programming</td>\n",
       "      <td>Not a language</td>\n",
       "    </tr>\n",
       "  </tbody>\n",
       "</table>\n",
       "</div>"
      ],
      "text/plain": [
       "                                      title  \\\n",
       "0  what’s up, reddit? my name is Jeris John   \n",
       "1  What's your favorite one hit wonder? Min   \n",
       "2  What album do you wish you could wipe fr   \n",
       "3  60's Los Angeles, Psychedelics, And Radi   \n",
       "4  Why I can no longer support Kanye West.    \n",
       "\n",
       "                                                text            class  \\\n",
       "0   rock music has been stuck in the mud for the ...  non programming   \n",
       "1  I know it's just a lame pop song but man is it...  non programming   \n",
       "2  Mine would be OK Computer, with Yankee Hotel F...  non programming   \n",
       "3  Hello, Reddit. Welcome to my radio station, SO...  non programming   \n",
       "4  I hope this counts as legitimate discussion. I...  non programming   \n",
       "\n",
       "         language  \n",
       "0  Not a language  \n",
       "1  Not a language  \n",
       "2  Not a language  \n",
       "3  Not a language  \n",
       "4  Not a language  "
      ]
     },
     "execution_count": 33,
     "metadata": {},
     "output_type": "execute_result"
    }
   ],
   "source": [
    "df15.head()"
   ]
  },
  {
   "cell_type": "code",
   "execution_count": 34,
   "id": "e563af37",
   "metadata": {},
   "outputs": [],
   "source": [
    "subred = reddit.subreddit(\"worldnews\")  \n",
    "\n",
    "df16 = []\n",
    "for post in subred.hot( limit=5000):\n",
    "    df16.append([post.title[:40], post.selftext, \"non programming\", \"Not a language\"])\n",
    "df16 = pd.DataFrame(df16, columns=[\"title\",\"text\",\"class\", \"language\"])"
   ]
  },
  {
   "cell_type": "code",
   "execution_count": 35,
   "id": "588d551a",
   "metadata": {},
   "outputs": [
    {
     "data": {
      "text/html": [
       "<div>\n",
       "<style scoped>\n",
       "    .dataframe tbody tr th:only-of-type {\n",
       "        vertical-align: middle;\n",
       "    }\n",
       "\n",
       "    .dataframe tbody tr th {\n",
       "        vertical-align: top;\n",
       "    }\n",
       "\n",
       "    .dataframe thead th {\n",
       "        text-align: right;\n",
       "    }\n",
       "</style>\n",
       "<table border=\"1\" class=\"dataframe\">\n",
       "  <thead>\n",
       "    <tr style=\"text-align: right;\">\n",
       "      <th></th>\n",
       "      <th>title</th>\n",
       "      <th>text</th>\n",
       "      <th>class</th>\n",
       "      <th>language</th>\n",
       "    </tr>\n",
       "  </thead>\n",
       "  <tbody>\n",
       "    <tr>\n",
       "      <th>0</th>\n",
       "      <td>r/worldnews Live Thread: Ukraine-Russia</td>\n",
       "      <td></td>\n",
       "      <td>non programming</td>\n",
       "      <td>Not a language</td>\n",
       "    </tr>\n",
       "    <tr>\n",
       "      <th>1</th>\n",
       "      <td>Russian media reporting ‘thwarted terror</td>\n",
       "      <td></td>\n",
       "      <td>non programming</td>\n",
       "      <td>Not a language</td>\n",
       "    </tr>\n",
       "    <tr>\n",
       "      <th>2</th>\n",
       "      <td>Putin Claims 'Genocide' Happening in Don</td>\n",
       "      <td></td>\n",
       "      <td>non programming</td>\n",
       "      <td>Not a language</td>\n",
       "    </tr>\n",
       "    <tr>\n",
       "      <th>3</th>\n",
       "      <td>Ukraine reports cyber attack on defence</td>\n",
       "      <td></td>\n",
       "      <td>non programming</td>\n",
       "      <td>Not a language</td>\n",
       "    </tr>\n",
       "    <tr>\n",
       "      <th>4</th>\n",
       "      <td>Russia says it is pulling back some of i</td>\n",
       "      <td></td>\n",
       "      <td>non programming</td>\n",
       "      <td>Not a language</td>\n",
       "    </tr>\n",
       "  </tbody>\n",
       "</table>\n",
       "</div>"
      ],
      "text/plain": [
       "                                      title text            class  \\\n",
       "0  r/worldnews Live Thread: Ukraine-Russia        non programming   \n",
       "1  Russian media reporting ‘thwarted terror       non programming   \n",
       "2  Putin Claims 'Genocide' Happening in Don       non programming   \n",
       "3  Ukraine reports cyber attack on defence        non programming   \n",
       "4  Russia says it is pulling back some of i       non programming   \n",
       "\n",
       "         language  \n",
       "0  Not a language  \n",
       "1  Not a language  \n",
       "2  Not a language  \n",
       "3  Not a language  \n",
       "4  Not a language  "
      ]
     },
     "execution_count": 35,
     "metadata": {},
     "output_type": "execute_result"
    }
   ],
   "source": [
    "df16.head()"
   ]
  },
  {
   "cell_type": "code",
   "execution_count": 36,
   "id": "f466d815",
   "metadata": {},
   "outputs": [],
   "source": [
    "subred = reddit.subreddit(\"css\")  \n",
    "\n",
    "df17 = []\n",
    "for post in subred.hot( limit=5000):\n",
    "    df17.append([post.title[:40], post.selftext, \"programming\", \"CSS\"])\n",
    "df17 = pd.DataFrame(df17, columns=[\"title\",\"text\",\"class\", \"language\"])"
   ]
  },
  {
   "cell_type": "code",
   "execution_count": 37,
   "id": "864b1fd7",
   "metadata": {},
   "outputs": [
    {
     "data": {
      "text/html": [
       "<div>\n",
       "<style scoped>\n",
       "    .dataframe tbody tr th:only-of-type {\n",
       "        vertical-align: middle;\n",
       "    }\n",
       "\n",
       "    .dataframe tbody tr th {\n",
       "        vertical-align: top;\n",
       "    }\n",
       "\n",
       "    .dataframe thead th {\n",
       "        text-align: right;\n",
       "    }\n",
       "</style>\n",
       "<table border=\"1\" class=\"dataframe\">\n",
       "  <thead>\n",
       "    <tr style=\"text-align: right;\">\n",
       "      <th></th>\n",
       "      <th>title</th>\n",
       "      <th>text</th>\n",
       "      <th>class</th>\n",
       "      <th>language</th>\n",
       "    </tr>\n",
       "  </thead>\n",
       "  <tbody>\n",
       "    <tr>\n",
       "      <th>0</th>\n",
       "      <td>CSS FULL COURSE FOR BEGINNERS 2022 | HTM</td>\n",
       "      <td></td>\n",
       "      <td>programming</td>\n",
       "      <td>CSS</td>\n",
       "    </tr>\n",
       "    <tr>\n",
       "      <th>1</th>\n",
       "      <td>Help me with Responsive CSS for this.</td>\n",
       "      <td>&amp;#x200B;\\n\\nhttps://preview.redd.it/fec9v873zz...</td>\n",
       "      <td>programming</td>\n",
       "      <td>CSS</td>\n",
       "    </tr>\n",
       "    <tr>\n",
       "      <th>2</th>\n",
       "      <td>CSS Scroll Snap Slide Deck That Supports</td>\n",
       "      <td></td>\n",
       "      <td>programming</td>\n",
       "      <td>CSS</td>\n",
       "    </tr>\n",
       "    <tr>\n",
       "      <th>3</th>\n",
       "      <td>Animated Responsive Landing Page with pu</td>\n",
       "      <td></td>\n",
       "      <td>programming</td>\n",
       "      <td>CSS</td>\n",
       "    </tr>\n",
       "    <tr>\n",
       "      <th>4</th>\n",
       "      <td>Fancy letterhead style background</td>\n",
       "      <td>You know the feel of the paper when you handle...</td>\n",
       "      <td>programming</td>\n",
       "      <td>CSS</td>\n",
       "    </tr>\n",
       "  </tbody>\n",
       "</table>\n",
       "</div>"
      ],
      "text/plain": [
       "                                      title  \\\n",
       "0  CSS FULL COURSE FOR BEGINNERS 2022 | HTM   \n",
       "1     Help me with Responsive CSS for this.   \n",
       "2  CSS Scroll Snap Slide Deck That Supports   \n",
       "3  Animated Responsive Landing Page with pu   \n",
       "4         Fancy letterhead style background   \n",
       "\n",
       "                                                text        class language  \n",
       "0                                                     programming      CSS  \n",
       "1  &#x200B;\\n\\nhttps://preview.redd.it/fec9v873zz...  programming      CSS  \n",
       "2                                                     programming      CSS  \n",
       "3                                                     programming      CSS  \n",
       "4  You know the feel of the paper when you handle...  programming      CSS  "
      ]
     },
     "execution_count": 37,
     "metadata": {},
     "output_type": "execute_result"
    }
   ],
   "source": [
    "df17.head()"
   ]
  },
  {
   "cell_type": "code",
   "execution_count": 38,
   "id": "3095c3dc",
   "metadata": {},
   "outputs": [],
   "source": [
    "subred = reddit.subreddit(\"Java\")  \n",
    "\n",
    "df18 = []\n",
    "for post in subred.hot( limit=5000):\n",
    "    df18.append([post.title[:40], post.selftext, \"programming\", \"Java\"])\n",
    "df18 = pd.DataFrame(df18, columns=[\"title\",\"text\",\"class\", \"language\"])"
   ]
  },
  {
   "cell_type": "code",
   "execution_count": 39,
   "id": "226a0a3c",
   "metadata": {},
   "outputs": [
    {
     "data": {
      "text/html": [
       "<div>\n",
       "<style scoped>\n",
       "    .dataframe tbody tr th:only-of-type {\n",
       "        vertical-align: middle;\n",
       "    }\n",
       "\n",
       "    .dataframe tbody tr th {\n",
       "        vertical-align: top;\n",
       "    }\n",
       "\n",
       "    .dataframe thead th {\n",
       "        text-align: right;\n",
       "    }\n",
       "</style>\n",
       "<table border=\"1\" class=\"dataframe\">\n",
       "  <thead>\n",
       "    <tr style=\"text-align: right;\">\n",
       "      <th></th>\n",
       "      <th>title</th>\n",
       "      <th>text</th>\n",
       "      <th>class</th>\n",
       "      <th>language</th>\n",
       "    </tr>\n",
       "  </thead>\n",
       "  <tbody>\n",
       "    <tr>\n",
       "      <th>0</th>\n",
       "      <td>[PSA]/r/java is not for programming help</td>\n",
       "      <td># /r/java is not for programming help or learn...</td>\n",
       "      <td>programming</td>\n",
       "      <td>Java</td>\n",
       "    </tr>\n",
       "    <tr>\n",
       "      <th>1</th>\n",
       "      <td>Log4j MEGATHREAD</td>\n",
       "      <td>Upon special request of /u/bluegoliath, we are...</td>\n",
       "      <td>programming</td>\n",
       "      <td>Java</td>\n",
       "    </tr>\n",
       "    <tr>\n",
       "      <th>2</th>\n",
       "      <td>New loom EA builds with APIs for Structu</td>\n",
       "      <td></td>\n",
       "      <td>programming</td>\n",
       "      <td>Java</td>\n",
       "    </tr>\n",
       "    <tr>\n",
       "      <th>3</th>\n",
       "      <td>Best way to prevent redundant null check</td>\n",
       "      <td>In large applications what is the best way to ...</td>\n",
       "      <td>programming</td>\n",
       "      <td>Java</td>\n",
       "    </tr>\n",
       "    <tr>\n",
       "      <th>4</th>\n",
       "      <td>There will be a third preview of type pa</td>\n",
       "      <td></td>\n",
       "      <td>programming</td>\n",
       "      <td>Java</td>\n",
       "    </tr>\n",
       "  </tbody>\n",
       "</table>\n",
       "</div>"
      ],
      "text/plain": [
       "                                      title  \\\n",
       "0  [PSA]/r/java is not for programming help   \n",
       "1                          Log4j MEGATHREAD   \n",
       "2  New loom EA builds with APIs for Structu   \n",
       "3  Best way to prevent redundant null check   \n",
       "4  There will be a third preview of type pa   \n",
       "\n",
       "                                                text        class language  \n",
       "0  # /r/java is not for programming help or learn...  programming     Java  \n",
       "1  Upon special request of /u/bluegoliath, we are...  programming     Java  \n",
       "2                                                     programming     Java  \n",
       "3  In large applications what is the best way to ...  programming     Java  \n",
       "4                                                     programming     Java  "
      ]
     },
     "execution_count": 39,
     "metadata": {},
     "output_type": "execute_result"
    }
   ],
   "source": [
    "df18.head()"
   ]
  },
  {
   "cell_type": "markdown",
   "id": "17eb921f",
   "metadata": {},
   "source": [
    "Dopo aver ottenuto i vari post provenienti dai subreddit presi in analisi ed averli memorizzati opportunamente in dei **Pandas dataframe**, costruiamo un unico dataset in grado di contenerli tutti in modo da lavorare più agilmente sui dati raccolti. Durante questa fase inoltre, saranno rimossi dal dataset tutti i record in cui non è presente del testo, infatti, in questi ultimi sono presenti immagini o link non utili ai fini dell'addestamento dell'algoritmo."
   ]
  },
  {
   "cell_type": "code",
   "execution_count": 40,
   "id": "814d9d25",
   "metadata": {},
   "outputs": [
    {
     "name": "stdout",
     "output_type": "stream",
     "text": [
      "<class 'pandas.core.frame.DataFrame'>\n",
      "Int64Index: 5565 entries, 0 to 12926\n",
      "Data columns (total 4 columns):\n",
      " #   Column    Non-Null Count  Dtype \n",
      "---  ------    --------------  ----- \n",
      " 0   title     5565 non-null   object\n",
      " 1   text      5565 non-null   object\n",
      " 2   class     5565 non-null   object\n",
      " 3   language  5565 non-null   object\n",
      "dtypes: object(4)\n",
      "memory usage: 217.4+ KB\n"
     ]
    }
   ],
   "source": [
    "frames = [df1, df2, df3, df4, df5, df6, df7, df8, df9, df10, df11, df12, df13, df14, df15, df16, df17, df18]\n",
    "dataset = pd.concat(frames, ignore_index=True)\n",
    "dataset = dataset.drop(dataset[dataset.text == \"\"].index)\n",
    "dataset.info()"
   ]
  },
  {
   "cell_type": "markdown",
   "id": "fc5d526f",
   "metadata": {},
   "source": [
    "Visualizziamo adesso il numero di osservazioni organizzate per classe contenute all'interno del dataset:"
   ]
  },
  {
   "cell_type": "code",
   "execution_count": 41,
   "id": "742edaee",
   "metadata": {},
   "outputs": [
    {
     "data": {
      "text/html": [
       "<div>\n",
       "<style scoped>\n",
       "    .dataframe tbody tr th:only-of-type {\n",
       "        vertical-align: middle;\n",
       "    }\n",
       "\n",
       "    .dataframe tbody tr th {\n",
       "        vertical-align: top;\n",
       "    }\n",
       "\n",
       "    .dataframe thead th {\n",
       "        text-align: right;\n",
       "    }\n",
       "</style>\n",
       "<table border=\"1\" class=\"dataframe\">\n",
       "  <thead>\n",
       "    <tr style=\"text-align: right;\">\n",
       "      <th></th>\n",
       "      <th>number_of_records</th>\n",
       "    </tr>\n",
       "    <tr>\n",
       "      <th>class</th>\n",
       "      <th></th>\n",
       "    </tr>\n",
       "  </thead>\n",
       "  <tbody>\n",
       "    <tr>\n",
       "      <th>non programming</th>\n",
       "      <td>2094</td>\n",
       "    </tr>\n",
       "    <tr>\n",
       "      <th>programming</th>\n",
       "      <td>3471</td>\n",
       "    </tr>\n",
       "  </tbody>\n",
       "</table>\n",
       "</div>"
      ],
      "text/plain": [
       "                 number_of_records\n",
       "class                             \n",
       "non programming               2094\n",
       "programming                   3471"
      ]
     },
     "execution_count": 41,
     "metadata": {},
     "output_type": "execute_result"
    }
   ],
   "source": [
    "dfobs = dataset.groupby('class').count()\n",
    "dfobs.rename({'title': 'number_of_records'}, axis=1, inplace=True)\n",
    "dfobs.drop(columns=['text','language'], inplace=True)\n",
    "dfobs"
   ]
  },
  {
   "cell_type": "code",
   "execution_count": 42,
   "id": "c2d9260f",
   "metadata": {},
   "outputs": [
    {
     "data": {
      "text/html": [
       "<div>\n",
       "<style scoped>\n",
       "    .dataframe tbody tr th:only-of-type {\n",
       "        vertical-align: middle;\n",
       "    }\n",
       "\n",
       "    .dataframe tbody tr th {\n",
       "        vertical-align: top;\n",
       "    }\n",
       "\n",
       "    .dataframe thead th {\n",
       "        text-align: right;\n",
       "    }\n",
       "</style>\n",
       "<table border=\"1\" class=\"dataframe\">\n",
       "  <thead>\n",
       "    <tr style=\"text-align: right;\">\n",
       "      <th></th>\n",
       "      <th>number_of_records</th>\n",
       "    </tr>\n",
       "    <tr>\n",
       "      <th>language</th>\n",
       "      <th></th>\n",
       "    </tr>\n",
       "  </thead>\n",
       "  <tbody>\n",
       "    <tr>\n",
       "      <th>Angular</th>\n",
       "      <td>641</td>\n",
       "    </tr>\n",
       "    <tr>\n",
       "      <th>C++</th>\n",
       "      <td>395</td>\n",
       "    </tr>\n",
       "    <tr>\n",
       "      <th>CSS</th>\n",
       "      <td>359</td>\n",
       "    </tr>\n",
       "    <tr>\n",
       "      <th>Go</th>\n",
       "      <td>532</td>\n",
       "    </tr>\n",
       "    <tr>\n",
       "      <th>Java</th>\n",
       "      <td>179</td>\n",
       "    </tr>\n",
       "    <tr>\n",
       "      <th>Kotlin</th>\n",
       "      <td>637</td>\n",
       "    </tr>\n",
       "    <tr>\n",
       "      <th>Not a language</th>\n",
       "      <td>2094</td>\n",
       "    </tr>\n",
       "    <tr>\n",
       "      <th>PHP</th>\n",
       "      <td>425</td>\n",
       "    </tr>\n",
       "    <tr>\n",
       "      <th>Python</th>\n",
       "      <td>303</td>\n",
       "    </tr>\n",
       "  </tbody>\n",
       "</table>\n",
       "</div>"
      ],
      "text/plain": [
       "                number_of_records\n",
       "language                         \n",
       "Angular                       641\n",
       "C++                           395\n",
       "CSS                           359\n",
       "Go                            532\n",
       "Java                          179\n",
       "Kotlin                        637\n",
       "Not a language               2094\n",
       "PHP                           425\n",
       "Python                        303"
      ]
     },
     "execution_count": 42,
     "metadata": {},
     "output_type": "execute_result"
    }
   ],
   "source": [
    "dflang = dataset.groupby('language').count()\n",
    "dflang.rename({'title': 'number_of_records'}, axis=1, inplace=True)\n",
    "dflang.drop(columns=['text','class'], inplace=True)\n",
    "dflang"
   ]
  },
  {
   "cell_type": "markdown",
   "id": "f12f7af2",
   "metadata": {},
   "source": [
    "Una volta ottenuto il dataframe che rappresenta i dati raccolti, utilizziamo la libreria **sklearn**  che ci fornirà tutti gli strumenti per portare a termine il task di classificazione, dalla creazione dei set su cui lavorare, l'algoritmo vero e proprio e al calcolo delle misure di valutazione.\n",
    "\n",
    "Come appena citato il primo passo da effettuare è quello di dividere il dataset in due parti, per fare ciò utilizziamo il **metodo holdout**, ovvero assegneremo al training set l'**X%** delle osservazioni e al test set il restante **100-X%** delle osservazioni. Nel nostro caso avremo che **X = 25%**."
   ]
  },
  {
   "cell_type": "code",
   "execution_count": 43,
   "id": "a41b9fac",
   "metadata": {},
   "outputs": [
    {
     "name": "stdout",
     "output_type": "stream",
     "text": [
      "<class 'pandas.core.frame.DataFrame'>\n",
      "Int64Index: 4173 entries, 6387 to 6090\n",
      "Data columns (total 4 columns):\n",
      " #   Column    Non-Null Count  Dtype \n",
      "---  ------    --------------  ----- \n",
      " 0   title     4173 non-null   object\n",
      " 1   text      4173 non-null   object\n",
      " 2   class     4173 non-null   object\n",
      " 3   language  4173 non-null   object\n",
      "dtypes: object(4)\n",
      "memory usage: 163.0+ KB\n",
      "\n",
      "\n",
      "<class 'pandas.core.frame.DataFrame'>\n",
      "Int64Index: 1392 entries, 12450 to 4336\n",
      "Data columns (total 4 columns):\n",
      " #   Column    Non-Null Count  Dtype \n",
      "---  ------    --------------  ----- \n",
      " 0   title     1392 non-null   object\n",
      " 1   text      1392 non-null   object\n",
      " 2   class     1392 non-null   object\n",
      " 3   language  1392 non-null   object\n",
      "dtypes: object(4)\n",
      "memory usage: 54.4+ KB\n"
     ]
    }
   ],
   "source": [
    "from sklearn.model_selection import train_test_split\n",
    "import numpy as np\n",
    "\n",
    "np.random.seed(1234)\n",
    "\n",
    "train_set, test_set = train_test_split(dataset, test_size=0.25)\n",
    "train_set.info(); print('\\n'); test_set.info()"
   ]
  },
  {
   "cell_type": "markdown",
   "id": "01afe3ff",
   "metadata": {},
   "source": [
    "Osserviamo graficamente come sono disposte le osservazioni all'interno del training set, in genere è buona norma che il training set sia **bilanciato** ovvero che le osservazioni appartenenti all'insieme siano ripartite in egual misura in base alla loro classe. "
   ]
  },
  {
   "cell_type": "code",
   "execution_count": 44,
   "id": "0a1f65d5",
   "metadata": {},
   "outputs": [
    {
     "data": {
      "image/png": "[encoded data removed]",
      "text/plain": [
       "<Figure size 432x288 with 1 Axes>"
      ]
     },
     "metadata": {
      "needs_background": "light"
     },
     "output_type": "display_data"
    }
   ],
   "source": [
    "from matplotlib import pyplot as plt\n",
    "train_set.groupby('class').count().plot.bar()\n",
    "plt.show()"
   ]
  },
  {
   "cell_type": "markdown",
   "id": "2ded37a2",
   "metadata": {},
   "source": [
    "Possiamo adesso osservare parte dei due set per verificare che essi siano stati creati correttamente."
   ]
  },
  {
   "cell_type": "code",
   "execution_count": 45,
   "id": "f9c41215",
   "metadata": {},
   "outputs": [
    {
     "data": {
      "text/html": [
       "<div>\n",
       "<style scoped>\n",
       "    .dataframe tbody tr th:only-of-type {\n",
       "        vertical-align: middle;\n",
       "    }\n",
       "\n",
       "    .dataframe tbody tr th {\n",
       "        vertical-align: top;\n",
       "    }\n",
       "\n",
       "    .dataframe thead th {\n",
       "        text-align: right;\n",
       "    }\n",
       "</style>\n",
       "<table border=\"1\" class=\"dataframe\">\n",
       "  <thead>\n",
       "    <tr style=\"text-align: right;\">\n",
       "      <th></th>\n",
       "      <th>title</th>\n",
       "      <th>text</th>\n",
       "      <th>class</th>\n",
       "      <th>language</th>\n",
       "    </tr>\n",
       "  </thead>\n",
       "  <tbody>\n",
       "    <tr>\n",
       "      <th>6387</th>\n",
       "      <td>Any other basic application codealong tu</td>\n",
       "      <td>Hello, I have started to learn Angular. I am t...</td>\n",
       "      <td>programming</td>\n",
       "      <td>Angular</td>\n",
       "    </tr>\n",
       "    <tr>\n",
       "      <th>360</th>\n",
       "      <td>Python Project Template</td>\n",
       "      <td>I created a project template for my further ML...</td>\n",
       "      <td>programming</td>\n",
       "      <td>Python</td>\n",
       "    </tr>\n",
       "    <tr>\n",
       "      <th>4062</th>\n",
       "      <td>Ja Morant and Gary Payton II are tied fo</td>\n",
       "      <td>https://www.basketball-reference.com/leagues/N...</td>\n",
       "      <td>non programming</td>\n",
       "      <td>Not a language</td>\n",
       "    </tr>\n",
       "    <tr>\n",
       "      <th>6737</th>\n",
       "      <td>Should I wear motorcycle gears to Colleg</td>\n",
       "      <td>It's only a 200cc and I have been riding for 4...</td>\n",
       "      <td>non programming</td>\n",
       "      <td>Not a language</td>\n",
       "    </tr>\n",
       "    <tr>\n",
       "      <th>12682</th>\n",
       "      <td>Bytecode annotation processor</td>\n",
       "      <td>(Shameless plug)\\n\\nI've created an annotation...</td>\n",
       "      <td>programming</td>\n",
       "      <td>Java</td>\n",
       "    </tr>\n",
       "  </tbody>\n",
       "</table>\n",
       "</div>"
      ],
      "text/plain": [
       "                                          title  \\\n",
       "6387   Any other basic application codealong tu   \n",
       "360                     Python Project Template   \n",
       "4062   Ja Morant and Gary Payton II are tied fo   \n",
       "6737   Should I wear motorcycle gears to Colleg   \n",
       "12682             Bytecode annotation processor   \n",
       "\n",
       "                                                    text            class  \\\n",
       "6387   Hello, I have started to learn Angular. I am t...      programming   \n",
       "360    I created a project template for my further ML...      programming   \n",
       "4062   https://www.basketball-reference.com/leagues/N...  non programming   \n",
       "6737   It's only a 200cc and I have been riding for 4...  non programming   \n",
       "12682  (Shameless plug)\\n\\nI've created an annotation...      programming   \n",
       "\n",
       "             language  \n",
       "6387          Angular  \n",
       "360            Python  \n",
       "4062   Not a language  \n",
       "6737   Not a language  \n",
       "12682            Java  "
      ]
     },
     "execution_count": 45,
     "metadata": {},
     "output_type": "execute_result"
    }
   ],
   "source": [
    "train_set.head()"
   ]
  },
  {
   "cell_type": "code",
   "execution_count": 46,
   "id": "f2f2802a",
   "metadata": {},
   "outputs": [
    {
     "data": {
      "text/html": [
       "<div>\n",
       "<style scoped>\n",
       "    .dataframe tbody tr th:only-of-type {\n",
       "        vertical-align: middle;\n",
       "    }\n",
       "\n",
       "    .dataframe tbody tr th {\n",
       "        vertical-align: top;\n",
       "    }\n",
       "\n",
       "    .dataframe thead th {\n",
       "        text-align: right;\n",
       "    }\n",
       "</style>\n",
       "<table border=\"1\" class=\"dataframe\">\n",
       "  <thead>\n",
       "    <tr style=\"text-align: right;\">\n",
       "      <th></th>\n",
       "      <th>title</th>\n",
       "      <th>text</th>\n",
       "      <th>class</th>\n",
       "      <th>language</th>\n",
       "    </tr>\n",
       "  </thead>\n",
       "  <tbody>\n",
       "    <tr>\n",
       "      <th>12450</th>\n",
       "      <td>Why is Java templating/server rendering</td>\n",
       "      <td>In the last decade there has of course been a ...</td>\n",
       "      <td>programming</td>\n",
       "      <td>Java</td>\n",
       "    </tr>\n",
       "    <tr>\n",
       "      <th>5777</th>\n",
       "      <td>[ngstyle] working in dev mode but disapp</td>\n",
       "      <td>so pretty simple I'm' setting the background i...</td>\n",
       "      <td>programming</td>\n",
       "      <td>Angular</td>\n",
       "    </tr>\n",
       "    <tr>\n",
       "      <th>69</th>\n",
       "      <td>I made a wordle clone in python.</td>\n",
       "      <td>So, I made a simple wordle clone in python whi...</td>\n",
       "      <td>programming</td>\n",
       "      <td>Python</td>\n",
       "    </tr>\n",
       "    <tr>\n",
       "      <th>414</th>\n",
       "      <td>Arcade 2.6.10 has been released</td>\n",
       "      <td>Arcade, a library for creating 2D arcade games...</td>\n",
       "      <td>programming</td>\n",
       "      <td>Python</td>\n",
       "    </tr>\n",
       "    <tr>\n",
       "      <th>6191</th>\n",
       "      <td>5 Great SEO Ideas To Improve Angular Web</td>\n",
       "      <td>As an Angular developer we know how tough it i...</td>\n",
       "      <td>programming</td>\n",
       "      <td>Angular</td>\n",
       "    </tr>\n",
       "  </tbody>\n",
       "</table>\n",
       "</div>"
      ],
      "text/plain": [
       "                                          title  \\\n",
       "12450  Why is Java templating/server rendering    \n",
       "5777   [ngstyle] working in dev mode but disapp   \n",
       "69             I made a wordle clone in python.   \n",
       "414             Arcade 2.6.10 has been released   \n",
       "6191   5 Great SEO Ideas To Improve Angular Web   \n",
       "\n",
       "                                                    text        class language  \n",
       "12450  In the last decade there has of course been a ...  programming     Java  \n",
       "5777   so pretty simple I'm' setting the background i...  programming  Angular  \n",
       "69     So, I made a simple wordle clone in python whi...  programming   Python  \n",
       "414    Arcade, a library for creating 2D arcade games...  programming   Python  \n",
       "6191   As an Angular developer we know how tough it i...  programming  Angular  "
      ]
     },
     "execution_count": 46,
     "metadata": {},
     "output_type": "execute_result"
    }
   ],
   "source": [
    "test_set.head()"
   ]
  },
  {
   "cell_type": "markdown",
   "id": "37e8a7d3",
   "metadata": {},
   "source": [
    "## 3. Rappresentazione Bag of Word e creazione del vettore BOW"
   ]
  },
  {
   "cell_type": "markdown",
   "id": "6a79a317",
   "metadata": {},
   "source": [
    "Dopo aver ottenuto i set su cui lavorare è necessario applicare ad essi una **funzione di trasformazione** che permetta di rappresentare in una forma comprensibile all'algoritmo.\n",
    "A tal proposito utilizziamo la rappresentazione **Bag of Words** che dato un corpus di documenti (i nostri post) ritorna una rappresentazione che non considera l'ordine o il significato delle parole: dopo una fase di pre-processing in cui vengono applicati alcuni step della **NLP pipeline** ad ogni post verrà associato un ***vettore di lunghezza fissa*** che lo rappresenta in cui saranno evidenziati soltanto i termini appartenenti a quello specifico documento.\n",
    "Per effettuare quest'operazione utilizzeremo ancora **sklearn** e in particolare l'oggetto **CountVectorizer**."
   ]
  },
  {
   "cell_type": "code",
   "execution_count": 47,
   "id": "0c74722c",
   "metadata": {},
   "outputs": [],
   "source": [
    "from sklearn.feature_extraction.text import CountVectorizer\n",
    "count_vect = CountVectorizer()"
   ]
  },
  {
   "cell_type": "code",
   "execution_count": 48,
   "id": "7522c9f0",
   "metadata": {},
   "outputs": [
    {
     "data": {
      "text/plain": [
       "<4173x27849 sparse matrix of type '<class 'numpy.int64'>'\n",
       "\twith 296404 stored elements in Compressed Sparse Row format>"
      ]
     },
     "execution_count": 48,
     "metadata": {},
     "output_type": "execute_result"
    }
   ],
   "source": [
    "x_train = count_vect.fit_transform(train_set['text'])\n",
    "x_train"
   ]
  },
  {
   "cell_type": "markdown",
   "id": "50030a4f",
   "metadata": {},
   "source": [
    "Come possiamo notare, dopo l'applicazione della funzione, il training set verrà rappresentato attraverso una **sparse matrix** e non più come un **dataframe**, questo per ottimizzare lo spazio occupato."
   ]
  },
  {
   "cell_type": "code",
   "execution_count": 49,
   "id": "7b09fbc6",
   "metadata": {},
   "outputs": [
    {
     "name": "stdout",
     "output_type": "stream",
     "text": [
      "27849\n"
     ]
    }
   ],
   "source": [
    "print(len(count_vect.vocabulary_))"
   ]
  },
  {
   "cell_type": "markdown",
   "id": "c6096802",
   "metadata": {},
   "source": [
    "Un'altra importante informazione da visualizzare è la lunghezza del **vocabolario**, essa infatti rappresenta il numero di token estratti dal corpus. A partire da questa grandezza, ogni post verrà rappresentato tramite un vettore di lunghezza pari alla grandezza del vocabolario."
   ]
  },
  {
   "cell_type": "markdown",
   "id": "f51155ba",
   "metadata": {},
   "source": [
    "## 4. Classificazione kNN con k pari 1"
   ]
  },
  {
   "cell_type": "markdown",
   "id": "c050ab19",
   "metadata": {},
   "source": [
    "L'algoritmo **kNN** nasce come ottimizzazione dell'algoritmo **Neirest Neighbour**, infatti **k** è un **iperparametro** che rappresenta il numero di vicini nell'intorno dell'osservazione da classificare che verranno considerati per stimare la classe del dato in input.\n",
    "\n",
    "Come prima cosa applichiamo il kNN nella sua versione **Naive** (k=1) per osservarne i risultati."
   ]
  },
  {
   "cell_type": "code",
   "execution_count": 50,
   "id": "0c772d2d",
   "metadata": {},
   "outputs": [],
   "source": [
    "from sklearn.neighbors import KNeighborsClassifier\n",
    "knn = KNeighborsClassifier(n_neighbors=1)  #impostiamo il numero di vicini pari a uno"
   ]
  },
  {
   "cell_type": "markdown",
   "id": "51d438a0",
   "metadata": {},
   "source": [
    "Effettuiamo il training tramite la funzione **fit** fornita da sklearn:"
   ]
  },
  {
   "cell_type": "code",
   "execution_count": 51,
   "id": "48cbdb47",
   "metadata": {},
   "outputs": [
    {
     "data": {
      "text/plain": [
       "KNeighborsClassifier(n_neighbors=1)"
      ]
     },
     "execution_count": 51,
     "metadata": {},
     "output_type": "execute_result"
    }
   ],
   "source": [
    "knn.fit(x_train, train_set['class'])"
   ]
  },
  {
   "cell_type": "markdown",
   "id": "58e9e93f",
   "metadata": {},
   "source": [
    "Dopo aver addestrato il classificatore è possibile effettuare una prova applicandolo su un'osservazione del test set che non ha mai visto e confrontandola con la classe di appartenenza reale. L'algoritmo è addestrato sulla rappresentazione bow dei post, sarà dunque prima necessario trasformare anche l'osservazione in input opportunamente:"
   ]
  },
  {
   "cell_type": "code",
   "execution_count": 52,
   "id": "f32ffb8c",
   "metadata": {},
   "outputs": [
    {
     "data": {
      "text/plain": [
       "'so pretty simple I\\'m\\' setting the background image like this\\n\\n     <div class=\"image\" [ngStyle]=\"{\\'background-image\\': \\'url(\\' + this.http.domain + \\'/static\\' +product.Webps![0].img_link +\\')\\'}\"></div>\\n\\nworks great but after build and deploy it is just gone any ideas?'"
      ]
     },
     "execution_count": 52,
     "metadata": {},
     "output_type": "execute_result"
    }
   ],
   "source": [
    "test = test_set.iloc[1]['text']\n",
    "trueclass = test_set.iloc[1]['class']\n",
    "test"
   ]
  },
  {
   "cell_type": "code",
   "execution_count": 53,
   "id": "22e21be5",
   "metadata": {},
   "outputs": [
    {
     "data": {
      "text/plain": [
       "<1x27849 sparse matrix of type '<class 'numpy.int64'>'\n",
       "\twith 29 stored elements in Compressed Sparse Row format>"
      ]
     },
     "execution_count": 53,
     "metadata": {},
     "output_type": "execute_result"
    }
   ],
   "source": [
    "feats=count_vect.transform([test])\n",
    "feats"
   ]
  },
  {
   "cell_type": "code",
   "execution_count": 54,
   "id": "59424e88",
   "metadata": {},
   "outputs": [
    {
     "name": "stdout",
     "output_type": "stream",
     "text": [
      "classe predetta: programming\n",
      "classe reale: programming\n"
     ]
    }
   ],
   "source": [
    "print(\"classe predetta:\", knn.predict(feats)[0])\n",
    "print(\"classe reale:\", trueclass)"
   ]
  },
  {
   "cell_type": "markdown",
   "id": "2998b636",
   "metadata": {},
   "source": [
    "Calcoliamo adesso la predizione su tutti gli elementi del test set per poi poter ricavare delle **misure di performance** del classificatore:"
   ]
  },
  {
   "cell_type": "code",
   "execution_count": 55,
   "id": "2fab3796",
   "metadata": {},
   "outputs": [],
   "source": [
    "x_test = count_vect.transform(test_set['text'])\n",
    "y_test_pred = knn.predict(x_test)"
   ]
  },
  {
   "cell_type": "markdown",
   "id": "b104f5bd",
   "metadata": {},
   "source": [
    "Come misura utilizzeremo l'**f1-score**, una misura ottenuta come **la media armonica di precision e recall** che fornisce una **visuale completa** della bontà del classificatore."
   ]
  },
  {
   "cell_type": "code",
   "execution_count": 56,
   "id": "3c7c8d11",
   "metadata": {},
   "outputs": [
    {
     "name": "stdout",
     "output_type": "stream",
     "text": [
      "F1-score K = 1: 0.7508813160987073\n"
     ]
    }
   ],
   "source": [
    "from sklearn.metrics import f1_score\n",
    "\n",
    "f1_scores = f1_score(test_set['class'], y_test_pred, average=None, labels=['programming'])[0]\n",
    "print(\"F1-score K = 1:\", f1_scores)"
   ]
  },
  {
   "cell_type": "markdown",
   "id": "cbd164ed",
   "metadata": {},
   "source": [
    "Per avere contezza degli errori del classificatore, essendo agevolati dalla situazione binaria in cui ci troviamo è possibile visualizzare la **confusion matrix** che fornisce la quantità di osservazioni classificate correttamente e la tipologia di errori commessi, in genere si preferiscono valori alti sulla diagonale principale e viceversa valori bassi sulla diagonale secondaria. Infatti, essendo rappresentate sull'asse delle ascisse i valori **predetti** e su quella delle ordinate i valori **reali** le osservazioni per cui i due valori coincidono (diagonale principale) saranno quelle classificate correttamente."
   ]
  },
  {
   "cell_type": "code",
   "execution_count": 57,
   "id": "a2536ab4",
   "metadata": {},
   "outputs": [
    {
     "data": {
      "text/plain": [
       "<sklearn.metrics._plot.confusion_matrix.ConfusionMatrixDisplay at 0x7fd44ca2b6a0>"
      ]
     },
     "execution_count": 57,
     "metadata": {},
     "output_type": "execute_result"
    },
    {
     "data": {
      "image/png": "[encoded data removed]",
      "text/plain": [
       "<Figure size 432x288 with 2 Axes>"
      ]
     },
     "metadata": {
      "needs_background": "light"
     },
     "output_type": "display_data"
    }
   ],
   "source": [
    "from sklearn.metrics import ConfusionMatrixDisplay\n",
    "ConfusionMatrixDisplay.from_predictions(test_set['class'], y_test_pred)"
   ]
  },
  {
   "cell_type": "markdown",
   "id": "929913ea",
   "metadata": {},
   "source": [
    "## 5. Stima del K migliore"
   ]
  },
  {
   "cell_type": "markdown",
   "id": "79a11d10",
   "metadata": {},
   "source": [
    "Come detto prima, k è un iperparametro che va ottimizzato sulla base di un **validation set**, infatti al fine di ottenere il massimo rendimento dal classificatore, k va scelto con criterio. Per effettuare il **\"tuning\"** di k, verra usata ancora sklearn, in particolare tramite il metodo **GridSearchCV** verranno testati vari k (***da 1 a 20***): il k che otterrà f1score migliore verrà scelto come iperaparametro."
   ]
  },
  {
   "cell_type": "code",
   "execution_count": 58,
   "id": "8d62bd1b",
   "metadata": {},
   "outputs": [],
   "source": [
    "from sklearn.model_selection import GridSearchCV\n",
    "from sklearn.metrics import f1_score, make_scorer\n",
    "\n",
    "knn = KNeighborsClassifier()\n",
    "\n",
    "#definiamo che i k da testare vanno da 1 a 20\n",
    "param_grid = {'n_neighbors': np.arange(1, 20)}\n",
    "\n",
    "#specifichiamo che vogliamo utilizzare l'f1score come misura di confronto\n",
    "f1 = make_scorer(f1_score , average='macro')\n",
    "gs = GridSearchCV(knn, param_grid, cv=5,  scoring=f1)\n",
    "gs.fit(x_train,train_set['class'])\n",
    "bestK= gs.best_params_['n_neighbors']"
   ]
  },
  {
   "cell_type": "markdown",
   "id": "2f4966f1",
   "metadata": {},
   "source": [
    "Cerchiamo adesso un **riscontro grafico** che ci permetta di osservare l'andamento dell'algoritmo al variare di k."
   ]
  },
  {
   "cell_type": "code",
   "execution_count": 59,
   "id": "845afddc",
   "metadata": {},
   "outputs": [
    {
     "data": {
      "image/png": "[encoded data removed]",
      "text/plain": [
       "<Figure size 1152x360 with 1 Axes>"
      ]
     },
     "metadata": {
      "needs_background": "light"
     },
     "output_type": "display_data"
    }
   ],
   "source": [
    "import matplotlib.pyplot as plt \n",
    "asseY = gs.cv_results_['mean_test_score']\n",
    "asseX = list(range(1,20))\n",
    "plt.figure(figsize = (16,5))\n",
    "plt.plot(asseY)\n",
    "plt.xticks(np.arange(len(asseY)), np.arange(1, len(asseY)+1)) #tick asse X\n",
    "\n",
    "plt.title(\"best K \")\n",
    "plt.xlabel(\"K\")\n",
    "plt.ylabel(\"mean_test_score\")\n",
    "max_value = max(asseY) \n",
    "max_index =np.where(asseY == max_value) #cerco dove il valore è max per stampare poi la linea rossa\n",
    "plt.axvline(max_index, color = \"r\")\n",
    "plt.show()"
   ]
  },
  {
   "cell_type": "markdown",
   "id": "b242791b",
   "metadata": {},
   "source": [
    "Possiamo adesso visualizzare l'output ottenuto dal tuning, ovvero il k migliore:"
   ]
  },
  {
   "cell_type": "code",
   "execution_count": 60,
   "id": "d814710d",
   "metadata": {},
   "outputs": [
    {
     "name": "stdout",
     "output_type": "stream",
     "text": [
      "k migliore: 11\n"
     ]
    }
   ],
   "source": [
    "print(\"k migliore:\", bestK)"
   ]
  },
  {
   "cell_type": "markdown",
   "id": "e5dcf16d",
   "metadata": {},
   "source": [
    "Dopo aver stimato il parametro k ideale rieffettuiamo la classificazione e calcoliamo l'f1score e la matrice di confusione nuovamente:"
   ]
  },
  {
   "cell_type": "code",
   "execution_count": 61,
   "id": "3a676a91",
   "metadata": {},
   "outputs": [
    {
     "name": "stdout",
     "output_type": "stream",
     "text": [
      "F1-score k = 11 : 0.7770845150311968\n"
     ]
    }
   ],
   "source": [
    "knn = KNeighborsClassifier(n_neighbors=3)\n",
    "knn.fit(x_train, train_set['class'])\n",
    "x_test = count_vect.transform(test_set['text'])\n",
    "y_test_pred2 = knn.predict(x_test)\n",
    "f1_scores = f1_score(test_set['class'], y_test_pred2, average=None, labels=['programming'])[0]\n",
    "print(\"F1-score k =\",bestK,\":\", f1_scores)"
   ]
  },
  {
   "cell_type": "markdown",
   "id": "d73c2757",
   "metadata": {},
   "source": [
    "Matrice di confusione con k ottimale:"
   ]
  },
  {
   "cell_type": "code",
   "execution_count": 62,
   "id": "7e192ed6",
   "metadata": {},
   "outputs": [
    {
     "data": {
      "text/plain": [
       "<sklearn.metrics._plot.confusion_matrix.ConfusionMatrixDisplay at 0x7fd44a2ff8e0>"
      ]
     },
     "execution_count": 62,
     "metadata": {},
     "output_type": "execute_result"
    },
    {
     "data": {
      "image/png": "[encoded data removed]",
      "text/plain": [
       "<Figure size 432x288 with 2 Axes>"
      ]
     },
     "metadata": {
      "needs_background": "light"
     },
     "output_type": "display_data"
    }
   ],
   "source": [
    "from sklearn.metrics import ConfusionMatrixDisplay\n",
    "ConfusionMatrixDisplay.from_predictions(test_set['class'], y_test_pred)"
   ]
  },
  {
   "cell_type": "markdown",
   "id": "5d517bbf",
   "metadata": {},
   "source": [
    "## 6. Ottimizzazione tramite rappresentazione TF-IDF"
   ]
  },
  {
   "cell_type": "markdown",
   "id": "56d49f9a",
   "metadata": {},
   "source": [
    "Si cerca adesso ad ottimizzare la rappresentazione dei dati a disposizione allo scopo di migliorare le performance del classificatore.\n",
    "L'obiettivo è quello di fornire a parole meno frequenti (e quindi più significative) un peso maggiore e viceversa a parole più frequenti (meno significative) un peso minore. Questa tipologia di rappresentazione prende il nome di **TF-IDF** e permette di ottenere una classificazione più accurata e meno sensibile agli **outliers**.\n",
    "Per realizzare quanto detto prima, verrà istanziato un nuovo classificatore che sarà però addestrato sui dati rappresentati tramite l'oggetto **TfidfTransformer** fornito da sklearn che calcola la rappresentazione **TF-IDF** dei post."
   ]
  },
  {
   "cell_type": "code",
   "execution_count": 63,
   "id": "737e546e",
   "metadata": {},
   "outputs": [],
   "source": [
    "from sklearn.feature_extraction.text import TfidfTransformer\n",
    "count_vect = CountVectorizer()\n",
    "tf_transformer = TfidfTransformer(use_idf=False)\n",
    "\n",
    "x_train_counts = count_vect.fit_transform(train_set['text'])\n",
    "x_train_tf_idf = tf_transformer.fit_transform(x_train_counts)\n",
    "\n",
    "x_test_counts = count_vect.transform(test_set['text'])\n",
    "x_test_tf_idf = tf_transformer.fit_transform(x_test_counts)"
   ]
  },
  {
   "cell_type": "markdown",
   "id": "38bcb71e",
   "metadata": {},
   "source": [
    "Dopo aver ottenuto la rappresentazione tf-idf dei dati, ricerchiamo il k migliore per poi applicare l'algoritmo kNN:"
   ]
  },
  {
   "cell_type": "code",
   "execution_count": 64,
   "id": "803c638d",
   "metadata": {},
   "outputs": [],
   "source": [
    "from sklearn.model_selection import GridSearchCV\n",
    "from sklearn.metrics import f1_score, make_scorer\n",
    "\n",
    "knn = KNeighborsClassifier()\n",
    "\n",
    "#definiamo che i k da testare vanno da 1 a 20\n",
    "param_grid = {'n_neighbors': np.arange(1, 20)}\n",
    "\n",
    "#specifichiamo che vogliamo utilizzare l'f1score come misura di confronto\n",
    "f1 = make_scorer(f1_score , average='macro')\n",
    "gs = GridSearchCV(knn, param_grid, cv=5,  scoring=f1)\n",
    "gs.fit(x_train_tf_idf,train_set['class'])\n",
    "bestK2= gs.best_params_['n_neighbors']"
   ]
  },
  {
   "cell_type": "code",
   "execution_count": 65,
   "id": "c7442d84",
   "metadata": {},
   "outputs": [
    {
     "name": "stdout",
     "output_type": "stream",
     "text": [
      "k migliore tf-idf: 8\n"
     ]
    }
   ],
   "source": [
    "print(\"k migliore tf-idf:\", bestK2)"
   ]
  },
  {
   "cell_type": "markdown",
   "id": "72e9e4aa",
   "metadata": {},
   "source": [
    "Addestriamo ora l'algoritmo utilizzando il k migliore"
   ]
  },
  {
   "cell_type": "code",
   "execution_count": 66,
   "id": "8314925e",
   "metadata": {},
   "outputs": [
    {
     "data": {
      "text/plain": [
       "KNeighborsClassifier(n_neighbors=8)"
      ]
     },
     "execution_count": 66,
     "metadata": {},
     "output_type": "execute_result"
    }
   ],
   "source": [
    "classifier = KNeighborsClassifier(n_neighbors=bestK2)\n",
    "classifier.fit(x_train_tf_idf, train_set['class'])"
   ]
  },
  {
   "cell_type": "markdown",
   "id": "8efc29f1",
   "metadata": {},
   "source": [
    "calcoliamo l'**f1-score**:"
   ]
  },
  {
   "cell_type": "code",
   "execution_count": 67,
   "id": "345ce83f",
   "metadata": {},
   "outputs": [
    {
     "name": "stdout",
     "output_type": "stream",
     "text": [
      "f1-score tf-idf: 0.8877887788778879\n"
     ]
    }
   ],
   "source": [
    "y_test_preds = classifier.predict(x_test_tf_idf)\n",
    "f1_scores=f1_score(test_set['class'],y_test_preds, average=None, labels=['programming'])[0]\n",
    "print(\"f1-score tf-idf:\",f1_scores)"
   ]
  },
  {
   "cell_type": "markdown",
   "id": "2e7682bd",
   "metadata": {},
   "source": [
    "Anche in questo caso è possibile ottenere la matrice di confusione:"
   ]
  },
  {
   "cell_type": "code",
   "execution_count": 68,
   "id": "24cb396a",
   "metadata": {},
   "outputs": [
    {
     "data": {
      "text/plain": [
       "<sklearn.metrics._plot.confusion_matrix.ConfusionMatrixDisplay at 0x7fd44cdbb580>"
      ]
     },
     "execution_count": 68,
     "metadata": {},
     "output_type": "execute_result"
    },
    {
     "data": {
      "image/png": "[encoded data removed]",
      "text/plain": [
       "<Figure size 432x288 with 2 Axes>"
      ]
     },
     "metadata": {
      "needs_background": "light"
     },
     "output_type": "display_data"
    }
   ],
   "source": [
    "from sklearn.metrics import ConfusionMatrixDisplay\n",
    "ConfusionMatrixDisplay.from_predictions(test_set['class'], y_test_preds)"
   ]
  },
  {
   "cell_type": "markdown",
   "id": "867498f2",
   "metadata": {},
   "source": [
    "## 7. Confronto tra i vari classificatori"
   ]
  },
  {
   "cell_type": "markdown",
   "id": "c2f25787",
   "metadata": {},
   "source": [
    "E' possibile adesso confrontare i tre risultati ottenuti visualizzando la **curva PR**, ovvero la curva che mette in realzione **precision** e **recall**. Prima di fare ciò è però necessario ai fini della rappresentazione, mappare i nomi delle classi, avremo dunque:\n",
    "* **non programming** = 0;\n",
    "* **programming** = 1;\n",
    "\n",
    "Di seguito il processo di mapping e il plot della curva PR:"
   ]
  },
  {
   "cell_type": "code",
   "execution_count": 69,
   "id": "8f06f042",
   "metadata": {
    "scrolled": true
   },
   "outputs": [
    {
     "data": {
      "image/png": "[encoded data removed]",
      "text/plain": [
       "<Figure size 720x432 with 1 Axes>"
      ]
     },
     "metadata": {
      "needs_background": "light"
     },
     "output_type": "display_data"
    }
   ],
   "source": [
    "#map delle etichette reali\n",
    "test_zero_one = test_set.copy()\n",
    "test_zero_one = test_zero_one.replace(to_replace=['non programming', 'programming'], value=[0, 1])\n",
    "\n",
    "#map delle varie predizioni\n",
    "y_preds_zero_one_tf_idf = y_test_preds.copy()\n",
    "for i in range(y_preds_zero_one_tf_idf.size):\n",
    "    if(y_preds_zero_one_tf_idf[i] == 'programming'):\n",
    "        y_preds_zero_one_tf_idf[i] = 1\n",
    "    else:\n",
    "        y_preds_zero_one_tf_idf[i] = 0\n",
    "\n",
    "        \n",
    "y_preds_zero_one_bestk = y_test_pred2.copy()\n",
    "for i in range(y_preds_zero_one_bestk.size):\n",
    "    if(y_preds_zero_one_bestk[i] == 'programming'):\n",
    "        y_preds_zero_one_bestk[i] = 1\n",
    "    else:\n",
    "        y_preds_zero_one_bestk[i] = 0\n",
    "        \n",
    "y_preds_zero_one_k1 = y_test_pred.copy()\n",
    "for i in range(y_preds_zero_one_k1.size):\n",
    "    if(y_preds_zero_one_k1[i] == 'programming'):\n",
    "        y_preds_zero_one_k1[i] = 1\n",
    "    else:\n",
    "        y_preds_zero_one_k1[i] = 0  \n",
    "        \n",
    "#generazione valori x,y della curva PR e plot\n",
    "from sklearn.metrics import precision_recall_curve\n",
    "from matplotlib.pyplot import figure\n",
    "figure(figsize=(10, 6))\n",
    "\n",
    "precision_k1, recall_k1, thresholds_k1 = precision_recall_curve(test_zero_one['class'], y_preds_zero_one_k1)\n",
    "plt.plot(recall_k1, precision_k1, color='blue', label='k = 1')\n",
    "\n",
    "precision_bestk, recall_bestk, thresholds_bestk = precision_recall_curve(test_zero_one['class'], y_preds_zero_one_bestk)\n",
    "plt.plot(recall_bestk, precision_bestk, color='red', label='best k')\n",
    "\n",
    "precision_tfidf, recall_tfidf, thresholds_tfidf = precision_recall_curve(test_zero_one['class'], y_preds_zero_one_tf_idf)\n",
    "plt.plot(recall_tfidf, precision_tfidf, color='purple', label='tf-idf')\n",
    "\n",
    "plt.title('Precision-Recall Curve')\n",
    "plt.ylabel('Precision')\n",
    "plt.xlabel('Recall')\n",
    "\n",
    "#display plot\n",
    "plt.legend()\n",
    "plt.show()"
   ]
  },
  {
   "cell_type": "markdown",
   "id": "89d88776",
   "metadata": {},
   "source": [
    "E' possibile adesso calcolare l'**area under the curver**, ovvero una metrica che calcolando l'area sottesa alla curva PR permette di stimare la bontà del classificatore. L'AUC è un valore compreso tra 0 e 1, idealmente vorremmo che il nostro classificatore abbia **AUC = 1**."
   ]
  },
  {
   "cell_type": "code",
   "execution_count": 70,
   "id": "ddbed417",
   "metadata": {},
   "outputs": [
    {
     "name": "stdout",
     "output_type": "stream",
     "text": [
      "AUC k=1: 0.682\n",
      "AUC best k: 0.694\n",
      "AUC tf-idf: 0.828\n"
     ]
    }
   ],
   "source": [
    "from sklearn.metrics import roc_auc_score\n",
    "auc_k1 = roc_auc_score(test_zero_one['class'],y_preds_zero_one_k1)\n",
    "auc_bestk = roc_auc_score(test_zero_one['class'],y_preds_zero_one_bestk)\n",
    "auc_tfidf = roc_auc_score(test_zero_one['class'],y_preds_zero_one_tf_idf)\n",
    "\n",
    "print('AUC k=1: %.3f' % auc_k1)\n",
    "print('AUC best k: %.3f' % auc_bestk)\n",
    "print('AUC tf-idf: %.3f' % auc_tfidf)"
   ]
  },
  {
   "cell_type": "markdown",
   "id": "1e268d7c",
   "metadata": {},
   "source": [
    "## 8. Classificazione del linguaggio di programmazione"
   ]
  },
  {
   "cell_type": "markdown",
   "id": "cd3ea78b",
   "metadata": {},
   "source": [
    "Dopo aver classificato i post, è possibile applicare un'altra istanza dell'algoritmo kNN in grado di predirre il linguaggio di interesse di un determinato post, a tal proposito utilizzeremo come dataset di partenza tutte le osservazioni classificate come \"programming\" dal precedente classificatore. \n",
    "Questo dataset dovrà quindi essere diviso in trainig set e test set per effettuare l'addestramento, il tuning dei parametri e una prova su dati mai visti."
   ]
  },
  {
   "cell_type": "markdown",
   "id": "6a0d2876",
   "metadata": {},
   "source": [
    "Il primo passo è quello di creare  un dataframe che contiene solamente i post che sono stati classificati come \"programming\" nel test set utilizzato dall'algoritmo precedente. Avendo a disposizione il test set e gli indici ottenuti dal classificatore è sufficiente un'operazione di **filtraggio**.\n",
    "\n",
    "Come prima cosa conserviamo solo gli indici dei post classificati come \"non programming\" in modo da rimuoverli successivamente dal dataset iniziale:"
   ]
  },
  {
   "cell_type": "code",
   "execution_count": 71,
   "id": "a001fce7",
   "metadata": {},
   "outputs": [],
   "source": [
    "output = [idx for idx, element in enumerate(y_test_preds) if len(element) == 'non programming']"
   ]
  },
  {
   "cell_type": "markdown",
   "id": "cda344de",
   "metadata": {},
   "source": [
    "A questo punto, possono essere rimossi dal vecchio test set tutti i record la cui predizione è diversa da 'programming'. Otterremo il nuovo dataset (che verrà usato dal nuovo algoritmo) che prenderà il nome di **DfProg**:"
   ]
  },
  {
   "cell_type": "code",
   "execution_count": 72,
   "id": "3a397945",
   "metadata": {},
   "outputs": [
    {
     "data": {
      "text/html": [
       "<div>\n",
       "<style scoped>\n",
       "    .dataframe tbody tr th:only-of-type {\n",
       "        vertical-align: middle;\n",
       "    }\n",
       "\n",
       "    .dataframe tbody tr th {\n",
       "        vertical-align: top;\n",
       "    }\n",
       "\n",
       "    .dataframe thead th {\n",
       "        text-align: right;\n",
       "    }\n",
       "</style>\n",
       "<table border=\"1\" class=\"dataframe\">\n",
       "  <thead>\n",
       "    <tr style=\"text-align: right;\">\n",
       "      <th></th>\n",
       "      <th>title</th>\n",
       "      <th>text</th>\n",
       "      <th>class</th>\n",
       "      <th>language</th>\n",
       "    </tr>\n",
       "  </thead>\n",
       "  <tbody>\n",
       "    <tr>\n",
       "      <th>12450</th>\n",
       "      <td>Why is Java templating/server rendering</td>\n",
       "      <td>In the last decade there has of course been a ...</td>\n",
       "      <td>programming</td>\n",
       "      <td>Java</td>\n",
       "    </tr>\n",
       "    <tr>\n",
       "      <th>5777</th>\n",
       "      <td>[ngstyle] working in dev mode but disapp</td>\n",
       "      <td>so pretty simple I'm' setting the background i...</td>\n",
       "      <td>programming</td>\n",
       "      <td>Angular</td>\n",
       "    </tr>\n",
       "    <tr>\n",
       "      <th>69</th>\n",
       "      <td>I made a wordle clone in python.</td>\n",
       "      <td>So, I made a simple wordle clone in python whi...</td>\n",
       "      <td>programming</td>\n",
       "      <td>Python</td>\n",
       "    </tr>\n",
       "    <tr>\n",
       "      <th>414</th>\n",
       "      <td>Arcade 2.6.10 has been released</td>\n",
       "      <td>Arcade, a library for creating 2D arcade games...</td>\n",
       "      <td>programming</td>\n",
       "      <td>Python</td>\n",
       "    </tr>\n",
       "    <tr>\n",
       "      <th>6191</th>\n",
       "      <td>5 Great SEO Ideas To Improve Angular Web</td>\n",
       "      <td>As an Angular developer we know how tough it i...</td>\n",
       "      <td>programming</td>\n",
       "      <td>Angular</td>\n",
       "    </tr>\n",
       "    <tr>\n",
       "      <th>...</th>\n",
       "      <td>...</td>\n",
       "      <td>...</td>\n",
       "      <td>...</td>\n",
       "      <td>...</td>\n",
       "    </tr>\n",
       "    <tr>\n",
       "      <th>60</th>\n",
       "      <td>Monday Daily Thread: Project ideas!</td>\n",
       "      <td>Comment any project ideas beginner or advanced...</td>\n",
       "      <td>programming</td>\n",
       "      <td>Python</td>\n",
       "    </tr>\n",
       "    <tr>\n",
       "      <th>3284</th>\n",
       "      <td>Thoughts aloud about Exposed</td>\n",
       "      <td>Text below is my humble opinion. But I want to...</td>\n",
       "      <td>programming</td>\n",
       "      <td>Kotlin</td>\n",
       "    </tr>\n",
       "    <tr>\n",
       "      <th>6424</th>\n",
       "      <td>Angular Input() change detection</td>\n",
       "      <td>Hey! Angular Developers, many of you use `Inpu...</td>\n",
       "      <td>programming</td>\n",
       "      <td>Angular</td>\n",
       "    </tr>\n",
       "    <tr>\n",
       "      <th>6109</th>\n",
       "      <td>Which one is faster in execution Compone</td>\n",
       "      <td>Hi, I've created an Angular app where I have t...</td>\n",
       "      <td>programming</td>\n",
       "      <td>Angular</td>\n",
       "    </tr>\n",
       "    <tr>\n",
       "      <th>4336</th>\n",
       "      <td>The Suns are favoured by 16.5 point over</td>\n",
       "      <td>I can't remember ever seeing such a wide sprea...</td>\n",
       "      <td>non programming</td>\n",
       "      <td>Not a language</td>\n",
       "    </tr>\n",
       "  </tbody>\n",
       "</table>\n",
       "<p>1392 rows × 4 columns</p>\n",
       "</div>"
      ],
      "text/plain": [
       "                                          title  \\\n",
       "12450  Why is Java templating/server rendering    \n",
       "5777   [ngstyle] working in dev mode but disapp   \n",
       "69             I made a wordle clone in python.   \n",
       "414             Arcade 2.6.10 has been released   \n",
       "6191   5 Great SEO Ideas To Improve Angular Web   \n",
       "...                                         ...   \n",
       "60          Monday Daily Thread: Project ideas!   \n",
       "3284               Thoughts aloud about Exposed   \n",
       "6424           Angular Input() change detection   \n",
       "6109   Which one is faster in execution Compone   \n",
       "4336   The Suns are favoured by 16.5 point over   \n",
       "\n",
       "                                                    text            class  \\\n",
       "12450  In the last decade there has of course been a ...      programming   \n",
       "5777   so pretty simple I'm' setting the background i...      programming   \n",
       "69     So, I made a simple wordle clone in python whi...      programming   \n",
       "414    Arcade, a library for creating 2D arcade games...      programming   \n",
       "6191   As an Angular developer we know how tough it i...      programming   \n",
       "...                                                  ...              ...   \n",
       "60     Comment any project ideas beginner or advanced...      programming   \n",
       "3284   Text below is my humble opinion. But I want to...      programming   \n",
       "6424   Hey! Angular Developers, many of you use `Inpu...      programming   \n",
       "6109   Hi, I've created an Angular app where I have t...      programming   \n",
       "4336   I can't remember ever seeing such a wide sprea...  non programming   \n",
       "\n",
       "             language  \n",
       "12450            Java  \n",
       "5777          Angular  \n",
       "69             Python  \n",
       "414            Python  \n",
       "6191          Angular  \n",
       "...               ...  \n",
       "60             Python  \n",
       "3284           Kotlin  \n",
       "6424          Angular  \n",
       "6109          Angular  \n",
       "4336   Not a language  \n",
       "\n",
       "[1392 rows x 4 columns]"
      ]
     },
     "execution_count": 72,
     "metadata": {},
     "output_type": "execute_result"
    }
   ],
   "source": [
    "dfProg = test_set.copy()\n",
    "dfProg = dfProg.drop(labels=output, axis=0)\n",
    "dfProg"
   ]
  },
  {
   "cell_type": "markdown",
   "id": "ec5df382",
   "metadata": {},
   "source": [
    "Per rendere più accurata la classificazione, rimuoviamo adesso i record il cui linguaggio è \"Not a language\", essi infatti apparterrebbero ad una classe non utile ai nostri fini che potrebbe introdurre degli errori:"
   ]
  },
  {
   "cell_type": "code",
   "execution_count": 73,
   "id": "382c3219",
   "metadata": {},
   "outputs": [
    {
     "data": {
      "text/html": [
       "<div>\n",
       "<style scoped>\n",
       "    .dataframe tbody tr th:only-of-type {\n",
       "        vertical-align: middle;\n",
       "    }\n",
       "\n",
       "    .dataframe tbody tr th {\n",
       "        vertical-align: top;\n",
       "    }\n",
       "\n",
       "    .dataframe thead th {\n",
       "        text-align: right;\n",
       "    }\n",
       "</style>\n",
       "<table border=\"1\" class=\"dataframe\">\n",
       "  <thead>\n",
       "    <tr style=\"text-align: right;\">\n",
       "      <th></th>\n",
       "      <th>title</th>\n",
       "      <th>text</th>\n",
       "      <th>class</th>\n",
       "      <th>language</th>\n",
       "    </tr>\n",
       "  </thead>\n",
       "  <tbody>\n",
       "    <tr>\n",
       "      <th>12450</th>\n",
       "      <td>Why is Java templating/server rendering</td>\n",
       "      <td>In the last decade there has of course been a ...</td>\n",
       "      <td>programming</td>\n",
       "      <td>Java</td>\n",
       "    </tr>\n",
       "    <tr>\n",
       "      <th>5777</th>\n",
       "      <td>[ngstyle] working in dev mode but disapp</td>\n",
       "      <td>so pretty simple I'm' setting the background i...</td>\n",
       "      <td>programming</td>\n",
       "      <td>Angular</td>\n",
       "    </tr>\n",
       "    <tr>\n",
       "      <th>69</th>\n",
       "      <td>I made a wordle clone in python.</td>\n",
       "      <td>So, I made a simple wordle clone in python whi...</td>\n",
       "      <td>programming</td>\n",
       "      <td>Python</td>\n",
       "    </tr>\n",
       "    <tr>\n",
       "      <th>414</th>\n",
       "      <td>Arcade 2.6.10 has been released</td>\n",
       "      <td>Arcade, a library for creating 2D arcade games...</td>\n",
       "      <td>programming</td>\n",
       "      <td>Python</td>\n",
       "    </tr>\n",
       "    <tr>\n",
       "      <th>6191</th>\n",
       "      <td>5 Great SEO Ideas To Improve Angular Web</td>\n",
       "      <td>As an Angular developer we know how tough it i...</td>\n",
       "      <td>programming</td>\n",
       "      <td>Angular</td>\n",
       "    </tr>\n",
       "    <tr>\n",
       "      <th>...</th>\n",
       "      <td>...</td>\n",
       "      <td>...</td>\n",
       "      <td>...</td>\n",
       "      <td>...</td>\n",
       "    </tr>\n",
       "    <tr>\n",
       "      <th>11720</th>\n",
       "      <td>How to fix CSS?</td>\n",
       "      <td>I'm not asking how to solve my 1-pixel-offset-...</td>\n",
       "      <td>programming</td>\n",
       "      <td>CSS</td>\n",
       "    </tr>\n",
       "    <tr>\n",
       "      <th>60</th>\n",
       "      <td>Monday Daily Thread: Project ideas!</td>\n",
       "      <td>Comment any project ideas beginner or advanced...</td>\n",
       "      <td>programming</td>\n",
       "      <td>Python</td>\n",
       "    </tr>\n",
       "    <tr>\n",
       "      <th>3284</th>\n",
       "      <td>Thoughts aloud about Exposed</td>\n",
       "      <td>Text below is my humble opinion. But I want to...</td>\n",
       "      <td>programming</td>\n",
       "      <td>Kotlin</td>\n",
       "    </tr>\n",
       "    <tr>\n",
       "      <th>6424</th>\n",
       "      <td>Angular Input() change detection</td>\n",
       "      <td>Hey! Angular Developers, many of you use `Inpu...</td>\n",
       "      <td>programming</td>\n",
       "      <td>Angular</td>\n",
       "    </tr>\n",
       "    <tr>\n",
       "      <th>6109</th>\n",
       "      <td>Which one is faster in execution Compone</td>\n",
       "      <td>Hi, I've created an Angular app where I have t...</td>\n",
       "      <td>programming</td>\n",
       "      <td>Angular</td>\n",
       "    </tr>\n",
       "  </tbody>\n",
       "</table>\n",
       "<p>865 rows × 4 columns</p>\n",
       "</div>"
      ],
      "text/plain": [
       "                                          title  \\\n",
       "12450  Why is Java templating/server rendering    \n",
       "5777   [ngstyle] working in dev mode but disapp   \n",
       "69             I made a wordle clone in python.   \n",
       "414             Arcade 2.6.10 has been released   \n",
       "6191   5 Great SEO Ideas To Improve Angular Web   \n",
       "...                                         ...   \n",
       "11720                           How to fix CSS?   \n",
       "60          Monday Daily Thread: Project ideas!   \n",
       "3284               Thoughts aloud about Exposed   \n",
       "6424           Angular Input() change detection   \n",
       "6109   Which one is faster in execution Compone   \n",
       "\n",
       "                                                    text        class language  \n",
       "12450  In the last decade there has of course been a ...  programming     Java  \n",
       "5777   so pretty simple I'm' setting the background i...  programming  Angular  \n",
       "69     So, I made a simple wordle clone in python whi...  programming   Python  \n",
       "414    Arcade, a library for creating 2D arcade games...  programming   Python  \n",
       "6191   As an Angular developer we know how tough it i...  programming  Angular  \n",
       "...                                                  ...          ...      ...  \n",
       "11720  I'm not asking how to solve my 1-pixel-offset-...  programming      CSS  \n",
       "60     Comment any project ideas beginner or advanced...  programming   Python  \n",
       "3284   Text below is my humble opinion. But I want to...  programming   Kotlin  \n",
       "6424   Hey! Angular Developers, many of you use `Inpu...  programming  Angular  \n",
       "6109   Hi, I've created an Angular app where I have t...  programming  Angular  \n",
       "\n",
       "[865 rows x 4 columns]"
      ]
     },
     "execution_count": 73,
     "metadata": {},
     "output_type": "execute_result"
    }
   ],
   "source": [
    "dfProg = dfProg[dfProg.language != 'Not a language']\n",
    "dfProg"
   ]
  },
  {
   "cell_type": "markdown",
   "id": "c4d514d2",
   "metadata": {},
   "source": [
    "Come visto precedentemente osserviamo anche questa volta il numero di osservazioni organizzate per classe dopo aver applicato l'algoritmo:"
   ]
  },
  {
   "cell_type": "code",
   "execution_count": 74,
   "id": "9193382e",
   "metadata": {},
   "outputs": [
    {
     "data": {
      "text/html": [
       "<div>\n",
       "<style scoped>\n",
       "    .dataframe tbody tr th:only-of-type {\n",
       "        vertical-align: middle;\n",
       "    }\n",
       "\n",
       "    .dataframe tbody tr th {\n",
       "        vertical-align: top;\n",
       "    }\n",
       "\n",
       "    .dataframe thead th {\n",
       "        text-align: right;\n",
       "    }\n",
       "</style>\n",
       "<table border=\"1\" class=\"dataframe\">\n",
       "  <thead>\n",
       "    <tr style=\"text-align: right;\">\n",
       "      <th></th>\n",
       "      <th>number_of_records</th>\n",
       "    </tr>\n",
       "    <tr>\n",
       "      <th>language</th>\n",
       "      <th></th>\n",
       "    </tr>\n",
       "  </thead>\n",
       "  <tbody>\n",
       "    <tr>\n",
       "      <th>Angular</th>\n",
       "      <td>151</td>\n",
       "    </tr>\n",
       "    <tr>\n",
       "      <th>C++</th>\n",
       "      <td>94</td>\n",
       "    </tr>\n",
       "    <tr>\n",
       "      <th>CSS</th>\n",
       "      <td>106</td>\n",
       "    </tr>\n",
       "    <tr>\n",
       "      <th>Go</th>\n",
       "      <td>118</td>\n",
       "    </tr>\n",
       "    <tr>\n",
       "      <th>Java</th>\n",
       "      <td>51</td>\n",
       "    </tr>\n",
       "    <tr>\n",
       "      <th>Kotlin</th>\n",
       "      <td>164</td>\n",
       "    </tr>\n",
       "    <tr>\n",
       "      <th>PHP</th>\n",
       "      <td>100</td>\n",
       "    </tr>\n",
       "    <tr>\n",
       "      <th>Python</th>\n",
       "      <td>81</td>\n",
       "    </tr>\n",
       "  </tbody>\n",
       "</table>\n",
       "</div>"
      ],
      "text/plain": [
       "          number_of_records\n",
       "language                   \n",
       "Angular                 151\n",
       "C++                      94\n",
       "CSS                     106\n",
       "Go                      118\n",
       "Java                     51\n",
       "Kotlin                  164\n",
       "PHP                     100\n",
       "Python                   81"
      ]
     },
     "execution_count": 74,
     "metadata": {},
     "output_type": "execute_result"
    }
   ],
   "source": [
    "dflang2 = dfProg.groupby('language').count()\n",
    "dflang2.rename({'title': 'number_of_records'}, axis=1, inplace=True)\n",
    "dflang2.drop(columns=['text','class'], inplace=True)\n",
    "dflang2"
   ]
  },
  {
   "cell_type": "markdown",
   "id": "ee69212f",
   "metadata": {},
   "source": [
    "Dopo aver ottenuto il dataset dfProg, il procedimento è simile al procedente, dunque dovremo dividere il dataset in **training set** e **test set** utilizzando sempre il **metodo holdout** citato precedentemente."
   ]
  },
  {
   "cell_type": "code",
   "execution_count": 75,
   "id": "16981480",
   "metadata": {},
   "outputs": [
    {
     "name": "stdout",
     "output_type": "stream",
     "text": [
      "<class 'pandas.core.frame.DataFrame'>\n",
      "Int64Index: 648 entries, 7631 to 7690\n",
      "Data columns (total 4 columns):\n",
      " #   Column    Non-Null Count  Dtype \n",
      "---  ------    --------------  ----- \n",
      " 0   title     648 non-null    object\n",
      " 1   text      648 non-null    object\n",
      " 2   class     648 non-null    object\n",
      " 3   language  648 non-null    object\n",
      "dtypes: object(4)\n",
      "memory usage: 25.3+ KB\n",
      "\n",
      "\n",
      "<class 'pandas.core.frame.DataFrame'>\n",
      "Int64Index: 217 entries, 6079 to 12407\n",
      "Data columns (total 4 columns):\n",
      " #   Column    Non-Null Count  Dtype \n",
      "---  ------    --------------  ----- \n",
      " 0   title     217 non-null    object\n",
      " 1   text      217 non-null    object\n",
      " 2   class     217 non-null    object\n",
      " 3   language  217 non-null    object\n",
      "dtypes: object(4)\n",
      "memory usage: 8.5+ KB\n"
     ]
    }
   ],
   "source": [
    "np.random.seed(1234)\n",
    "\n",
    "train_set2, test_set2 = train_test_split(dfProg, test_size=0.25)\n",
    "train_set2.info(); print('\\n'); test_set2.info()"
   ]
  },
  {
   "cell_type": "markdown",
   "id": "98b2b2b6",
   "metadata": {},
   "source": [
    "Possiamo adesso calcolare la rappresentazione **tf-idf** dei nuovi set"
   ]
  },
  {
   "cell_type": "code",
   "execution_count": 76,
   "id": "3fb80f4c",
   "metadata": {},
   "outputs": [],
   "source": [
    "count_vect = CountVectorizer()\n",
    "tf_transformer = TfidfTransformer(use_idf=False)\n",
    "\n",
    "x_train_counts_language = count_vect.fit_transform(train_set2['text'])\n",
    "x_train_tf_idf_language = tf_transformer.fit_transform(x_train_counts_language)\n",
    "\n",
    "x_test_counts_language = count_vect.transform(test_set2['text'])\n",
    "x_test_tf_idf_language = tf_transformer.fit_transform(x_test_counts_language)"
   ]
  },
  {
   "cell_type": "markdown",
   "id": "2f6bfc6e",
   "metadata": {},
   "source": [
    "In analogia ai passi precedenti, dopo aver ottenuto la rappresentazione tf-idf dei dati, viene cercato il **k migliore** tramite validation set:"
   ]
  },
  {
   "cell_type": "code",
   "execution_count": 77,
   "id": "25101cb3",
   "metadata": {},
   "outputs": [],
   "source": [
    "knn = KNeighborsClassifier()\n",
    "\n",
    "#definiamo che i k da testare vanno da 1 a 20\n",
    "param_grid = {'n_neighbors': np.arange(1, 20)}\n",
    "\n",
    "#specifichiamo che vogliamo utilizzare l'f1score come misura di confronto\n",
    "f1 = make_scorer(f1_score , average='macro')\n",
    "gs = GridSearchCV(knn, param_grid, cv=5,  scoring=f1)\n",
    "gs.fit(x_train_tf_idf_language,train_set2['class'])\n",
    "bestK_language= gs.best_params_['n_neighbors']"
   ]
  },
  {
   "cell_type": "markdown",
   "id": "2ff36d07",
   "metadata": {},
   "source": [
    "A questo punto è possibile effettuare il **training** dell'algoritmo:"
   ]
  },
  {
   "cell_type": "code",
   "execution_count": 78,
   "id": "8b565f58",
   "metadata": {},
   "outputs": [
    {
     "data": {
      "text/plain": [
       "KNeighborsClassifier(n_neighbors=1)"
      ]
     },
     "execution_count": 78,
     "metadata": {},
     "output_type": "execute_result"
    }
   ],
   "source": [
    "classifier = KNeighborsClassifier(n_neighbors=bestK_language)\n",
    "classifier.fit(x_train_tf_idf_language, train_set2['language'])"
   ]
  },
  {
   "cell_type": "markdown",
   "id": "3fcf0d19",
   "metadata": {},
   "source": [
    "E' possibile quindi applicare l'algoritmo alla prima osservazione del test set per verificarne il funzionamento:"
   ]
  },
  {
   "cell_type": "code",
   "execution_count": 79,
   "id": "6c4150dd",
   "metadata": {},
   "outputs": [
    {
     "data": {
      "text/plain": [
       "\"I use IntelliJ for java dev (and angular) for my work. Which OS do you prefer e.g. Windows with wsl2, windows , macOS , linux native,.... I have a Mac air M1 but with 8 gb ram, (could afford more ram) but I also have a Lenovo legion (two years now) with 16 ram on one slot (so I can add 16 to go to 32). Although Mac air M1 is faster (a lot), ram is super crucial so my Lenovo 9th gen intel, wins when things become heavy. (I was .net c# dev).\\n\\nWhich os (only laptop) do you find more productive for java dev (and angular maybe) in long run. I have experience with all three. I don't game or whatever, I only work on my laptop. \\n\\nWith Mac, because of 8ram I started running eg the (dev) DBs on AWS  instead of local. But although it was a good idea to have them on cloud (and more secure if hardware fails), its pretty slow compared to local dockers etc.\\n\\nSo, I'm looking for a good productive setup for IntelliJ java spring angular etc dev. eg Thinkpad with 32ram . But I loose the battery life of M1 which I like. (too bad there is no more external battery laptops, maybe power banks is a solution). What would you buy today at normal budget lets say \\\\~1200-1400$ for that work?\""
      ]
     },
     "execution_count": 79,
     "metadata": {},
     "output_type": "execute_result"
    }
   ],
   "source": [
    "test = test_set2.iloc[1]['text']\n",
    "trueclass = test_set2.iloc[1]['language']\n",
    "test"
   ]
  },
  {
   "cell_type": "code",
   "execution_count": 80,
   "id": "403ee09e",
   "metadata": {},
   "outputs": [
    {
     "name": "stdout",
     "output_type": "stream",
     "text": [
      "classe predetta: Kotlin\n",
      "classe reale: Java\n"
     ]
    }
   ],
   "source": [
    "feats=count_vect.transform([test])\n",
    "\n",
    "print(\"classe predetta:\", classifier.predict(feats)[0])\n",
    "print(\"classe reale:\", trueclass)"
   ]
  },
  {
   "cell_type": "markdown",
   "id": "358c21a9",
   "metadata": {},
   "source": [
    "Il prossimo step è quello di calcolare le predizioni di tutto il test set e calcolare l'f1score per verificare la bontà dell'algoritmo:"
   ]
  },
  {
   "cell_type": "code",
   "execution_count": 81,
   "id": "8aaf4c1b",
   "metadata": {},
   "outputs": [
    {
     "name": "stdout",
     "output_type": "stream",
     "text": [
      "f1-score language classification: 0.3939393939393939\n"
     ]
    }
   ],
   "source": [
    "y_test_preds_language = classifier.predict(x_test_tf_idf_language)\n",
    "f1_scores=f1_score(test_set2['language'],y_test_preds_language, average=None)[0]\n",
    "print(\"f1-score language classification:\",f1_scores)"
   ]
  },
  {
   "cell_type": "markdown",
   "id": "06b097b9",
   "metadata": {},
   "source": [
    "E' inoltre possibile visualizzare una versione generalizzata al caso **non binario** della matrice di confusione del nuovo classificatore."
   ]
  },
  {
   "cell_type": "code",
   "execution_count": 82,
   "id": "06b67447",
   "metadata": {},
   "outputs": [
    {
     "data": {
      "text/plain": [
       "<sklearn.metrics._plot.confusion_matrix.ConfusionMatrixDisplay at 0x7fd44a0e19d0>"
      ]
     },
     "execution_count": 82,
     "metadata": {},
     "output_type": "execute_result"
    },
    {
     "data": {
      "image/png": "[encoded data removed]",
      "text/plain": [
       "<Figure size 432x288 with 2 Axes>"
      ]
     },
     "metadata": {
      "needs_background": "light"
     },
     "output_type": "display_data"
    }
   ],
   "source": [
    "ConfusionMatrixDisplay.from_predictions(test_set2['language'], y_test_preds_language)"
   ]
  },
  {
   "cell_type": "markdown",
   "id": "3f1ea3c9",
   "metadata": {},
   "source": [
    "## 9. Sentiment analysis sui post che parlano di programmazione"
   ]
  },
  {
   "cell_type": "markdown",
   "id": "4d4d405e",
   "metadata": {},
   "source": [
    "Dopo aver classificato i post provenienti dai vari subreddit, verrà adesso analizzato il **sentiment** ovvero, lo stato d'animo dell'autore quando ha scritto quel determinato post. Alla fine verrà stimata una **media** dei sentiment per vedere se in generale, tramite Reddit gli utenti esprimono le loro problematiche o evidenziano i punti di forza di un linguaggio e lo consigliano.\n",
    "Per portare a termine questo compito verrà usato l'algoritmo **VADER**, ovvero un algoritmo per la **sentiment analysis** slegato dal dominio delle osservazioni in input e che assegna ad ogni parola un punteggio, basato su statistiche ottenute dalla media di punteggi espressi da dei volontari durante la fase di creazione dell'algoritmo.\n",
    "Per effettuare l'analisi utilizzando VADER faremo uso della libreria **nltk**.\n",
    "\n",
    "Come prima cosa è necessario caricare il package di lexicon fornito da vader:"
   ]
  },
  {
   "cell_type": "code",
   "execution_count": 83,
   "id": "85f4c8cb",
   "metadata": {},
   "outputs": [
    {
     "name": "stderr",
     "output_type": "stream",
     "text": [
      "[nltk_data] Downloading package vader_lexicon to\n",
      "[nltk_data]     /home/rosario/nltk_data...\n",
      "[nltk_data]   Package vader_lexicon is already up-to-date!\n"
     ]
    },
    {
     "data": {
      "text/plain": [
       "True"
      ]
     },
     "execution_count": 83,
     "metadata": {},
     "output_type": "execute_result"
    }
   ],
   "source": [
    "import nltk\n",
    "nltk.download('vader_lexicon')"
   ]
  },
  {
   "cell_type": "markdown",
   "id": "2accd0f1",
   "metadata": {},
   "source": [
    "A questo punto sarà possibile creare l'oggetto **sid** che permetterà di effettuare il **calcolo del sentiment**."
   ]
  },
  {
   "cell_type": "code",
   "execution_count": 84,
   "id": "736f4efc",
   "metadata": {},
   "outputs": [],
   "source": [
    "from nltk.sentiment.vader import SentimentIntensityAnalyzer\n",
    "sid = SentimentIntensityAnalyzer()"
   ]
  },
  {
   "cell_type": "markdown",
   "id": "58ab3724",
   "metadata": {},
   "source": [
    "Prima di procedere con il calcolo del sentiment score, è necessario ai fini di una maggiore comprensione riorganizzare il dataset. A tal proposito sarannoeliminate le colonne \"language\" e \"class\" non utili ai fini dell'analisi e verrà inserita la colonna \"**predicted_language**\" contenente la predizione del linguaggio effettuta dal secondo algoritmo:"
   ]
  },
  {
   "cell_type": "code",
   "execution_count": 85,
   "id": "154e2ecd",
   "metadata": {},
   "outputs": [
    {
     "data": {
      "text/html": [
       "<div>\n",
       "<style scoped>\n",
       "    .dataframe tbody tr th:only-of-type {\n",
       "        vertical-align: middle;\n",
       "    }\n",
       "\n",
       "    .dataframe tbody tr th {\n",
       "        vertical-align: top;\n",
       "    }\n",
       "\n",
       "    .dataframe thead th {\n",
       "        text-align: right;\n",
       "    }\n",
       "</style>\n",
       "<table border=\"1\" class=\"dataframe\">\n",
       "  <thead>\n",
       "    <tr style=\"text-align: right;\">\n",
       "      <th></th>\n",
       "      <th>title</th>\n",
       "      <th>text</th>\n",
       "      <th>predicted_language</th>\n",
       "    </tr>\n",
       "  </thead>\n",
       "  <tbody>\n",
       "    <tr>\n",
       "      <th>6079</th>\n",
       "      <td>Realtime notification in angular 8 and .</td>\n",
       "      <td>I've been trying to find tutorials for  realti...</td>\n",
       "      <td>Angular</td>\n",
       "    </tr>\n",
       "    <tr>\n",
       "      <th>12444</th>\n",
       "      <td>Best OS for Java dev</td>\n",
       "      <td>I use IntelliJ for java dev (and angular) for ...</td>\n",
       "      <td>Kotlin</td>\n",
       "    </tr>\n",
       "    <tr>\n",
       "      <th>12505</th>\n",
       "      <td>I know the JLS is not aimed at mere mort</td>\n",
       "      <td>**TL;DR** I totally get generics, reference ty...</td>\n",
       "      <td>PHP</td>\n",
       "    </tr>\n",
       "    <tr>\n",
       "      <th>331</th>\n",
       "      <td>Pandas Data Cleaner</td>\n",
       "      <td>Little Python package for cleaning Pandas dat...</td>\n",
       "      <td>Kotlin</td>\n",
       "    </tr>\n",
       "    <tr>\n",
       "      <th>519</th>\n",
       "      <td>clang with gcc ABI compatibility with -s</td>\n",
       "      <td>Because of earlier post about no-unique-addres...</td>\n",
       "      <td>C++</td>\n",
       "    </tr>\n",
       "    <tr>\n",
       "      <th>...</th>\n",
       "      <td>...</td>\n",
       "      <td>...</td>\n",
       "      <td>...</td>\n",
       "    </tr>\n",
       "    <tr>\n",
       "      <th>472</th>\n",
       "      <td>How to Use C++20 Modules with Bazel</td>\n",
       "      <td>[https://buildingblock.ai/cpp20-modules-bazel]...</td>\n",
       "      <td>PHP</td>\n",
       "    </tr>\n",
       "    <tr>\n",
       "      <th>6074</th>\n",
       "      <td>cant set data to html attr</td>\n",
       "      <td>how to bind data on data-is attr ?\\n\\n&amp;#x200B;...</td>\n",
       "      <td>Angular</td>\n",
       "    </tr>\n",
       "    <tr>\n",
       "      <th>3169</th>\n",
       "      <td>How to lateinit function? Or is it latei</td>\n",
       "      <td>Noobie question is in title</td>\n",
       "      <td>Go</td>\n",
       "    </tr>\n",
       "    <tr>\n",
       "      <th>9086</th>\n",
       "      <td>Resources for learning Go aimed at SREs?</td>\n",
       "      <td>Hi everyone,\\n\\nI’m sure this gets asked a fai...</td>\n",
       "      <td>Angular</td>\n",
       "    </tr>\n",
       "    <tr>\n",
       "      <th>12407</th>\n",
       "      <td>question about &lt;details&gt;</td>\n",
       "      <td>Is there any way to style which direction the ...</td>\n",
       "      <td>CSS</td>\n",
       "    </tr>\n",
       "  </tbody>\n",
       "</table>\n",
       "<p>217 rows × 3 columns</p>\n",
       "</div>"
      ],
      "text/plain": [
       "                                          title  \\\n",
       "6079   Realtime notification in angular 8 and .   \n",
       "12444                      Best OS for Java dev   \n",
       "12505  I know the JLS is not aimed at mere mort   \n",
       "331                         Pandas Data Cleaner   \n",
       "519    clang with gcc ABI compatibility with -s   \n",
       "...                                         ...   \n",
       "472         How to Use C++20 Modules with Bazel   \n",
       "6074                 cant set data to html attr   \n",
       "3169   How to lateinit function? Or is it latei   \n",
       "9086   Resources for learning Go aimed at SREs?   \n",
       "12407                  question about <details>   \n",
       "\n",
       "                                                    text predicted_language  \n",
       "6079   I've been trying to find tutorials for  realti...            Angular  \n",
       "12444  I use IntelliJ for java dev (and angular) for ...             Kotlin  \n",
       "12505  **TL;DR** I totally get generics, reference ty...                PHP  \n",
       "331     Little Python package for cleaning Pandas dat...             Kotlin  \n",
       "519    Because of earlier post about no-unique-addres...                C++  \n",
       "...                                                  ...                ...  \n",
       "472    [https://buildingblock.ai/cpp20-modules-bazel]...                PHP  \n",
       "6074   how to bind data on data-is attr ?\\n\\n&#x200B;...            Angular  \n",
       "3169                         Noobie question is in title                 Go  \n",
       "9086   Hi everyone,\\n\\nI’m sure this gets asked a fai...            Angular  \n",
       "12407  Is there any way to style which direction the ...                CSS  \n",
       "\n",
       "[217 rows x 3 columns]"
      ]
     },
     "execution_count": 85,
     "metadata": {},
     "output_type": "execute_result"
    }
   ],
   "source": [
    "SentimentDf = test_set2.copy()\n",
    "\n",
    "SentimentDf = SentimentDf.assign(predicted_language = y_test_preds_language)\n",
    "SentimentDf.drop(columns=['language','class'], inplace=True)\n",
    "SentimentDf"
   ]
  },
  {
   "cell_type": "markdown",
   "id": "f29ed6cc",
   "metadata": {},
   "source": [
    "Verrà affiancata al dataframe una nuova colonna che prenderà il nome di **'score'** ottenuta dal lexicon score di vader, in questo modo sarà possibile osservare il post e il rispettivo punteggio.\n",
    "Calcoliamo per ogni riga del dataframe già filtrato il **compound** del testo associato: VADER ritorna diversi valori in output che rappresentano la percentuale di positività, neutralità e negatività del testo analizzato, il compound non è altro che la media di essi, ovvero il lexicon score effettivo."
   ]
  },
  {
   "cell_type": "code",
   "execution_count": 86,
   "id": "b7df5583",
   "metadata": {},
   "outputs": [],
   "source": [
    "rows, cols = SentimentDf.shape\n",
    "score = []\n",
    "for i in range(rows):\n",
    "    score.append(sid.polarity_scores(SentimentDf.iloc[i]['text'])['compound'])"
   ]
  },
  {
   "cell_type": "code",
   "execution_count": 87,
   "id": "0416c5d1",
   "metadata": {},
   "outputs": [
    {
     "data": {
      "text/html": [
       "<div>\n",
       "<style scoped>\n",
       "    .dataframe tbody tr th:only-of-type {\n",
       "        vertical-align: middle;\n",
       "    }\n",
       "\n",
       "    .dataframe tbody tr th {\n",
       "        vertical-align: top;\n",
       "    }\n",
       "\n",
       "    .dataframe thead th {\n",
       "        text-align: right;\n",
       "    }\n",
       "</style>\n",
       "<table border=\"1\" class=\"dataframe\">\n",
       "  <thead>\n",
       "    <tr style=\"text-align: right;\">\n",
       "      <th></th>\n",
       "      <th>title</th>\n",
       "      <th>text</th>\n",
       "      <th>predicted_language</th>\n",
       "      <th>score</th>\n",
       "    </tr>\n",
       "  </thead>\n",
       "  <tbody>\n",
       "    <tr>\n",
       "      <th>6079</th>\n",
       "      <td>Realtime notification in angular 8 and .</td>\n",
       "      <td>I've been trying to find tutorials for  realti...</td>\n",
       "      <td>Angular</td>\n",
       "      <td>0.9251</td>\n",
       "    </tr>\n",
       "    <tr>\n",
       "      <th>12444</th>\n",
       "      <td>Best OS for Java dev</td>\n",
       "      <td>I use IntelliJ for java dev (and angular) for ...</td>\n",
       "      <td>Kotlin</td>\n",
       "      <td>0.9670</td>\n",
       "    </tr>\n",
       "    <tr>\n",
       "      <th>12505</th>\n",
       "      <td>I know the JLS is not aimed at mere mort</td>\n",
       "      <td>**TL;DR** I totally get generics, reference ty...</td>\n",
       "      <td>PHP</td>\n",
       "      <td>-0.4023</td>\n",
       "    </tr>\n",
       "    <tr>\n",
       "      <th>331</th>\n",
       "      <td>Pandas Data Cleaner</td>\n",
       "      <td>Little Python package for cleaning Pandas dat...</td>\n",
       "      <td>Kotlin</td>\n",
       "      <td>0.5859</td>\n",
       "    </tr>\n",
       "    <tr>\n",
       "      <th>519</th>\n",
       "      <td>clang with gcc ABI compatibility with -s</td>\n",
       "      <td>Because of earlier post about no-unique-addres...</td>\n",
       "      <td>C++</td>\n",
       "      <td>0.4071</td>\n",
       "    </tr>\n",
       "    <tr>\n",
       "      <th>...</th>\n",
       "      <td>...</td>\n",
       "      <td>...</td>\n",
       "      <td>...</td>\n",
       "      <td>...</td>\n",
       "    </tr>\n",
       "    <tr>\n",
       "      <th>472</th>\n",
       "      <td>How to Use C++20 Modules with Bazel</td>\n",
       "      <td>[https://buildingblock.ai/cpp20-modules-bazel]...</td>\n",
       "      <td>PHP</td>\n",
       "      <td>0.0000</td>\n",
       "    </tr>\n",
       "    <tr>\n",
       "      <th>6074</th>\n",
       "      <td>cant set data to html attr</td>\n",
       "      <td>how to bind data on data-is attr ?\\n\\n&amp;#x200B;...</td>\n",
       "      <td>Angular</td>\n",
       "      <td>0.0000</td>\n",
       "    </tr>\n",
       "    <tr>\n",
       "      <th>3169</th>\n",
       "      <td>How to lateinit function? Or is it latei</td>\n",
       "      <td>Noobie question is in title</td>\n",
       "      <td>Go</td>\n",
       "      <td>0.0000</td>\n",
       "    </tr>\n",
       "    <tr>\n",
       "      <th>9086</th>\n",
       "      <td>Resources for learning Go aimed at SREs?</td>\n",
       "      <td>Hi everyone,\\n\\nI’m sure this gets asked a fai...</td>\n",
       "      <td>Angular</td>\n",
       "      <td>0.9890</td>\n",
       "    </tr>\n",
       "    <tr>\n",
       "      <th>12407</th>\n",
       "      <td>question about &lt;details&gt;</td>\n",
       "      <td>Is there any way to style which direction the ...</td>\n",
       "      <td>CSS</td>\n",
       "      <td>-0.5267</td>\n",
       "    </tr>\n",
       "  </tbody>\n",
       "</table>\n",
       "<p>217 rows × 4 columns</p>\n",
       "</div>"
      ],
      "text/plain": [
       "                                          title  \\\n",
       "6079   Realtime notification in angular 8 and .   \n",
       "12444                      Best OS for Java dev   \n",
       "12505  I know the JLS is not aimed at mere mort   \n",
       "331                         Pandas Data Cleaner   \n",
       "519    clang with gcc ABI compatibility with -s   \n",
       "...                                         ...   \n",
       "472         How to Use C++20 Modules with Bazel   \n",
       "6074                 cant set data to html attr   \n",
       "3169   How to lateinit function? Or is it latei   \n",
       "9086   Resources for learning Go aimed at SREs?   \n",
       "12407                  question about <details>   \n",
       "\n",
       "                                                    text predicted_language  \\\n",
       "6079   I've been trying to find tutorials for  realti...            Angular   \n",
       "12444  I use IntelliJ for java dev (and angular) for ...             Kotlin   \n",
       "12505  **TL;DR** I totally get generics, reference ty...                PHP   \n",
       "331     Little Python package for cleaning Pandas dat...             Kotlin   \n",
       "519    Because of earlier post about no-unique-addres...                C++   \n",
       "...                                                  ...                ...   \n",
       "472    [https://buildingblock.ai/cpp20-modules-bazel]...                PHP   \n",
       "6074   how to bind data on data-is attr ?\\n\\n&#x200B;...            Angular   \n",
       "3169                         Noobie question is in title                 Go   \n",
       "9086   Hi everyone,\\n\\nI’m sure this gets asked a fai...            Angular   \n",
       "12407  Is there any way to style which direction the ...                CSS   \n",
       "\n",
       "        score  \n",
       "6079   0.9251  \n",
       "12444  0.9670  \n",
       "12505 -0.4023  \n",
       "331    0.5859  \n",
       "519    0.4071  \n",
       "...       ...  \n",
       "472    0.0000  \n",
       "6074   0.0000  \n",
       "3169   0.0000  \n",
       "9086   0.9890  \n",
       "12407 -0.5267  \n",
       "\n",
       "[217 rows x 4 columns]"
      ]
     },
     "execution_count": 87,
     "metadata": {},
     "output_type": "execute_result"
    }
   ],
   "source": [
    "SentimentDf = SentimentDf.assign(score = score)\n",
    "SentimentDf"
   ]
  },
  {
   "cell_type": "markdown",
   "id": "0bbe4231",
   "metadata": {},
   "source": [
    "Il compound è un valore compreso tra -1 e 1, dove 1 indica che il sentiment della frase è totalmente positivo mentre -1 che il sentiment è totalmente negativo."
   ]
  },
  {
   "cell_type": "markdown",
   "id": "10b357be",
   "metadata": {},
   "source": [
    "Come ultimo passaggio dell'analisi è possibile adesso calcolare la media dello score delle valutazioni raggruppate per linguaggio per vedere in generale il sentiment rispetto a quello che sono i post nei subreddit di programmazione: la media sarà superiore allo zero in caso di esito positivo e inferiore nel caso contrario:"
   ]
  },
  {
   "cell_type": "code",
   "execution_count": 88,
   "id": "3a8dacb9",
   "metadata": {},
   "outputs": [
    {
     "data": {
      "text/html": [
       "<div>\n",
       "<style scoped>\n",
       "    .dataframe tbody tr th:only-of-type {\n",
       "        vertical-align: middle;\n",
       "    }\n",
       "\n",
       "    .dataframe tbody tr th {\n",
       "        vertical-align: top;\n",
       "    }\n",
       "\n",
       "    .dataframe thead th {\n",
       "        text-align: right;\n",
       "    }\n",
       "</style>\n",
       "<table border=\"1\" class=\"dataframe\">\n",
       "  <thead>\n",
       "    <tr style=\"text-align: right;\">\n",
       "      <th></th>\n",
       "      <th>score</th>\n",
       "    </tr>\n",
       "    <tr>\n",
       "      <th>predicted_language</th>\n",
       "      <th></th>\n",
       "    </tr>\n",
       "  </thead>\n",
       "  <tbody>\n",
       "    <tr>\n",
       "      <th>Angular</th>\n",
       "      <td>0.427857</td>\n",
       "    </tr>\n",
       "    <tr>\n",
       "      <th>C++</th>\n",
       "      <td>0.428156</td>\n",
       "    </tr>\n",
       "    <tr>\n",
       "      <th>CSS</th>\n",
       "      <td>0.351962</td>\n",
       "    </tr>\n",
       "    <tr>\n",
       "      <th>Go</th>\n",
       "      <td>0.296871</td>\n",
       "    </tr>\n",
       "    <tr>\n",
       "      <th>Java</th>\n",
       "      <td>0.443000</td>\n",
       "    </tr>\n",
       "    <tr>\n",
       "      <th>Kotlin</th>\n",
       "      <td>0.527831</td>\n",
       "    </tr>\n",
       "    <tr>\n",
       "      <th>PHP</th>\n",
       "      <td>0.563619</td>\n",
       "    </tr>\n",
       "    <tr>\n",
       "      <th>Python</th>\n",
       "      <td>0.433347</td>\n",
       "    </tr>\n",
       "  </tbody>\n",
       "</table>\n",
       "</div>"
      ],
      "text/plain": [
       "                       score\n",
       "predicted_language          \n",
       "Angular             0.427857\n",
       "C++                 0.428156\n",
       "CSS                 0.351962\n",
       "Go                  0.296871\n",
       "Java                0.443000\n",
       "Kotlin              0.527831\n",
       "PHP                 0.563619\n",
       "Python              0.433347"
      ]
     },
     "execution_count": 88,
     "metadata": {},
     "output_type": "execute_result"
    }
   ],
   "source": [
    "dfMean = SentimentDf.groupby('predicted_language').mean()\n",
    "dfMean"
   ]
  },
  {
   "cell_type": "code",
   "execution_count": 89,
   "id": "b87499f6",
   "metadata": {},
   "outputs": [
    {
     "data": {
      "image/png": "[encoded data removed]",
      "text/plain": [
       "<Figure size 432x288 with 1 Axes>"
      ]
     },
     "metadata": {
      "needs_background": "light"
     },
     "output_type": "display_data"
    }
   ],
   "source": [
    "dfMean.plot.bar(y = 'score')\n",
    "plt.xlabel('language')\n",
    "plt.ylabel('sentiment score')\n",
    "a = np.arange(-1,1,0.1)\n",
    "plt.show()"
   ]
  },
  {
   "cell_type": "markdown",
   "id": "7796e039",
   "metadata": {},
   "source": [
    "## 10. Conclusioni"
   ]
  },
  {
   "cell_type": "markdown",
   "id": "eaed00b0",
   "metadata": {},
   "source": [
    "Concludendo, quella ottenuta è una **pipeline** che dato un insieme di post provenienti da Reddit (comunque generalizzabile a qualsiasi fonte) permette di estrarre solo quelli che trattano di programmazione e di analizzarne il sentiment in modo da trarre delle conclusioni e stimare il pensiero degli utenti che fanno uso dei vari linguaggi. Sono state marcate le differenze tra le varie ottimizzazioni che è possibile applicare ad un algoritmo semplice come il kNN che si ricorda essere un algoritmo **lazy**, ovvero un algoritmo la cui fase di training si limita a memorizzare il training set e ad approssimare una pseudofunzione di classificazione solo nel momento in cui viene richiesto di classificare una nuova osservazione. \n",
    "Generalizzando, questa catena di processi è utilizzabile ogni qual volta data una quantità di dati generici, si vuole isolare una sola categoria di essi per capire se di quest'ultima si sta parlando positivamente o meno rispetto alle altre. Il processo è applicabile in molti contesti e quello dei post di un social network ne è l'esempio più generale."
   ]
  }
 ],
 "metadata": {
  "kernelspec": {
   "display_name": "Python 3 (ipykernel)",
   "language": "python",
   "name": "python3"
  },
  "language_info": {
   "codemirror_mode": {
    "name": "ipython",
    "version": 3
   },
   "file_extension": ".py",
   "mimetype": "text/x-python",
   "name": "python",
   "nbconvert_exporter": "python",
   "pygments_lexer": "ipython3",
   "version": "3.9.7"
  }
 },
 "nbformat": 4,
 "nbformat_minor": 5
}
