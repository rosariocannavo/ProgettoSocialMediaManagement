{
 "cells": [
  {
   "cell_type": "markdown",
   "id": "bee6d04b",
   "metadata": {},
   "source": [
    "# Classificazione e Sentiment analysis su post provenienti da Reddit"
   ]
  },
  {
   "cell_type": "markdown",
   "id": "9dfcdc3e",
   "metadata": {},
   "source": [
    "**Studente:** Rosario Cannavò\n",
    "<br>\n",
    "**Matricola:** 1000004011\n",
    "<br>\n",
    "**A.A:** 2021/2022"
   ]
  },
  {
   "cell_type": "markdown",
   "id": "35416eaf",
   "metadata": {},
   "source": [
    "## 1. Introduzione"
   ]
  },
  {
   "cell_type": "markdown",
   "id": "48aa2d28",
   "metadata": {},
   "source": [
    "Come già noto, Reddit è un social network caratterizzato da una struttura simile ai primissimi forum che popolavano internet fino a qualche anno fa e fornivano un pensiero attuale sui vari topic che affrontavano. Riprendendo questo concetto si vuole addestrare un algoritmo di machine learning che opportunamente addestrato e ottimizzato riesca a classificare la categoria di un post. Nello specifico, andando ad allenare un'istanza dell'algoritmo kNN su post che provengono da vari subreddit che trattano di linguaggi di programmazione e da altri il cui argomento di interesse è diverso dal mondo della programmazione e dell'informatica in generale in modo tale che alla fine esso riesca a classificare nuovi post, indicando se essi appartengono al mondo della programmazione o meno. \n",
    "A tal proposito andremo ad utilizzare l'algoritmo K-Nearest Neighbour e una sua ottimizzazione. I punti su cui lavorerà l'algoritmo saranno i vettori bag of words opportunamente estrapolati dai post di esempio. \n",
    "Dopo aver effettuato la classificazione, una seconda parte del progetto consisterà nel calcolare il sentiment dei post che parlano di programmazione. A tal proposito verrà utilizzato l'algoritmo VADER e in conclusione verrà calcolata la media delle valutazioni, in questo modo sarà possibile capire se generalmente gli utenti di Reddit utilizzano il social network per esporre difetti e lamentele dei vari linguaggi o per elogiarne le funzionalità e le potenzialità.  "
   ]
  },
  {
   "cell_type": "markdown",
   "id": "e8c79149",
   "metadata": {},
   "source": [
    "Per accedere ai contenuti dei vari subreddit utilizzeremo le API di Reddit fornite dal wrapper Praw. Come citato nel tutorial ([Tutorial Reddit](https://github.com/rosariocannavo/TutorialSocialMediaManagement)), per avere accesso sarà necessario registrarsi a Reddit come programmatori e riscattare i token di identificazione."
   ]
  },
  {
   "cell_type": "code",
   "execution_count": 1,
   "id": "97eea800",
   "metadata": {
    "scrolled": true
   },
   "outputs": [],
   "source": [
    "import praw \n",
    "reddit = praw.Reddit(client_id = 'tvHkTZ-wanEENSM1GSdQ5w',\n",
    "                     client_secret = 'kw-wzX7cNVvYYi8VBCjxjQp5C2Pn9Q',\n",
    "                     username = 'tutorialSocialMedia',\n",
    "                     password = 'password123',\n",
    "                     user_agent = 'tutorialpython'\n",
    "                    )"
   ]
  },
  {
   "cell_type": "markdown",
   "id": "5f0c6472",
   "metadata": {},
   "source": [
    "## 2. Estrazione dei dati e creazione del dataset"
   ]
  },
  {
   "cell_type": "markdown",
   "id": "6a29c5be",
   "metadata": {},
   "source": [
    "Dopo aver ottenuto l'oggetto **reddit**, potremo esplorare i vari subreddit del social network utilizzando i metodi del wrapper. Nelle prossime righe sarà effettuata l'estrapolazione dei post più recenti in modo da costruire un dataset di partenza su cui addestrare e testare gli algoritmi che saranno utilizzati.\n",
    "E' importante notare che il numero di post ritornati dal metodo \"hot\" non è fisso, per tale motivo è stabilito un limite superiore (posto a 5000) per evitare di appesantire e rallentare eccessivamente l'algoritmo.\n",
    "\n",
    "I post sono nello specifico ottenuti dai subreddit: \"Python\", \"C++\", \"Sushi\", \"Guitar\", \"Java\", \"nba\",\"news\" e \"Ada\".\n",
    "Inoltre, conoscendo la provenienza dei post durante la fase di costruzione del dataset, è stato assegnato ad ognuno di essi, la classe di appartenenza \"reale\". Le possibili classi sono \"**programming**\" e \"**non programming**\", ad indicare la natura del post. "
   ]
  },
  {
   "cell_type": "code",
   "execution_count": 2,
   "id": "a1d2b9f8",
   "metadata": {},
   "outputs": [],
   "source": [
    "subred = reddit.subreddit(\"Python\")"
   ]
  },
  {
   "cell_type": "code",
   "execution_count": 3,
   "id": "8fce31c5",
   "metadata": {},
   "outputs": [],
   "source": [
    "import pandas as pd\n",
    "df1 = []\n",
    "for post in subred.hot(limit=5000):\n",
    "    df1.append([post.title[:40], post.selftext, \"programming\"]\n",
    "             )\n",
    "df1 = pd.DataFrame(df1, columns=[\"title\",\"text\",\"class\"])"
   ]
  },
  {
   "cell_type": "code",
   "execution_count": 4,
   "id": "6cd2abfa",
   "metadata": {},
   "outputs": [
    {
     "data": {
      "text/html": [
       "<div>\n",
       "<style scoped>\n",
       "    .dataframe tbody tr th:only-of-type {\n",
       "        vertical-align: middle;\n",
       "    }\n",
       "\n",
       "    .dataframe tbody tr th {\n",
       "        vertical-align: top;\n",
       "    }\n",
       "\n",
       "    .dataframe thead th {\n",
       "        text-align: right;\n",
       "    }\n",
       "</style>\n",
       "<table border=\"1\" class=\"dataframe\">\n",
       "  <thead>\n",
       "    <tr style=\"text-align: right;\">\n",
       "      <th></th>\n",
       "      <th>title</th>\n",
       "      <th>text</th>\n",
       "      <th>class</th>\n",
       "    </tr>\n",
       "  </thead>\n",
       "  <tbody>\n",
       "    <tr>\n",
       "      <th>0</th>\n",
       "      <td>Sunday Daily Thread: What's everyone wor</td>\n",
       "      <td>Tell /r/python what you're working on this wee...</td>\n",
       "      <td>programming</td>\n",
       "    </tr>\n",
       "    <tr>\n",
       "      <th>1</th>\n",
       "      <td>Tuesday Daily Thread: Advanced questions</td>\n",
       "      <td>Have some burning questions on advanced Python...</td>\n",
       "      <td>programming</td>\n",
       "    </tr>\n",
       "    <tr>\n",
       "      <th>2</th>\n",
       "      <td>High Performance subset of python</td>\n",
       "      <td>Python is the slowest* of the major languages....</td>\n",
       "      <td>programming</td>\n",
       "    </tr>\n",
       "    <tr>\n",
       "      <th>3</th>\n",
       "      <td>I made a CLI-version of Wordle in Python</td>\n",
       "      <td>Hopefully I am not too late to the party! I am...</td>\n",
       "      <td>programming</td>\n",
       "    </tr>\n",
       "    <tr>\n",
       "      <th>4</th>\n",
       "      <td>I created a fun Python project using ML</td>\n",
       "      <td></td>\n",
       "      <td>programming</td>\n",
       "    </tr>\n",
       "  </tbody>\n",
       "</table>\n",
       "</div>"
      ],
      "text/plain": [
       "                                      title  \\\n",
       "0  Sunday Daily Thread: What's everyone wor   \n",
       "1  Tuesday Daily Thread: Advanced questions   \n",
       "2         High Performance subset of python   \n",
       "3  I made a CLI-version of Wordle in Python   \n",
       "4  I created a fun Python project using ML    \n",
       "\n",
       "                                                text        class  \n",
       "0  Tell /r/python what you're working on this wee...  programming  \n",
       "1  Have some burning questions on advanced Python...  programming  \n",
       "2  Python is the slowest* of the major languages....  programming  \n",
       "3  Hopefully I am not too late to the party! I am...  programming  \n",
       "4                                                     programming  "
      ]
     },
     "execution_count": 4,
     "metadata": {},
     "output_type": "execute_result"
    }
   ],
   "source": [
    "df1.head()"
   ]
  },
  {
   "cell_type": "markdown",
   "id": "17b63128",
   "metadata": {},
   "source": [
    "Prendiamo adesso dei post da un altro subreddit che parla di programmazione, ad esempio il subreddit di C++:"
   ]
  },
  {
   "cell_type": "code",
   "execution_count": 5,
   "id": "f464177d",
   "metadata": {},
   "outputs": [],
   "source": [
    "subred = reddit.subreddit(\"cpp\")  "
   ]
  },
  {
   "cell_type": "code",
   "execution_count": 6,
   "id": "88a5e41f",
   "metadata": {},
   "outputs": [],
   "source": [
    "df2 = []\n",
    "for post in subred.hot(limit=5000):\n",
    "    df2.append([post.title[:40], post.selftext, \"programming\"]\n",
    "             )\n",
    "df2 = pd.DataFrame(df2, columns=[\"title\",\"text\",\"class\"])"
   ]
  },
  {
   "cell_type": "code",
   "execution_count": 7,
   "id": "0e6a48ae",
   "metadata": {},
   "outputs": [
    {
     "data": {
      "text/html": [
       "<div>\n",
       "<style scoped>\n",
       "    .dataframe tbody tr th:only-of-type {\n",
       "        vertical-align: middle;\n",
       "    }\n",
       "\n",
       "    .dataframe tbody tr th {\n",
       "        vertical-align: top;\n",
       "    }\n",
       "\n",
       "    .dataframe thead th {\n",
       "        text-align: right;\n",
       "    }\n",
       "</style>\n",
       "<table border=\"1\" class=\"dataframe\">\n",
       "  <thead>\n",
       "    <tr style=\"text-align: right;\">\n",
       "      <th></th>\n",
       "      <th>title</th>\n",
       "      <th>text</th>\n",
       "      <th>class</th>\n",
       "    </tr>\n",
       "  </thead>\n",
       "  <tbody>\n",
       "    <tr>\n",
       "      <th>0</th>\n",
       "      <td>C++ Jobs - Q1 2022</td>\n",
       "      <td>Rules For Individuals\\n---------------------\\n...</td>\n",
       "      <td>programming</td>\n",
       "    </tr>\n",
       "    <tr>\n",
       "      <th>1</th>\n",
       "      <td>C++ Show and Tell - Experiment</td>\n",
       "      <td>Recently, we've been getting an uptick of \"loo...</td>\n",
       "      <td>programming</td>\n",
       "    </tr>\n",
       "    <tr>\n",
       "      <th>2</th>\n",
       "      <td>C++'s Superpower - Matt Godbolt - CPPP 2</td>\n",
       "      <td></td>\n",
       "      <td>programming</td>\n",
       "    </tr>\n",
       "    <tr>\n",
       "      <th>3</th>\n",
       "      <td>Introducing FFSM2 and HFSM2 state machin</td>\n",
       "      <td>I'm the author and maintainer of:\\n\\n* [Flat F...</td>\n",
       "      <td>programming</td>\n",
       "    </tr>\n",
       "    <tr>\n",
       "      <th>4</th>\n",
       "      <td>Simple Blocking/Nonblocking Concurrent (</td>\n",
       "      <td>I needed a concurrent queue that would block w...</td>\n",
       "      <td>programming</td>\n",
       "    </tr>\n",
       "  </tbody>\n",
       "</table>\n",
       "</div>"
      ],
      "text/plain": [
       "                                      title  \\\n",
       "0                        C++ Jobs - Q1 2022   \n",
       "1            C++ Show and Tell - Experiment   \n",
       "2  C++'s Superpower - Matt Godbolt - CPPP 2   \n",
       "3  Introducing FFSM2 and HFSM2 state machin   \n",
       "4  Simple Blocking/Nonblocking Concurrent (   \n",
       "\n",
       "                                                text        class  \n",
       "0  Rules For Individuals\\n---------------------\\n...  programming  \n",
       "1  Recently, we've been getting an uptick of \"loo...  programming  \n",
       "2                                                     programming  \n",
       "3  I'm the author and maintainer of:\\n\\n* [Flat F...  programming  \n",
       "4  I needed a concurrent queue that would block w...  programming  "
      ]
     },
     "execution_count": 7,
     "metadata": {},
     "output_type": "execute_result"
    }
   ],
   "source": [
    "df2.head()"
   ]
  },
  {
   "cell_type": "markdown",
   "id": "bc579f70",
   "metadata": {},
   "source": [
    "Prendiamo adesso dei post da un subreddit che parla di sushi:"
   ]
  },
  {
   "cell_type": "code",
   "execution_count": 8,
   "id": "e7b12540",
   "metadata": {},
   "outputs": [],
   "source": [
    "subred = reddit.subreddit(\"sushi\")  \n",
    "\n",
    "df3 = []\n",
    "for post in subred.hot( limit=5000):\n",
    "    df3.append([post.title[:40], post.selftext, \"non programming\"]\n",
    "             )\n",
    "df3 = pd.DataFrame(df3, columns=[\"title\",\"text\",\"class\"])"
   ]
  },
  {
   "cell_type": "code",
   "execution_count": 9,
   "id": "1b7fa311",
   "metadata": {},
   "outputs": [
    {
     "data": {
      "text/html": [
       "<div>\n",
       "<style scoped>\n",
       "    .dataframe tbody tr th:only-of-type {\n",
       "        vertical-align: middle;\n",
       "    }\n",
       "\n",
       "    .dataframe tbody tr th {\n",
       "        vertical-align: top;\n",
       "    }\n",
       "\n",
       "    .dataframe thead th {\n",
       "        text-align: right;\n",
       "    }\n",
       "</style>\n",
       "<table border=\"1\" class=\"dataframe\">\n",
       "  <thead>\n",
       "    <tr style=\"text-align: right;\">\n",
       "      <th></th>\n",
       "      <th>title</th>\n",
       "      <th>text</th>\n",
       "      <th>class</th>\n",
       "    </tr>\n",
       "  </thead>\n",
       "  <tbody>\n",
       "    <tr>\n",
       "      <th>0</th>\n",
       "      <td>Made some sushi for dinner.</td>\n",
       "      <td></td>\n",
       "      <td>non programming</td>\n",
       "    </tr>\n",
       "    <tr>\n",
       "      <th>1</th>\n",
       "      <td>Epic sushi night!</td>\n",
       "      <td></td>\n",
       "      <td>non programming</td>\n",
       "    </tr>\n",
       "    <tr>\n",
       "      <th>2</th>\n",
       "      <td>Takeout sushi! As you can guess I really</td>\n",
       "      <td></td>\n",
       "      <td>non programming</td>\n",
       "    </tr>\n",
       "    <tr>\n",
       "      <th>3</th>\n",
       "      <td>Takeout got me</td>\n",
       "      <td></td>\n",
       "      <td>non programming</td>\n",
       "    </tr>\n",
       "    <tr>\n",
       "      <th>4</th>\n",
       "      <td>Hamachi</td>\n",
       "      <td></td>\n",
       "      <td>non programming</td>\n",
       "    </tr>\n",
       "  </tbody>\n",
       "</table>\n",
       "</div>"
      ],
      "text/plain": [
       "                                      title text            class\n",
       "0               Made some sushi for dinner.       non programming\n",
       "1                         Epic sushi night!       non programming\n",
       "2  Takeout sushi! As you can guess I really       non programming\n",
       "3                            Takeout got me       non programming\n",
       "4                                   Hamachi       non programming"
      ]
     },
     "execution_count": 9,
     "metadata": {},
     "output_type": "execute_result"
    }
   ],
   "source": [
    "df3.head()"
   ]
  },
  {
   "cell_type": "markdown",
   "id": "bf3246cf",
   "metadata": {},
   "source": [
    "E dei post da un subreddit che parla di chitarre:"
   ]
  },
  {
   "cell_type": "code",
   "execution_count": 10,
   "id": "7b0d8d93",
   "metadata": {},
   "outputs": [],
   "source": [
    "subred = reddit.subreddit(\"Guitar\")  \n",
    "\n",
    "df4 = []\n",
    "for post in subred.hot( limit=5000):\n",
    "    df4.append([post.title[:40], post.selftext, \"non programming\"]\n",
    "             )\n",
    "df4 = pd.DataFrame(df4, columns=[\"title\",\"text\",\"class\"])"
   ]
  },
  {
   "cell_type": "code",
   "execution_count": 11,
   "id": "78c417a9",
   "metadata": {},
   "outputs": [
    {
     "data": {
      "text/html": [
       "<div>\n",
       "<style scoped>\n",
       "    .dataframe tbody tr th:only-of-type {\n",
       "        vertical-align: middle;\n",
       "    }\n",
       "\n",
       "    .dataframe tbody tr th {\n",
       "        vertical-align: top;\n",
       "    }\n",
       "\n",
       "    .dataframe thead th {\n",
       "        text-align: right;\n",
       "    }\n",
       "</style>\n",
       "<table border=\"1\" class=\"dataframe\">\n",
       "  <thead>\n",
       "    <tr style=\"text-align: right;\">\n",
       "      <th></th>\n",
       "      <th>title</th>\n",
       "      <th>text</th>\n",
       "      <th>class</th>\n",
       "    </tr>\n",
       "  </thead>\n",
       "  <tbody>\n",
       "    <tr>\n",
       "      <th>0</th>\n",
       "      <td>[DISCUSSION] - February 2022 - NO STUPID</td>\n",
       "      <td>\\n\\nGood Day [r/Guitar](https://www.reddit.co...</td>\n",
       "      <td>non programming</td>\n",
       "    </tr>\n",
       "    <tr>\n",
       "      <th>1</th>\n",
       "      <td>[PLAY] R/GUITAR - Players Spotlight - Fe</td>\n",
       "      <td>Hello [r/Guitar](https://www.reddit.com/r/Guit...</td>\n",
       "      <td>non programming</td>\n",
       "    </tr>\n",
       "    <tr>\n",
       "      <th>2</th>\n",
       "      <td>[DISCUSSION] David Byrne is amazing.</td>\n",
       "      <td>I recently watched Stop Making Sense and was b...</td>\n",
       "      <td>non programming</td>\n",
       "    </tr>\n",
       "    <tr>\n",
       "      <th>3</th>\n",
       "      <td>[NEWBIE] I'm left handed and confused</td>\n",
       "      <td>So I wanna buy a guitar, but I'm not sure if I...</td>\n",
       "      <td>non programming</td>\n",
       "    </tr>\n",
       "    <tr>\n",
       "      <th>4</th>\n",
       "      <td>[QUESTION] Does anyone start getting anx</td>\n",
       "      <td>I notice that sometimes ill be playing, and th...</td>\n",
       "      <td>non programming</td>\n",
       "    </tr>\n",
       "  </tbody>\n",
       "</table>\n",
       "</div>"
      ],
      "text/plain": [
       "                                      title  \\\n",
       "0  [DISCUSSION] - February 2022 - NO STUPID   \n",
       "1  [PLAY] R/GUITAR - Players Spotlight - Fe   \n",
       "2      [DISCUSSION] David Byrne is amazing.   \n",
       "3     [NEWBIE] I'm left handed and confused   \n",
       "4  [QUESTION] Does anyone start getting anx   \n",
       "\n",
       "                                                text            class  \n",
       "0   \\n\\nGood Day [r/Guitar](https://www.reddit.co...  non programming  \n",
       "1  Hello [r/Guitar](https://www.reddit.com/r/Guit...  non programming  \n",
       "2  I recently watched Stop Making Sense and was b...  non programming  \n",
       "3  So I wanna buy a guitar, but I'm not sure if I...  non programming  \n",
       "4  I notice that sometimes ill be playing, and th...  non programming  "
      ]
     },
     "execution_count": 11,
     "metadata": {},
     "output_type": "execute_result"
    }
   ],
   "source": [
    "df4.head()"
   ]
  },
  {
   "cell_type": "code",
   "execution_count": 12,
   "id": "319b9e64",
   "metadata": {},
   "outputs": [],
   "source": [
    "subred = reddit.subreddit(\"Java\")  \n",
    "\n",
    "df5 = []\n",
    "for post in subred.hot( limit=5000):\n",
    "    df5.append([post.title[:40], post.selftext, \"programming\"]\n",
    "             )\n",
    "df5 = pd.DataFrame(df5, columns=[\"title\",\"text\",\"class\"])"
   ]
  },
  {
   "cell_type": "code",
   "execution_count": 13,
   "id": "4658cbb7",
   "metadata": {},
   "outputs": [
    {
     "data": {
      "text/html": [
       "<div>\n",
       "<style scoped>\n",
       "    .dataframe tbody tr th:only-of-type {\n",
       "        vertical-align: middle;\n",
       "    }\n",
       "\n",
       "    .dataframe tbody tr th {\n",
       "        vertical-align: top;\n",
       "    }\n",
       "\n",
       "    .dataframe thead th {\n",
       "        text-align: right;\n",
       "    }\n",
       "</style>\n",
       "<table border=\"1\" class=\"dataframe\">\n",
       "  <thead>\n",
       "    <tr style=\"text-align: right;\">\n",
       "      <th></th>\n",
       "      <th>title</th>\n",
       "      <th>text</th>\n",
       "      <th>class</th>\n",
       "    </tr>\n",
       "  </thead>\n",
       "  <tbody>\n",
       "    <tr>\n",
       "      <th>0</th>\n",
       "      <td>[PSA]/r/java is not for programming help</td>\n",
       "      <td># /r/java is not for programming help or learn...</td>\n",
       "      <td>programming</td>\n",
       "    </tr>\n",
       "    <tr>\n",
       "      <th>1</th>\n",
       "      <td>Log4j MEGATHREAD</td>\n",
       "      <td>Upon special request of /u/bluegoliath, we are...</td>\n",
       "      <td>programming</td>\n",
       "    </tr>\n",
       "    <tr>\n",
       "      <th>2</th>\n",
       "      <td>Microhttp is an event-driven, single-thr</td>\n",
       "      <td></td>\n",
       "      <td>programming</td>\n",
       "    </tr>\n",
       "    <tr>\n",
       "      <th>3</th>\n",
       "      <td>I've implemented a C# nameof() equivalen</td>\n",
       "      <td></td>\n",
       "      <td>programming</td>\n",
       "    </tr>\n",
       "    <tr>\n",
       "      <th>4</th>\n",
       "      <td>What is SRV?</td>\n",
       "      <td>This could be a dumb question.\\n\\nI need to im...</td>\n",
       "      <td>programming</td>\n",
       "    </tr>\n",
       "  </tbody>\n",
       "</table>\n",
       "</div>"
      ],
      "text/plain": [
       "                                      title  \\\n",
       "0  [PSA]/r/java is not for programming help   \n",
       "1                          Log4j MEGATHREAD   \n",
       "2  Microhttp is an event-driven, single-thr   \n",
       "3  I've implemented a C# nameof() equivalen   \n",
       "4                              What is SRV?   \n",
       "\n",
       "                                                text        class  \n",
       "0  # /r/java is not for programming help or learn...  programming  \n",
       "1  Upon special request of /u/bluegoliath, we are...  programming  \n",
       "2                                                     programming  \n",
       "3                                                     programming  \n",
       "4  This could be a dumb question.\\n\\nI need to im...  programming  "
      ]
     },
     "execution_count": 13,
     "metadata": {},
     "output_type": "execute_result"
    }
   ],
   "source": [
    "df5.head()"
   ]
  },
  {
   "cell_type": "code",
   "execution_count": 14,
   "id": "8fe71fb3",
   "metadata": {},
   "outputs": [],
   "source": [
    "subred = reddit.subreddit(\"nba\")  \n",
    "\n",
    "df6 = []\n",
    "for post in subred.hot( limit=5000):\n",
    "    df6.append([post.title[:40], post.selftext, \"non programming\"]\n",
    "             )\n",
    "df6 = pd.DataFrame(df6, columns=[\"title\",\"text\",\"class\"])"
   ]
  },
  {
   "cell_type": "code",
   "execution_count": 15,
   "id": "3ffe16c9",
   "metadata": {},
   "outputs": [
    {
     "data": {
      "text/html": [
       "<div>\n",
       "<style scoped>\n",
       "    .dataframe tbody tr th:only-of-type {\n",
       "        vertical-align: middle;\n",
       "    }\n",
       "\n",
       "    .dataframe tbody tr th {\n",
       "        vertical-align: top;\n",
       "    }\n",
       "\n",
       "    .dataframe thead th {\n",
       "        text-align: right;\n",
       "    }\n",
       "</style>\n",
       "<table border=\"1\" class=\"dataframe\">\n",
       "  <thead>\n",
       "    <tr style=\"text-align: right;\">\n",
       "      <th></th>\n",
       "      <th>title</th>\n",
       "      <th>text</th>\n",
       "      <th>class</th>\n",
       "    </tr>\n",
       "  </thead>\n",
       "  <tbody>\n",
       "    <tr>\n",
       "      <th>0</th>\n",
       "      <td>Daily Discussion Thread + Game Thread In</td>\n",
       "      <td># Game Threads Index (February 15, 2022):\\n\\n|...</td>\n",
       "      <td>non programming</td>\n",
       "    </tr>\n",
       "    <tr>\n",
       "      <th>1</th>\n",
       "      <td>[SERIOUS NEXT DAY THREAD] Post-Game Disc</td>\n",
       "      <td>Here is a place to have in depth, x's and o's,...</td>\n",
       "      <td>non programming</td>\n",
       "    </tr>\n",
       "    <tr>\n",
       "      <th>2</th>\n",
       "      <td>Seth Curry in his Nets debut vs the King</td>\n",
       "      <td>In a blowout win against the Sacramento Kings,...</td>\n",
       "      <td>non programming</td>\n",
       "    </tr>\n",
       "    <tr>\n",
       "      <th>3</th>\n",
       "      <td>DeMar DeRozan with an amazing game in th</td>\n",
       "      <td>DeMar paves the way for the Bulls to a great w...</td>\n",
       "      <td>non programming</td>\n",
       "    </tr>\n",
       "    <tr>\n",
       "      <th>4</th>\n",
       "      <td>[Charania] Cleveland’s Jarrett Allen has</td>\n",
       "      <td></td>\n",
       "      <td>non programming</td>\n",
       "    </tr>\n",
       "  </tbody>\n",
       "</table>\n",
       "</div>"
      ],
      "text/plain": [
       "                                      title  \\\n",
       "0  Daily Discussion Thread + Game Thread In   \n",
       "1  [SERIOUS NEXT DAY THREAD] Post-Game Disc   \n",
       "2  Seth Curry in his Nets debut vs the King   \n",
       "3  DeMar DeRozan with an amazing game in th   \n",
       "4  [Charania] Cleveland’s Jarrett Allen has   \n",
       "\n",
       "                                                text            class  \n",
       "0  # Game Threads Index (February 15, 2022):\\n\\n|...  non programming  \n",
       "1  Here is a place to have in depth, x's and o's,...  non programming  \n",
       "2  In a blowout win against the Sacramento Kings,...  non programming  \n",
       "3  DeMar paves the way for the Bulls to a great w...  non programming  \n",
       "4                                                     non programming  "
      ]
     },
     "execution_count": 15,
     "metadata": {},
     "output_type": "execute_result"
    }
   ],
   "source": [
    "df6.head()"
   ]
  },
  {
   "cell_type": "code",
   "execution_count": 16,
   "id": "09e62035",
   "metadata": {},
   "outputs": [],
   "source": [
    "subred = reddit.subreddit(\"news\")  \n",
    "\n",
    "df7 = []\n",
    "for post in subred.hot( limit=5000):\n",
    "    df7.append([post.title[:40], post.selftext, \"non programming\"]\n",
    "             )\n",
    "df7 = pd.DataFrame(df7, columns=[\"title\",\"text\",\"class\"])"
   ]
  },
  {
   "cell_type": "code",
   "execution_count": 17,
   "id": "7c9873ee",
   "metadata": {},
   "outputs": [
    {
     "data": {
      "text/html": [
       "<div>\n",
       "<style scoped>\n",
       "    .dataframe tbody tr th:only-of-type {\n",
       "        vertical-align: middle;\n",
       "    }\n",
       "\n",
       "    .dataframe tbody tr th {\n",
       "        vertical-align: top;\n",
       "    }\n",
       "\n",
       "    .dataframe thead th {\n",
       "        text-align: right;\n",
       "    }\n",
       "</style>\n",
       "<table border=\"1\" class=\"dataframe\">\n",
       "  <thead>\n",
       "    <tr style=\"text-align: right;\">\n",
       "      <th></th>\n",
       "      <th>title</th>\n",
       "      <th>text</th>\n",
       "      <th>class</th>\n",
       "    </tr>\n",
       "  </thead>\n",
       "  <tbody>\n",
       "    <tr>\n",
       "      <th>0</th>\n",
       "      <td>US Catholic priest resigns after perform</td>\n",
       "      <td></td>\n",
       "      <td>non programming</td>\n",
       "    </tr>\n",
       "    <tr>\n",
       "      <th>1</th>\n",
       "      <td>Tax firm Mazars fires Trump Organization</td>\n",
       "      <td></td>\n",
       "      <td>non programming</td>\n",
       "    </tr>\n",
       "    <tr>\n",
       "      <th>2</th>\n",
       "      <td>Sarah Palin loses defamation case agains</td>\n",
       "      <td></td>\n",
       "      <td>non programming</td>\n",
       "    </tr>\n",
       "    <tr>\n",
       "      <th>3</th>\n",
       "      <td>Las Vegas bartender robbed at gunpoint w</td>\n",
       "      <td></td>\n",
       "      <td>non programming</td>\n",
       "    </tr>\n",
       "    <tr>\n",
       "      <th>4</th>\n",
       "      <td>Justin Trudeau invokes Emergencies Act f</td>\n",
       "      <td></td>\n",
       "      <td>non programming</td>\n",
       "    </tr>\n",
       "  </tbody>\n",
       "</table>\n",
       "</div>"
      ],
      "text/plain": [
       "                                      title text            class\n",
       "0  US Catholic priest resigns after perform       non programming\n",
       "1  Tax firm Mazars fires Trump Organization       non programming\n",
       "2  Sarah Palin loses defamation case agains       non programming\n",
       "3  Las Vegas bartender robbed at gunpoint w       non programming\n",
       "4  Justin Trudeau invokes Emergencies Act f       non programming"
      ]
     },
     "execution_count": 17,
     "metadata": {},
     "output_type": "execute_result"
    }
   ],
   "source": [
    "df7.head()"
   ]
  },
  {
   "cell_type": "code",
   "execution_count": 18,
   "id": "d838a9af",
   "metadata": {},
   "outputs": [],
   "source": [
    "subred = reddit.subreddit(\"Ada\")  \n",
    "\n",
    "df8 = []\n",
    "for post in subred.hot( limit=5000):\n",
    "    df8.append([post.title[:40], post.selftext, \"programming\"]\n",
    "             )\n",
    "df8 = pd.DataFrame(df8, columns=[\"title\",\"text\",\"class\"])"
   ]
  },
  {
   "cell_type": "code",
   "execution_count": 19,
   "id": "474d1e1c",
   "metadata": {},
   "outputs": [
    {
     "data": {
      "text/html": [
       "<div>\n",
       "<style scoped>\n",
       "    .dataframe tbody tr th:only-of-type {\n",
       "        vertical-align: middle;\n",
       "    }\n",
       "\n",
       "    .dataframe tbody tr th {\n",
       "        vertical-align: top;\n",
       "    }\n",
       "\n",
       "    .dataframe thead th {\n",
       "        text-align: right;\n",
       "    }\n",
       "</style>\n",
       "<table border=\"1\" class=\"dataframe\">\n",
       "  <thead>\n",
       "    <tr style=\"text-align: right;\">\n",
       "      <th></th>\n",
       "      <th>title</th>\n",
       "      <th>text</th>\n",
       "      <th>class</th>\n",
       "    </tr>\n",
       "  </thead>\n",
       "  <tbody>\n",
       "    <tr>\n",
       "      <th>0</th>\n",
       "      <td>Confused about how controlled types work</td>\n",
       "      <td>I'm considering making parts of my C bindings ...</td>\n",
       "      <td>programming</td>\n",
       "    </tr>\n",
       "    <tr>\n",
       "      <th>1</th>\n",
       "      <td>Converting `Ada.Containors.Vectors.Vecto</td>\n",
       "      <td>The C bindings I'm making have some declaratio...</td>\n",
       "      <td>programming</td>\n",
       "    </tr>\n",
       "    <tr>\n",
       "      <th>2</th>\n",
       "      <td>Need help/looking for a tutor</td>\n",
       "      <td>Hello, I’m trying to learn Ada, and while some...</td>\n",
       "      <td>programming</td>\n",
       "    </tr>\n",
       "    <tr>\n",
       "      <th>3</th>\n",
       "      <td>Proving the Correctness of the GNAT Ligh</td>\n",
       "      <td></td>\n",
       "      <td>programming</td>\n",
       "    </tr>\n",
       "    <tr>\n",
       "      <th>4</th>\n",
       "      <td>Have you successfully built the Gnat Doc</td>\n",
       "      <td>Has anyone successfully built AdaCore's  gnat-...</td>\n",
       "      <td>programming</td>\n",
       "    </tr>\n",
       "  </tbody>\n",
       "</table>\n",
       "</div>"
      ],
      "text/plain": [
       "                                      title  \\\n",
       "0  Confused about how controlled types work   \n",
       "1  Converting `Ada.Containors.Vectors.Vecto   \n",
       "2             Need help/looking for a tutor   \n",
       "3  Proving the Correctness of the GNAT Ligh   \n",
       "4  Have you successfully built the Gnat Doc   \n",
       "\n",
       "                                                text        class  \n",
       "0  I'm considering making parts of my C bindings ...  programming  \n",
       "1  The C bindings I'm making have some declaratio...  programming  \n",
       "2  Hello, I’m trying to learn Ada, and while some...  programming  \n",
       "3                                                     programming  \n",
       "4  Has anyone successfully built AdaCore's  gnat-...  programming  "
      ]
     },
     "execution_count": 19,
     "metadata": {},
     "output_type": "execute_result"
    }
   ],
   "source": [
    "df8.head()"
   ]
  },
  {
   "cell_type": "markdown",
   "id": "17eb921f",
   "metadata": {},
   "source": [
    "Dopo aver ottenuto i vari post provenienti dai subreddit presi in analisi ed averli memorizzati opportunamente in dei **Pandas dataframe**, costruiamo un unico dataset in grado di contenerli tutti in modo da lavorare più agilmente sui dati raccolti. Durante questa fase inoltre, saranno rimossi dal dataset tutti i record in cui non è presente del testo, infatti, in questi ultimi sono presenti immagini o link non utili ai fini dell'addestamento dell'algoritmo."
   ]
  },
  {
   "cell_type": "code",
   "execution_count": 20,
   "id": "814d9d25",
   "metadata": {},
   "outputs": [
    {
     "name": "stdout",
     "output_type": "stream",
     "text": [
      "<class 'pandas.core.frame.DataFrame'>\n",
      "Int64Index: 2678 entries, 0 to 5352\n",
      "Data columns (total 3 columns):\n",
      " #   Column  Non-Null Count  Dtype \n",
      "---  ------  --------------  ----- \n",
      " 0   title   2678 non-null   object\n",
      " 1   text    2678 non-null   object\n",
      " 2   class   2678 non-null   object\n",
      "dtypes: object(3)\n",
      "memory usage: 83.7+ KB\n"
     ]
    }
   ],
   "source": [
    "frames = [df1, df2, df3, df4, df5, df6, df7, df8]\n",
    "dataset = pd.concat(frames, ignore_index=True)\n",
    "dataset = dataset.drop(dataset[dataset.text == \"\"].index)\n",
    "dataset.info()"
   ]
  },
  {
   "cell_type": "markdown",
   "id": "f12f7af2",
   "metadata": {},
   "source": [
    "Una volta ottenuto il dataframe che rappresenta i dati raccolti, utilizziamo la libreria **sklearn**  che ci fornirà tutti gli strumenti per portare a termine il task di classificazione, dalla creazione dei set su cui lavorare, l'algoritmo vero e proprio e al calcolo delle misure di valutazione.\n",
    "\n",
    "Come appena citato il primo passo da effettuare è quello di dividere il dataset in due parti, per fare ciò utilizziamo il **metodo holdout**, ovvero assegneremo al training set l'**X%** delle osservazioni e al test set il restante **100-X%** delle osservazioni. Nel nostro caso avremo che **X = 25%**."
   ]
  },
  {
   "cell_type": "code",
   "execution_count": 21,
   "id": "a41b9fac",
   "metadata": {},
   "outputs": [
    {
     "name": "stdout",
     "output_type": "stream",
     "text": [
      "<class 'pandas.core.frame.DataFrame'>\n",
      "Int64Index: 2008 entries, 596 to 1403\n",
      "Data columns (total 3 columns):\n",
      " #   Column  Non-Null Count  Dtype \n",
      "---  ------  --------------  ----- \n",
      " 0   title   2008 non-null   object\n",
      " 1   text    2008 non-null   object\n",
      " 2   class   2008 non-null   object\n",
      "dtypes: object(3)\n",
      "memory usage: 62.8+ KB\n",
      "\n",
      "\n",
      "<class 'pandas.core.frame.DataFrame'>\n",
      "Int64Index: 670 entries, 4990 to 4847\n",
      "Data columns (total 3 columns):\n",
      " #   Column  Non-Null Count  Dtype \n",
      "---  ------  --------------  ----- \n",
      " 0   title   670 non-null    object\n",
      " 1   text    670 non-null    object\n",
      " 2   class   670 non-null    object\n",
      "dtypes: object(3)\n",
      "memory usage: 20.9+ KB\n"
     ]
    }
   ],
   "source": [
    "from sklearn.model_selection import train_test_split\n",
    "import numpy as np\n",
    "\n",
    "np.random.seed(1234)\n",
    "\n",
    "train_set, test_set = train_test_split(dataset, test_size=0.25)\n",
    "train_set.info(); print('\\n'); test_set.info()"
   ]
  },
  {
   "cell_type": "markdown",
   "id": "01afe3ff",
   "metadata": {},
   "source": [
    "Osserviamo graficamente come sono disposte le osservazioni all'interno del training set, in genere è buona norma che il training set sia **bilanciato** ovvero che le osservazioni appartenenti all'insieme siano ripartite in egual misura in base alla loro classe. "
   ]
  },
  {
   "cell_type": "code",
   "execution_count": 22,
   "id": "0a1f65d5",
   "metadata": {},
   "outputs": [
    {
     "data": {
      "image/png": "[encoded data removed]",
      "text/plain": [
       "<Figure size 432x288 with 1 Axes>"
      ]
     },
     "metadata": {
      "needs_background": "light"
     },
     "output_type": "display_data"
    }
   ],
   "source": [
    "from matplotlib import pyplot as plt\n",
    "train_set.groupby('class').count().plot.bar()\n",
    "plt.show()"
   ]
  },
  {
   "cell_type": "markdown",
   "id": "2ded37a2",
   "metadata": {},
   "source": [
    "Possiamo adesso osservare parte dei due set per verificare che essi siano stati creati correttamente."
   ]
  },
  {
   "cell_type": "code",
   "execution_count": 23,
   "id": "f9c41215",
   "metadata": {},
   "outputs": [
    {
     "data": {
      "text/html": [
       "<div>\n",
       "<style scoped>\n",
       "    .dataframe tbody tr th:only-of-type {\n",
       "        vertical-align: middle;\n",
       "    }\n",
       "\n",
       "    .dataframe tbody tr th {\n",
       "        vertical-align: top;\n",
       "    }\n",
       "\n",
       "    .dataframe thead th {\n",
       "        text-align: right;\n",
       "    }\n",
       "</style>\n",
       "<table border=\"1\" class=\"dataframe\">\n",
       "  <thead>\n",
       "    <tr style=\"text-align: right;\">\n",
       "      <th></th>\n",
       "      <th>title</th>\n",
       "      <th>text</th>\n",
       "      <th>class</th>\n",
       "    </tr>\n",
       "  </thead>\n",
       "  <tbody>\n",
       "    <tr>\n",
       "      <th>596</th>\n",
       "      <td>Recommendations for modern C++ project s</td>\n",
       "      <td>Hey everyone!\\n\\nNowadays there are a lot of a...</td>\n",
       "      <td>programming</td>\n",
       "    </tr>\n",
       "    <tr>\n",
       "      <th>2667</th>\n",
       "      <td>[QUESTION] tab transcription</td>\n",
       "      <td>Hey everyone, longtime lurker here. Anyone wil...</td>\n",
       "      <td>non programming</td>\n",
       "    </tr>\n",
       "    <tr>\n",
       "      <th>5074</th>\n",
       "      <td>GNAT fails to build from GCC trunk</td>\n",
       "      <td>Back in November I added support for Ada using...</td>\n",
       "      <td>programming</td>\n",
       "    </tr>\n",
       "    <tr>\n",
       "      <th>1853</th>\n",
       "      <td>Looking for a copy of “Edomae Sushi” by</td>\n",
       "      <td>Hi all,\\n\\nI'm looking for a copy of this book...</td>\n",
       "      <td>non programming</td>\n",
       "    </tr>\n",
       "    <tr>\n",
       "      <th>821</th>\n",
       "      <td>Desktop GUI application in C++</td>\n",
       "      <td>Is there a drag and drop Desktop GUI applicati...</td>\n",
       "      <td>programming</td>\n",
       "    </tr>\n",
       "  </tbody>\n",
       "</table>\n",
       "</div>"
      ],
      "text/plain": [
       "                                         title  \\\n",
       "596   Recommendations for modern C++ project s   \n",
       "2667              [QUESTION] tab transcription   \n",
       "5074        GNAT fails to build from GCC trunk   \n",
       "1853  Looking for a copy of “Edomae Sushi” by    \n",
       "821             Desktop GUI application in C++   \n",
       "\n",
       "                                                   text            class  \n",
       "596   Hey everyone!\\n\\nNowadays there are a lot of a...      programming  \n",
       "2667  Hey everyone, longtime lurker here. Anyone wil...  non programming  \n",
       "5074  Back in November I added support for Ada using...      programming  \n",
       "1853  Hi all,\\n\\nI'm looking for a copy of this book...  non programming  \n",
       "821   Is there a drag and drop Desktop GUI applicati...      programming  "
      ]
     },
     "execution_count": 23,
     "metadata": {},
     "output_type": "execute_result"
    }
   ],
   "source": [
    "train_set.head()"
   ]
  },
  {
   "cell_type": "code",
   "execution_count": 24,
   "id": "f2f2802a",
   "metadata": {},
   "outputs": [
    {
     "data": {
      "text/html": [
       "<div>\n",
       "<style scoped>\n",
       "    .dataframe tbody tr th:only-of-type {\n",
       "        vertical-align: middle;\n",
       "    }\n",
       "\n",
       "    .dataframe tbody tr th {\n",
       "        vertical-align: top;\n",
       "    }\n",
       "\n",
       "    .dataframe thead th {\n",
       "        text-align: right;\n",
       "    }\n",
       "</style>\n",
       "<table border=\"1\" class=\"dataframe\">\n",
       "  <thead>\n",
       "    <tr style=\"text-align: right;\">\n",
       "      <th></th>\n",
       "      <th>title</th>\n",
       "      <th>text</th>\n",
       "      <th>class</th>\n",
       "    </tr>\n",
       "  </thead>\n",
       "  <tbody>\n",
       "    <tr>\n",
       "      <th>4990</th>\n",
       "      <td>What is an Annex?</td>\n",
       "      <td>What is an Annex In Ada's context? I can't fin...</td>\n",
       "      <td>programming</td>\n",
       "    </tr>\n",
       "    <tr>\n",
       "      <th>382</th>\n",
       "      <td>The Surprising Case Of Mutable Default A</td>\n",
       "      <td>I Wrote an article on The amazing behaviour of...</td>\n",
       "      <td>programming</td>\n",
       "    </tr>\n",
       "    <tr>\n",
       "      <th>512</th>\n",
       "      <td>Making my smart memory pool much smarter</td>\n",
       "      <td>Hi guys,\\n\\nNearly a year ago I posted here on...</td>\n",
       "      <td>programming</td>\n",
       "    </tr>\n",
       "    <tr>\n",
       "      <th>268</th>\n",
       "      <td>I made this CLI tool to automate my dail</td>\n",
       "      <td>Hey r/Python, I been developing this project f...</td>\n",
       "      <td>programming</td>\n",
       "    </tr>\n",
       "    <tr>\n",
       "      <th>2272</th>\n",
       "      <td>[Discussion] I feel like I just need to</td>\n",
       "      <td>Then maybe to C modes.  Then move to the scale...</td>\n",
       "      <td>non programming</td>\n",
       "    </tr>\n",
       "  </tbody>\n",
       "</table>\n",
       "</div>"
      ],
      "text/plain": [
       "                                         title  \\\n",
       "4990                         What is an Annex?   \n",
       "382   The Surprising Case Of Mutable Default A   \n",
       "512   Making my smart memory pool much smarter   \n",
       "268   I made this CLI tool to automate my dail   \n",
       "2272  [Discussion] I feel like I just need to    \n",
       "\n",
       "                                                   text            class  \n",
       "4990  What is an Annex In Ada's context? I can't fin...      programming  \n",
       "382   I Wrote an article on The amazing behaviour of...      programming  \n",
       "512   Hi guys,\\n\\nNearly a year ago I posted here on...      programming  \n",
       "268   Hey r/Python, I been developing this project f...      programming  \n",
       "2272  Then maybe to C modes.  Then move to the scale...  non programming  "
      ]
     },
     "execution_count": 24,
     "metadata": {},
     "output_type": "execute_result"
    }
   ],
   "source": [
    "test_set.head()"
   ]
  },
  {
   "cell_type": "markdown",
   "id": "37e8a7d3",
   "metadata": {},
   "source": [
    "## 3. Rappresentazione Bag of Word e creazione del vettore BOW"
   ]
  },
  {
   "cell_type": "markdown",
   "id": "6a79a317",
   "metadata": {},
   "source": [
    "Dopo aver ottenuto i set su cui lavorare è necessario applicare ad essi una **funzione di trasformazione** che permetta di rappresentare in una forma comprensibile all'algoritmo.\n",
    "A tal proposito utilizziamo la rappresentazione **Bag of Words** che dato un corpus di documenti (i nostri post) ritorna una rappresentazione che non considera l'ordine o il significato delle parole: dopo una fase di pre-processing in cui vengono applicati alcuni step della **NLP pipeline** ad ogni post verrà associato un ***vettore di lunghezza fissa*** che lo rappresenta in cui saranno evidenziati soltanto i termini appartenenti a quello specifico documento.\n",
    "Per effettuare quest'operazione utilizzeremo ancora **sklearn** e in particolare l'oggetto **CountVectorizer**."
   ]
  },
  {
   "cell_type": "code",
   "execution_count": 25,
   "id": "0c74722c",
   "metadata": {},
   "outputs": [],
   "source": [
    "from sklearn.feature_extraction.text import CountVectorizer\n",
    "count_vect = CountVectorizer()"
   ]
  },
  {
   "cell_type": "code",
   "execution_count": 26,
   "id": "7522c9f0",
   "metadata": {},
   "outputs": [
    {
     "data": {
      "text/plain": [
       "<2008x17428 sparse matrix of type '<class 'numpy.int64'>'\n",
       "\twith 144564 stored elements in Compressed Sparse Row format>"
      ]
     },
     "execution_count": 26,
     "metadata": {},
     "output_type": "execute_result"
    }
   ],
   "source": [
    "x_train = count_vect.fit_transform(train_set['text'])\n",
    "x_train"
   ]
  },
  {
   "cell_type": "markdown",
   "id": "50030a4f",
   "metadata": {},
   "source": [
    "Come possiamo notare, dopo l'applicazione della funzione, il training set verrà rappresentato attraverso una **sparse matrix** e non più come un **dataframe**, questo per ottimizzare lo spazio occupato."
   ]
  },
  {
   "cell_type": "code",
   "execution_count": 27,
   "id": "7b09fbc6",
   "metadata": {},
   "outputs": [
    {
     "name": "stdout",
     "output_type": "stream",
     "text": [
      "17428\n"
     ]
    }
   ],
   "source": [
    "print(len(count_vect.vocabulary_))"
   ]
  },
  {
   "cell_type": "markdown",
   "id": "c6096802",
   "metadata": {},
   "source": [
    "Un'altra importante informazione da visualizzare è la lunghezza del **vocabolario**, essa infatti rappresenta il numero di token estratti dal corpus. A partire da questa grandezza, ogni post verrà rappresentato tramite un vettore di lunghezza pari alla grandezza del vocabolario."
   ]
  },
  {
   "cell_type": "markdown",
   "id": "f51155ba",
   "metadata": {},
   "source": [
    "## 4. Classificazione kNN con k pari 1"
   ]
  },
  {
   "cell_type": "markdown",
   "id": "c050ab19",
   "metadata": {},
   "source": [
    "L'algoritmo **kNN** nasce come ottimizzazione dell'algoritmo **Neirest Neighbour**, infatti **k** è un **iperparametro** che rappresenta il numero di vicini nell'intorno dell'osservazione da classificare che verranno considerati per stimare la classe del dato in input.\n",
    "\n",
    "Come prima cosa applichiamo il kNN nella sua versione **Naive** (k=1) per osservarne i risultati."
   ]
  },
  {
   "cell_type": "code",
   "execution_count": 28,
   "id": "0c772d2d",
   "metadata": {},
   "outputs": [],
   "source": [
    "from sklearn.neighbors import KNeighborsClassifier\n",
    "knn = KNeighborsClassifier(n_neighbors=1)  #impostiamo il numero di vicini pari a uno"
   ]
  },
  {
   "cell_type": "markdown",
   "id": "51d438a0",
   "metadata": {},
   "source": [
    "Effettuiamo il training tramite la funzione **fit** fornita da sklearn:"
   ]
  },
  {
   "cell_type": "code",
   "execution_count": 29,
   "id": "48cbdb47",
   "metadata": {},
   "outputs": [
    {
     "data": {
      "text/plain": [
       "KNeighborsClassifier(n_neighbors=1)"
      ]
     },
     "execution_count": 29,
     "metadata": {},
     "output_type": "execute_result"
    }
   ],
   "source": [
    "knn.fit(x_train, train_set['class'])"
   ]
  },
  {
   "cell_type": "markdown",
   "id": "58e9e93f",
   "metadata": {},
   "source": [
    "Dopo aver addestrato il classificatore è possibile effettuare una prova applicandolo su un'osservazione del test set che non ha mai visto e confrontandola con la classe di appartenenza reale. L'algoritmo è addestrato sulla rappresentazione bow dei post, sarà dunque prima necessario trasformare anche l'osservazione in input opportunamente:"
   ]
  },
  {
   "cell_type": "code",
   "execution_count": 30,
   "id": "f32ffb8c",
   "metadata": {},
   "outputs": [
    {
     "data": {
      "text/plain": [
       "'I Wrote an article on The amazing behaviour of functions when passed with default Mutable arguments give it a read [here](https://hackernoon.com/the-surprising-case-of-mutable-default-arguments)'"
      ]
     },
     "execution_count": 30,
     "metadata": {},
     "output_type": "execute_result"
    }
   ],
   "source": [
    "test = test_set.iloc[1]['text']\n",
    "trueclass = test_set.iloc[1]['class']\n",
    "test"
   ]
  },
  {
   "cell_type": "code",
   "execution_count": 31,
   "id": "22e21be5",
   "metadata": {},
   "outputs": [
    {
     "data": {
      "text/plain": [
       "<1x17428 sparse matrix of type '<class 'numpy.int64'>'\n",
       "\twith 23 stored elements in Compressed Sparse Row format>"
      ]
     },
     "execution_count": 31,
     "metadata": {},
     "output_type": "execute_result"
    }
   ],
   "source": [
    "feats=count_vect.transform([test])\n",
    "feats"
   ]
  },
  {
   "cell_type": "code",
   "execution_count": 32,
   "id": "59424e88",
   "metadata": {},
   "outputs": [
    {
     "name": "stdout",
     "output_type": "stream",
     "text": [
      "classe predetta: non programming\n",
      "classe reale: programming\n"
     ]
    }
   ],
   "source": [
    "print(\"classe predetta:\", knn.predict(feats)[0])\n",
    "print(\"classe reale:\", trueclass)"
   ]
  },
  {
   "cell_type": "markdown",
   "id": "2998b636",
   "metadata": {},
   "source": [
    "Calcoliamo adesso la predizione su tutti gli elementi del test set per poi poter ricavare delle **misure di performance** del classificatore:"
   ]
  },
  {
   "cell_type": "code",
   "execution_count": 33,
   "id": "2fab3796",
   "metadata": {},
   "outputs": [],
   "source": [
    "x_test = count_vect.transform(test_set['text'])\n",
    "y_test_pred = knn.predict(x_test)"
   ]
  },
  {
   "cell_type": "markdown",
   "id": "b104f5bd",
   "metadata": {},
   "source": [
    "Come misura utilizzeremo l'**f1-score**, una misura ottenuta come **la media armonica di precision e recall** che fornisce una **visuale completa** della bontà del classificatore."
   ]
  },
  {
   "cell_type": "code",
   "execution_count": 34,
   "id": "3c7c8d11",
   "metadata": {},
   "outputs": [
    {
     "name": "stdout",
     "output_type": "stream",
     "text": [
      "F1-score K = 1: 0.730593607305936\n"
     ]
    }
   ],
   "source": [
    "from sklearn.metrics import f1_score\n",
    "#average=None is needed to obtain per-class scores. This will be just one class in our case.\n",
    "#labels=['spam'] is needed to indicate that we are considering \"spam\" as the positive class\n",
    "f1_scores = f1_score(test_set['class'], y_test_pred, average=None, labels=['programming'])[0]\n",
    "print(\"F1-score K = 1:\", f1_scores)"
   ]
  },
  {
   "cell_type": "markdown",
   "id": "cbd164ed",
   "metadata": {},
   "source": [
    "Per avere contezza degli errori del classificatore, essendo agevolati dalla situazione binaria in cui ci troviamo è possibile visualizzare la **confusion matrix** che fornisce la quantità di osservazioni classificate correttamente e la tipologia di errori commessi, in genere si preferiscono valori alti sulla diagonale principale e viceversa valori bassi sulla diagonale secondaria. Infatti, essendo rappresentate sull'asse delle ascisse i valori **predetti** e su quella delle ordinate i valori **reali** le osservazioni per cui i due valori coincidono (diagonale principale) saranno quelle classificate correttamente."
   ]
  },
  {
   "cell_type": "code",
   "execution_count": 35,
   "id": "a2536ab4",
   "metadata": {},
   "outputs": [
    {
     "data": {
      "text/plain": [
       "<sklearn.metrics._plot.confusion_matrix.ConfusionMatrixDisplay at 0x7fec2d317760>"
      ]
     },
     "execution_count": 35,
     "metadata": {},
     "output_type": "execute_result"
    },
    {
     "data": {
      "image/png": "[encoded data removed]",
      "text/plain": [
       "<Figure size 432x288 with 2 Axes>"
      ]
     },
     "metadata": {
      "needs_background": "light"
     },
     "output_type": "display_data"
    }
   ],
   "source": [
    "from sklearn.metrics import ConfusionMatrixDisplay\n",
    "ConfusionMatrixDisplay.from_predictions(test_set['class'], y_test_pred)"
   ]
  },
  {
   "cell_type": "markdown",
   "id": "929913ea",
   "metadata": {},
   "source": [
    "## 5. Stima del K migliore"
   ]
  },
  {
   "cell_type": "markdown",
   "id": "79a11d10",
   "metadata": {},
   "source": [
    "Come detto prima, k è un iperparametro che va ottimizzato sulla base di un **validation set**, infatti al fine di ottenere il massimo rendimento dal classificatore, k va scelto con criterio. Per effettuare il **\"tuning\"** di k, verra usata ancora sklearn, in particolare tramite il metodo **GridSearchCV** verranno testati vari k (***da 1 a 20***): il k che otterrà f1score migliore verrà scelto come iperaparametro."
   ]
  },
  {
   "cell_type": "code",
   "execution_count": 36,
   "id": "8d62bd1b",
   "metadata": {},
   "outputs": [],
   "source": [
    "from sklearn.model_selection import GridSearchCV\n",
    "from sklearn.metrics import f1_score, make_scorer\n",
    "\n",
    "knn = KNeighborsClassifier()\n",
    "\n",
    "#definiamo che i k da testare vanno da 1 a 20\n",
    "param_grid = {'n_neighbors': np.arange(1, 20)}\n",
    "\n",
    "#specifichiamo che vogliamo utilizzare l'f1score come misura di confronto\n",
    "f1 = make_scorer(f1_score , average='macro')\n",
    "gs = GridSearchCV(knn, param_grid, cv=5,  scoring=f1)\n",
    "gs.fit(x_train,train_set['class'])\n",
    "bestK= gs.best_params_['n_neighbors']"
   ]
  },
  {
   "cell_type": "markdown",
   "id": "2f4966f1",
   "metadata": {},
   "source": [
    "Cerchiamo adesso un **riscontro grafico** che ci permetta di osservare l'andamento dell'algoritmo al variare di k."
   ]
  },
  {
   "cell_type": "code",
   "execution_count": 37,
   "id": "845afddc",
   "metadata": {},
   "outputs": [
    {
     "data": {
      "image/png": "[encoded data removed]",
      "text/plain": [
       "<Figure size 1152x360 with 1 Axes>"
      ]
     },
     "metadata": {
      "needs_background": "light"
     },
     "output_type": "display_data"
    }
   ],
   "source": [
    "import matplotlib.pyplot as plt \n",
    "asseY = gs.cv_results_['mean_test_score']\n",
    "asseX = list(range(1,20))\n",
    "plt.figure(figsize = (16,5))\n",
    "plt.plot(asseY)\n",
    "plt.xticks(np.arange(len(asseY)), np.arange(1, len(asseY)+1)) #tick asse X\n",
    "\n",
    "plt.title(\"best K \")\n",
    "plt.xlabel(\"K\")\n",
    "plt.ylabel(\"mean_test_score\")\n",
    "max_value = max(asseY) \n",
    "max_index =np.where(asseY == max_value) #cerco dove il valore è max per stampare poi la linea rossa\n",
    "plt.axvline(max_index, color = \"r\")\n",
    "plt.show()"
   ]
  },
  {
   "cell_type": "markdown",
   "id": "b242791b",
   "metadata": {},
   "source": [
    "Possiamo adesso visualizzare l'output ottenuto dal tuning, ovvero il k migliore:"
   ]
  },
  {
   "cell_type": "code",
   "execution_count": 38,
   "id": "d814710d",
   "metadata": {},
   "outputs": [
    {
     "name": "stdout",
     "output_type": "stream",
     "text": [
      "k migliore: 11\n"
     ]
    }
   ],
   "source": [
    "print(\"k migliore:\", bestK)"
   ]
  },
  {
   "cell_type": "markdown",
   "id": "e5dcf16d",
   "metadata": {},
   "source": [
    "Dopo aver stimato il parametro k ideale rieffettuiamo la classificazione e calcoliamo l'f1score e la matrice di confusione nuovamente:"
   ]
  },
  {
   "cell_type": "code",
   "execution_count": 39,
   "id": "3a676a91",
   "metadata": {},
   "outputs": [
    {
     "name": "stdout",
     "output_type": "stream",
     "text": [
      "F1-score k = 11 : 0.7391304347826086\n"
     ]
    }
   ],
   "source": [
    "knn = KNeighborsClassifier(n_neighbors=3)\n",
    "knn.fit(x_train, train_set['class'])\n",
    "x_test = count_vect.transform(test_set['text'])\n",
    "y_test_pred2 = knn.predict(x_test)\n",
    "f1_scores = f1_score(test_set['class'], y_test_pred2, average=None, labels=['programming'])[0]\n",
    "print(\"F1-score k =\",bestK,\":\", f1_scores)"
   ]
  },
  {
   "cell_type": "markdown",
   "id": "d73c2757",
   "metadata": {},
   "source": [
    "Matrice di confusione con k ottimale:"
   ]
  },
  {
   "cell_type": "code",
   "execution_count": 40,
   "id": "7e192ed6",
   "metadata": {},
   "outputs": [
    {
     "data": {
      "text/plain": [
       "<sklearn.metrics._plot.confusion_matrix.ConfusionMatrixDisplay at 0x7fec2d023a30>"
      ]
     },
     "execution_count": 40,
     "metadata": {},
     "output_type": "execute_result"
    },
    {
     "data": {
      "image/png": "[encoded data removed]",
      "text/plain": [
       "<Figure size 432x288 with 2 Axes>"
      ]
     },
     "metadata": {
      "needs_background": "light"
     },
     "output_type": "display_data"
    }
   ],
   "source": [
    "from sklearn.metrics import ConfusionMatrixDisplay\n",
    "ConfusionMatrixDisplay.from_predictions(test_set['class'], y_test_pred)"
   ]
  },
  {
   "cell_type": "markdown",
   "id": "5d517bbf",
   "metadata": {},
   "source": [
    "## 6. Ottimizzazione tramite rappresentazione TF-IDF"
   ]
  },
  {
   "cell_type": "markdown",
   "id": "56d49f9a",
   "metadata": {},
   "source": [
    "Si cerca adesso ad ottimizzare la rappresentazione dei dati a disposizione allo scopo di migliorare le performance del classificatore.\n",
    "L'obiettivo è quello di fornire a parole meno frequenti (e quindi più significative) un peso maggiore e viceversa a parole più frequenti (meno significative) un peso minore. Questa tipologia di rappresentazione prende il nome di **TF-IDF** e permette di ottenere una classificazione più accurata e meno sensibile agli **outliers**.\n",
    "Per realizzare quanto detto prima, verrà istanziato un nuovo classificatore che sarà però addestrato sui dati rappresentati tramite l'oggetto **TfidfTransformer** fornito da sklearn che calcola la rappresentazione **TF-IDF** dei post."
   ]
  },
  {
   "cell_type": "code",
   "execution_count": 41,
   "id": "737e546e",
   "metadata": {},
   "outputs": [],
   "source": [
    "from sklearn.feature_extraction.text import TfidfTransformer\n",
    "count_vect = CountVectorizer()\n",
    "tf_transformer = TfidfTransformer(use_idf=False)\n",
    "\n",
    "x_train_counts = count_vect.fit_transform(train_set['text'])\n",
    "x_train_tf_idf = tf_transformer.fit_transform(x_train_counts)\n",
    "\n",
    "x_test_counts = count_vect.transform(test_set['text'])\n",
    "x_test_tf_idf = tf_transformer.fit_transform(x_test_counts)"
   ]
  },
  {
   "cell_type": "markdown",
   "id": "38bcb71e",
   "metadata": {},
   "source": [
    "Dopo aver ottenuto la rappresentazione tf-idf dei dati, ricerchiamo il k migliore per poi applicare l'algoritmo kNN:"
   ]
  },
  {
   "cell_type": "code",
   "execution_count": 42,
   "id": "803c638d",
   "metadata": {},
   "outputs": [],
   "source": [
    "from sklearn.model_selection import GridSearchCV\n",
    "from sklearn.metrics import f1_score, make_scorer\n",
    "\n",
    "knn = KNeighborsClassifier()\n",
    "\n",
    "#definiamo che i k da testare vanno da 1 a 20\n",
    "param_grid = {'n_neighbors': np.arange(1, 20)}\n",
    "\n",
    "#specifichiamo che vogliamo utilizzare l'f1score come misura di confronto\n",
    "f1 = make_scorer(f1_score , average='macro')\n",
    "gs = GridSearchCV(knn, param_grid, cv=5,  scoring=f1)\n",
    "gs.fit(x_train_tf_idf,train_set['class'])\n",
    "bestK2= gs.best_params_['n_neighbors']\n"
   ]
  },
  {
   "cell_type": "code",
   "execution_count": 43,
   "id": "c7442d84",
   "metadata": {},
   "outputs": [
    {
     "name": "stdout",
     "output_type": "stream",
     "text": [
      "k migliore tf-idf: 18\n"
     ]
    }
   ],
   "source": [
    "print(\"k migliore tf-idf:\", bestK2)"
   ]
  },
  {
   "cell_type": "markdown",
   "id": "95c56619",
   "metadata": {},
   "source": [
    "Viene effettuata adesso il calcolo delle predizioni su tutto il test set:"
   ]
  },
  {
   "cell_type": "code",
   "execution_count": 44,
   "id": "8314925e",
   "metadata": {},
   "outputs": [
    {
     "data": {
      "text/plain": [
       "KNeighborsClassifier(n_neighbors=18)"
      ]
     },
     "execution_count": 44,
     "metadata": {},
     "output_type": "execute_result"
    }
   ],
   "source": [
    "classifier = KNeighborsClassifier(n_neighbors=bestK2)\n",
    "classifier.fit(x_train_tf_idf, train_set['class'])"
   ]
  },
  {
   "cell_type": "markdown",
   "id": "8efc29f1",
   "metadata": {},
   "source": [
    "calcoliamo l'**f1-score**:"
   ]
  },
  {
   "cell_type": "code",
   "execution_count": 45,
   "id": "345ce83f",
   "metadata": {},
   "outputs": [
    {
     "name": "stdout",
     "output_type": "stream",
     "text": [
      "f1-score tf-idf: 0.9136125654450262\n"
     ]
    }
   ],
   "source": [
    "y_test_preds = classifier.predict(x_test_tf_idf)\n",
    "f1_scores=f1_score(test_set['class'],y_test_preds, average=None, labels=['programming'])[0]\n",
    "print(\"f1-score tf-idf:\",f1_scores)"
   ]
  },
  {
   "cell_type": "markdown",
   "id": "2e7682bd",
   "metadata": {},
   "source": [
    "Anche in questo caso è possibile ottenere la matrice di confusione:"
   ]
  },
  {
   "cell_type": "code",
   "execution_count": 46,
   "id": "24cb396a",
   "metadata": {},
   "outputs": [
    {
     "data": {
      "text/plain": [
       "<sklearn.metrics._plot.confusion_matrix.ConfusionMatrixDisplay at 0x7fec2d32f430>"
      ]
     },
     "execution_count": 46,
     "metadata": {},
     "output_type": "execute_result"
    },
    {
     "data": {
      "image/png": "[encoded data removed]",
      "text/plain": [
       "<Figure size 432x288 with 2 Axes>"
      ]
     },
     "metadata": {
      "needs_background": "light"
     },
     "output_type": "display_data"
    }
   ],
   "source": [
    "from sklearn.metrics import ConfusionMatrixDisplay\n",
    "ConfusionMatrixDisplay.from_predictions(test_set['class'], y_test_preds)"
   ]
  },
  {
   "cell_type": "markdown",
   "id": "867498f2",
   "metadata": {},
   "source": [
    "## 7. Confronto tra i vari classificatori"
   ]
  },
  {
   "cell_type": "markdown",
   "id": "c2f25787",
   "metadata": {},
   "source": [
    "E' possibile adesso confrontare i tre risultati ottenuti visualizzando la **curva PR**, ovvero la curva che mette in realzione **precision** e **recall**. Prima di fare ciò è però necessario ai fini della rappresentazione, mappare i nomi delle classi, avremo dunque:\n",
    "* **non programming** = 0;\n",
    "* **programming** = 1;\n",
    "\n",
    "Di seguito il processo di mapping e il plot della curva PR:"
   ]
  },
  {
   "cell_type": "code",
   "execution_count": 47,
   "id": "8f06f042",
   "metadata": {
    "scrolled": true
   },
   "outputs": [
    {
     "data": {
      "image/png": "[encoded data removed]",
      "text/plain": [
       "<Figure size 720x432 with 1 Axes>"
      ]
     },
     "metadata": {
      "needs_background": "light"
     },
     "output_type": "display_data"
    }
   ],
   "source": [
    "#map delle etichette reali\n",
    "test_zero_one = test_set.copy()\n",
    "test_zero_one = test_zero_one.replace(to_replace=['non programming', 'programming'], value=[0, 1])\n",
    "\n",
    "#map delle varie predizioni\n",
    "y_preds_zero_one_tf_idf = y_test_preds.copy()\n",
    "for i in range(y_preds_zero_one_tf_idf.size):\n",
    "    if(y_preds_zero_one_tf_idf[i] == 'programming'):\n",
    "        y_preds_zero_one_tf_idf[i] = 1\n",
    "    else:\n",
    "        y_preds_zero_one_tf_idf[i] = 0\n",
    "\n",
    "        \n",
    "y_preds_zero_one_bestk = y_test_pred2.copy()\n",
    "for i in range(y_preds_zero_one_bestk.size):\n",
    "    if(y_preds_zero_one_bestk[i] == 'programming'):\n",
    "        y_preds_zero_one_bestk[i] = 1\n",
    "    else:\n",
    "        y_preds_zero_one_bestk[i] = 0\n",
    "        \n",
    "y_preds_zero_one_k1 = y_test_pred.copy()\n",
    "for i in range(y_preds_zero_one_k1.size):\n",
    "    if(y_preds_zero_one_k1[i] == 'programming'):\n",
    "        y_preds_zero_one_k1[i] = 1\n",
    "    else:\n",
    "        y_preds_zero_one_k1[i] = 0  \n",
    "        \n",
    "#generazione valori x,y della curva PR e plot\n",
    "from sklearn.metrics import precision_recall_curve\n",
    "from matplotlib.pyplot import figure\n",
    "figure(figsize=(10, 6))\n",
    "\n",
    "precision_k1, recall_k1, thresholds_k1 = precision_recall_curve(test_zero_one['class'], y_preds_zero_one_k1)\n",
    "plt.plot(recall_k1, precision_k1, color='blue', label='k = 1')\n",
    "\n",
    "precision_bestk, recall_bestk, thresholds_bestk = precision_recall_curve(test_zero_one['class'], y_preds_zero_one_bestk)\n",
    "plt.plot(recall_bestk, precision_bestk, color='red', label='best k')\n",
    "\n",
    "precision_tfidf, recall_tfidf, thresholds_tfidf = precision_recall_curve(test_zero_one['class'], y_preds_zero_one_tf_idf)\n",
    "plt.plot(recall_tfidf, precision_tfidf, color='purple', label='tf-idf')\n",
    "\n",
    "plt.title('Precision-Recall Curve')\n",
    "plt.ylabel('Precision')\n",
    "plt.xlabel('Recall')\n",
    "\n",
    "#display plot\n",
    "plt.legend()\n",
    "plt.show()"
   ]
  },
  {
   "cell_type": "markdown",
   "id": "89d88776",
   "metadata": {},
   "source": [
    "E' possibile adesso calcolare l'**area under the curver**, ovvero una metrica che calcolando l'area sottesa alla curva PR permette di stimare la bontà del classificatore. L'AUC è un valore compreso tra 0 e 1, idealmente vorremmo che il nostro classificatore abbia **AUC = 1**."
   ]
  },
  {
   "cell_type": "code",
   "execution_count": 48,
   "id": "ddbed417",
   "metadata": {},
   "outputs": [
    {
     "name": "stdout",
     "output_type": "stream",
     "text": [
      "AUC k=1: 0.748\n",
      "AUC best k: 0.764\n",
      "AUC tf-idf: 0.897\n"
     ]
    }
   ],
   "source": [
    "from sklearn.metrics import roc_auc_score\n",
    "auc_k1 = roc_auc_score(test_zero_one['class'],y_preds_zero_one_k1)\n",
    "auc_bestk = roc_auc_score(test_zero_one['class'],y_preds_zero_one_bestk)\n",
    "auc_tfidf = roc_auc_score(test_zero_one['class'],y_preds_zero_one_tf_idf)\n",
    "\n",
    "print('AUC k=1: %.3f' % auc_k1)\n",
    "print('AUC best k: %.3f' % auc_bestk)\n",
    "print('AUC tf-idf: %.3f' % auc_tfidf)"
   ]
  },
  {
   "cell_type": "markdown",
   "id": "3f1ea3c9",
   "metadata": {},
   "source": [
    "## 8. Sentiment analysis sui post che parlano di programmazione"
   ]
  },
  {
   "cell_type": "markdown",
   "id": "4d4d405e",
   "metadata": {},
   "source": [
    "Dopo aver classificato i post provenienti dai vari subreddit, verrà adesso analizzato il **sentiment** ovvero, lo stato d'animo dell'autore quando ha scritto quel determinato post. Alla fine verrà stimata una **media** dei sentiment per vedere se in generale, tramite Reddit gli utenti esprimono le loro problematiche o evidenziano i punti di forza di un linguaggio e lo consigliano.\n",
    "Per portare a termine questo compito verrà usato l'algoritmo **VADER**, ovvero un algoritmo per la **sentiment analysis** slegato dal dominio delle osservazioni in input e che assegna ad ogni parola un punteggio, basato su statistiche ottenute dalla media di punteggi espressi da dei volontari durante la fase di creazione dell'algoritmo.\n",
    "Per effettuare l'analisi utilizzando VADER faremo uso della libreria **nltk**.\n",
    "\n",
    "Come prima cosa è necessario caricare il package di lexicon fornito da vader:"
   ]
  },
  {
   "cell_type": "code",
   "execution_count": 49,
   "id": "85f4c8cb",
   "metadata": {},
   "outputs": [
    {
     "name": "stderr",
     "output_type": "stream",
     "text": [
      "[nltk_data] Downloading package vader_lexicon to\n",
      "[nltk_data]     /home/rosario/nltk_data...\n",
      "[nltk_data]   Package vader_lexicon is already up-to-date!\n"
     ]
    },
    {
     "data": {
      "text/plain": [
       "True"
      ]
     },
     "execution_count": 49,
     "metadata": {},
     "output_type": "execute_result"
    }
   ],
   "source": [
    "import nltk\n",
    "nltk.download('vader_lexicon')"
   ]
  },
  {
   "cell_type": "markdown",
   "id": "2accd0f1",
   "metadata": {},
   "source": [
    "A questo punto sarà possibile creare l'oggetto **sid** che permetterà di effettuare il **calcolo del sentiment**."
   ]
  },
  {
   "cell_type": "code",
   "execution_count": 50,
   "id": "736f4efc",
   "metadata": {},
   "outputs": [],
   "source": [
    "from nltk.sentiment.vader import SentimentIntensityAnalyzer\n",
    "sid = SentimentIntensityAnalyzer()"
   ]
  },
  {
   "cell_type": "markdown",
   "id": "cd0d5cea",
   "metadata": {},
   "source": [
    "Prima di procedere bisogna creare  un dataframe che contiene solamente i post che sono stati classificati come \"programming\" nel test set avendo a disposizione il test set e gli indici ottenuti dal classificatore, questa operazione di filtraggio renderà più semplice l'analisi e la visualizzazione dei dati. \n",
    "\n",
    "Come prima cosa conserviamo solo gli indici dei post classificati come \"non programming\" in modo da rimuoverli successivamente dal test set su cui applicare VADER:"
   ]
  },
  {
   "cell_type": "code",
   "execution_count": 51,
   "id": "93ce6238",
   "metadata": {},
   "outputs": [],
   "source": [
    "output = [idx for idx, element in enumerate(y_test_preds) if len(element) == 'non programming']"
   ]
  },
  {
   "cell_type": "markdown",
   "id": "33bb9fcf",
   "metadata": {},
   "source": [
    "A questo punto, possono essere rimossi da **dfProg** tutti i record la cui predizione è diversa da 'programming':"
   ]
  },
  {
   "cell_type": "code",
   "execution_count": 52,
   "id": "6b112c6b",
   "metadata": {},
   "outputs": [
    {
     "data": {
      "text/html": [
       "<div>\n",
       "<style scoped>\n",
       "    .dataframe tbody tr th:only-of-type {\n",
       "        vertical-align: middle;\n",
       "    }\n",
       "\n",
       "    .dataframe tbody tr th {\n",
       "        vertical-align: top;\n",
       "    }\n",
       "\n",
       "    .dataframe thead th {\n",
       "        text-align: right;\n",
       "    }\n",
       "</style>\n",
       "<table border=\"1\" class=\"dataframe\">\n",
       "  <thead>\n",
       "    <tr style=\"text-align: right;\">\n",
       "      <th></th>\n",
       "      <th>title</th>\n",
       "      <th>text</th>\n",
       "      <th>class</th>\n",
       "    </tr>\n",
       "  </thead>\n",
       "  <tbody>\n",
       "    <tr>\n",
       "      <th>4990</th>\n",
       "      <td>What is an Annex?</td>\n",
       "      <td>What is an Annex In Ada's context? I can't fin...</td>\n",
       "      <td>programming</td>\n",
       "    </tr>\n",
       "    <tr>\n",
       "      <th>382</th>\n",
       "      <td>The Surprising Case Of Mutable Default A</td>\n",
       "      <td>I Wrote an article on The amazing behaviour of...</td>\n",
       "      <td>programming</td>\n",
       "    </tr>\n",
       "    <tr>\n",
       "      <th>512</th>\n",
       "      <td>Making my smart memory pool much smarter</td>\n",
       "      <td>Hi guys,\\n\\nNearly a year ago I posted here on...</td>\n",
       "      <td>programming</td>\n",
       "    </tr>\n",
       "    <tr>\n",
       "      <th>268</th>\n",
       "      <td>I made this CLI tool to automate my dail</td>\n",
       "      <td>Hey r/Python, I been developing this project f...</td>\n",
       "      <td>programming</td>\n",
       "    </tr>\n",
       "    <tr>\n",
       "      <th>2272</th>\n",
       "      <td>[Discussion] I feel like I just need to</td>\n",
       "      <td>Then maybe to C modes.  Then move to the scale...</td>\n",
       "      <td>non programming</td>\n",
       "    </tr>\n",
       "    <tr>\n",
       "      <th>...</th>\n",
       "      <td>...</td>\n",
       "      <td>...</td>\n",
       "      <td>...</td>\n",
       "    </tr>\n",
       "    <tr>\n",
       "      <th>93</th>\n",
       "      <td>Entropy-based strategy to solving Wordle</td>\n",
       "      <td>Inspired by a [recent video of 3blue1brown](ht...</td>\n",
       "      <td>programming</td>\n",
       "    </tr>\n",
       "    <tr>\n",
       "      <th>1675</th>\n",
       "      <td>Beers to accompany</td>\n",
       "      <td>So what would your go to be? I've only ever dr...</td>\n",
       "      <td>non programming</td>\n",
       "    </tr>\n",
       "    <tr>\n",
       "      <th>1469</th>\n",
       "      <td>ISO: Raw fish dealer in Indianapolis</td>\n",
       "      <td>Hi all, just moved to Indianapolis from Califo...</td>\n",
       "      <td>non programming</td>\n",
       "    </tr>\n",
       "    <tr>\n",
       "      <th>1181</th>\n",
       "      <td>C++ profiler for idle time and cpu time</td>\n",
       "      <td>Hi\\nI have used gprof to profile the C++ appli...</td>\n",
       "      <td>programming</td>\n",
       "    </tr>\n",
       "    <tr>\n",
       "      <th>4847</th>\n",
       "      <td>HAC v.0.074</td>\n",
       "      <td>The latest additions are around the types **Ti...</td>\n",
       "      <td>programming</td>\n",
       "    </tr>\n",
       "  </tbody>\n",
       "</table>\n",
       "<p>670 rows × 3 columns</p>\n",
       "</div>"
      ],
      "text/plain": [
       "                                         title  \\\n",
       "4990                         What is an Annex?   \n",
       "382   The Surprising Case Of Mutable Default A   \n",
       "512   Making my smart memory pool much smarter   \n",
       "268   I made this CLI tool to automate my dail   \n",
       "2272  [Discussion] I feel like I just need to    \n",
       "...                                        ...   \n",
       "93    Entropy-based strategy to solving Wordle   \n",
       "1675                        Beers to accompany   \n",
       "1469      ISO: Raw fish dealer in Indianapolis   \n",
       "1181  C++ profiler for idle time and cpu time    \n",
       "4847                               HAC v.0.074   \n",
       "\n",
       "                                                   text            class  \n",
       "4990  What is an Annex In Ada's context? I can't fin...      programming  \n",
       "382   I Wrote an article on The amazing behaviour of...      programming  \n",
       "512   Hi guys,\\n\\nNearly a year ago I posted here on...      programming  \n",
       "268   Hey r/Python, I been developing this project f...      programming  \n",
       "2272  Then maybe to C modes.  Then move to the scale...  non programming  \n",
       "...                                                 ...              ...  \n",
       "93    Inspired by a [recent video of 3blue1brown](ht...      programming  \n",
       "1675  So what would your go to be? I've only ever dr...  non programming  \n",
       "1469  Hi all, just moved to Indianapolis from Califo...  non programming  \n",
       "1181  Hi\\nI have used gprof to profile the C++ appli...      programming  \n",
       "4847  The latest additions are around the types **Ti...      programming  \n",
       "\n",
       "[670 rows x 3 columns]"
      ]
     },
     "execution_count": 52,
     "metadata": {},
     "output_type": "execute_result"
    }
   ],
   "source": [
    "dfProg = test_set.copy()\n",
    "dfProg = dfProg.drop(labels=output, axis=0)\n",
    "dfProg"
   ]
  },
  {
   "cell_type": "markdown",
   "id": "7bc1aad7",
   "metadata": {},
   "source": [
    "Ovviamente saranno presenti anche record 'non programming' in corrispondenza degli errori effettuati dal classificatore."
   ]
  },
  {
   "cell_type": "markdown",
   "id": "58ab3724",
   "metadata": {},
   "source": [
    "Verrà affiancata al dataframe una nuova colonna che prenderà il nome di **'score'** ottenuta dal lexicon score di vader, in questo modo sarà possibile osservare il post e il rispettivo punteggio.\n",
    "Calcoliamo per ogni riga del dataframe già filtrato il **compound** del testo associato: VADER ritorna diversi valori in output che rappresentano la percentuale di positività, neutralità e negatività del testo analizzato, il compound non è altro che la media di essi, ovvero il lexicon score effettivo."
   ]
  },
  {
   "cell_type": "code",
   "execution_count": 53,
   "id": "b7df5583",
   "metadata": {},
   "outputs": [],
   "source": [
    "rows, cols = dfProg.shape\n",
    "score = []\n",
    "for i in range(rows):\n",
    "    score.append(sid.polarity_scores(dfProg.iloc[i]['text'])['compound'])"
   ]
  },
  {
   "cell_type": "code",
   "execution_count": 54,
   "id": "0416c5d1",
   "metadata": {},
   "outputs": [
    {
     "data": {
      "text/html": [
       "<div>\n",
       "<style scoped>\n",
       "    .dataframe tbody tr th:only-of-type {\n",
       "        vertical-align: middle;\n",
       "    }\n",
       "\n",
       "    .dataframe tbody tr th {\n",
       "        vertical-align: top;\n",
       "    }\n",
       "\n",
       "    .dataframe thead th {\n",
       "        text-align: right;\n",
       "    }\n",
       "</style>\n",
       "<table border=\"1\" class=\"dataframe\">\n",
       "  <thead>\n",
       "    <tr style=\"text-align: right;\">\n",
       "      <th></th>\n",
       "      <th>title</th>\n",
       "      <th>text</th>\n",
       "      <th>class</th>\n",
       "      <th>score</th>\n",
       "    </tr>\n",
       "  </thead>\n",
       "  <tbody>\n",
       "    <tr>\n",
       "      <th>4990</th>\n",
       "      <td>What is an Annex?</td>\n",
       "      <td>What is an Annex In Ada's context? I can't fin...</td>\n",
       "      <td>programming</td>\n",
       "      <td>0.0000</td>\n",
       "    </tr>\n",
       "    <tr>\n",
       "      <th>382</th>\n",
       "      <td>The Surprising Case Of Mutable Default A</td>\n",
       "      <td>I Wrote an article on The amazing behaviour of...</td>\n",
       "      <td>programming</td>\n",
       "      <td>0.2732</td>\n",
       "    </tr>\n",
       "    <tr>\n",
       "      <th>512</th>\n",
       "      <td>Making my smart memory pool much smarter</td>\n",
       "      <td>Hi guys,\\n\\nNearly a year ago I posted here on...</td>\n",
       "      <td>programming</td>\n",
       "      <td>0.9970</td>\n",
       "    </tr>\n",
       "    <tr>\n",
       "      <th>268</th>\n",
       "      <td>I made this CLI tool to automate my dail</td>\n",
       "      <td>Hey r/Python, I been developing this project f...</td>\n",
       "      <td>programming</td>\n",
       "      <td>0.6542</td>\n",
       "    </tr>\n",
       "    <tr>\n",
       "      <th>2272</th>\n",
       "      <td>[Discussion] I feel like I just need to</td>\n",
       "      <td>Then maybe to C modes.  Then move to the scale...</td>\n",
       "      <td>non programming</td>\n",
       "      <td>0.0000</td>\n",
       "    </tr>\n",
       "    <tr>\n",
       "      <th>...</th>\n",
       "      <td>...</td>\n",
       "      <td>...</td>\n",
       "      <td>...</td>\n",
       "      <td>...</td>\n",
       "    </tr>\n",
       "    <tr>\n",
       "      <th>93</th>\n",
       "      <td>Entropy-based strategy to solving Wordle</td>\n",
       "      <td>Inspired by a [recent video of 3blue1brown](ht...</td>\n",
       "      <td>programming</td>\n",
       "      <td>0.9294</td>\n",
       "    </tr>\n",
       "    <tr>\n",
       "      <th>1675</th>\n",
       "      <td>Beers to accompany</td>\n",
       "      <td>So what would your go to be? I've only ever dr...</td>\n",
       "      <td>non programming</td>\n",
       "      <td>0.9461</td>\n",
       "    </tr>\n",
       "    <tr>\n",
       "      <th>1469</th>\n",
       "      <td>ISO: Raw fish dealer in Indianapolis</td>\n",
       "      <td>Hi all, just moved to Indianapolis from Califo...</td>\n",
       "      <td>non programming</td>\n",
       "      <td>0.8748</td>\n",
       "    </tr>\n",
       "    <tr>\n",
       "      <th>1181</th>\n",
       "      <td>C++ profiler for idle time and cpu time</td>\n",
       "      <td>Hi\\nI have used gprof to profile the C++ appli...</td>\n",
       "      <td>programming</td>\n",
       "      <td>0.8364</td>\n",
       "    </tr>\n",
       "    <tr>\n",
       "      <th>4847</th>\n",
       "      <td>HAC v.0.074</td>\n",
       "      <td>The latest additions are around the types **Ti...</td>\n",
       "      <td>programming</td>\n",
       "      <td>0.2942</td>\n",
       "    </tr>\n",
       "  </tbody>\n",
       "</table>\n",
       "<p>670 rows × 4 columns</p>\n",
       "</div>"
      ],
      "text/plain": [
       "                                         title  \\\n",
       "4990                         What is an Annex?   \n",
       "382   The Surprising Case Of Mutable Default A   \n",
       "512   Making my smart memory pool much smarter   \n",
       "268   I made this CLI tool to automate my dail   \n",
       "2272  [Discussion] I feel like I just need to    \n",
       "...                                        ...   \n",
       "93    Entropy-based strategy to solving Wordle   \n",
       "1675                        Beers to accompany   \n",
       "1469      ISO: Raw fish dealer in Indianapolis   \n",
       "1181  C++ profiler for idle time and cpu time    \n",
       "4847                               HAC v.0.074   \n",
       "\n",
       "                                                   text            class  \\\n",
       "4990  What is an Annex In Ada's context? I can't fin...      programming   \n",
       "382   I Wrote an article on The amazing behaviour of...      programming   \n",
       "512   Hi guys,\\n\\nNearly a year ago I posted here on...      programming   \n",
       "268   Hey r/Python, I been developing this project f...      programming   \n",
       "2272  Then maybe to C modes.  Then move to the scale...  non programming   \n",
       "...                                                 ...              ...   \n",
       "93    Inspired by a [recent video of 3blue1brown](ht...      programming   \n",
       "1675  So what would your go to be? I've only ever dr...  non programming   \n",
       "1469  Hi all, just moved to Indianapolis from Califo...  non programming   \n",
       "1181  Hi\\nI have used gprof to profile the C++ appli...      programming   \n",
       "4847  The latest additions are around the types **Ti...      programming   \n",
       "\n",
       "       score  \n",
       "4990  0.0000  \n",
       "382   0.2732  \n",
       "512   0.9970  \n",
       "268   0.6542  \n",
       "2272  0.0000  \n",
       "...      ...  \n",
       "93    0.9294  \n",
       "1675  0.9461  \n",
       "1469  0.8748  \n",
       "1181  0.8364  \n",
       "4847  0.2942  \n",
       "\n",
       "[670 rows x 4 columns]"
      ]
     },
     "execution_count": 54,
     "metadata": {},
     "output_type": "execute_result"
    }
   ],
   "source": [
    "dfProg = dfProg.assign(score = score)\n",
    "dfProg"
   ]
  },
  {
   "cell_type": "markdown",
   "id": "0bbe4231",
   "metadata": {},
   "source": [
    "Il compound è un valore compreso tra -1 e 1, dove 1 indica che il sentiment della frase è totalmente positivo mentre -1 che il sentiment è totalmente negativo."
   ]
  },
  {
   "cell_type": "markdown",
   "id": "10b357be",
   "metadata": {},
   "source": [
    "Come ultimo passaggio dell'analisi è possibile adesso calcolare la media dello score delle singole valutazioni per vedere in generale il sentiment rispetto a quello che sono i post nei subreddit di programmazione: la media sarà superiore allo zero in caso di esito positivo e inferiore nel caso contrario:"
   ]
  },
  {
   "cell_type": "code",
   "execution_count": 55,
   "id": "3a8dacb9",
   "metadata": {},
   "outputs": [
    {
     "name": "stdout",
     "output_type": "stream",
     "text": [
      "media sentiment post di programmazione: 0.46257567164179103\n"
     ]
    }
   ],
   "source": [
    "import statistics\n",
    "print(\"media sentiment post di programmazione:\", statistics.mean(score))"
   ]
  },
  {
   "cell_type": "markdown",
   "id": "7796e039",
   "metadata": {},
   "source": [
    "## 9. Conclusioni"
   ]
  },
  {
   "cell_type": "markdown",
   "id": "eaed00b0",
   "metadata": {},
   "source": [
    "Concludendo, quella ottenuta è una **pipeline** che dato un insieme di post provenienti da Reddit (comunque generalizzabile a qualsiasi fonte) permette di estrarre solo quelli che trattano di programmazione e di analizzarne il sentiment in modo da trarre delle conclusioni e stimare il pensiero degli utenti che fanno uso dei vari linguaggi. Sono state marcate le differenze tra le varie ottimizzazioni che è possibile applicare ad un algoritmo semplice come il kNN che si ricorda essere un algoritmo **lazy**, ovvero un algoritmo la cui fase di training si limita a memorizzare il training set e ad approssimare una pseudofunzione di classificazione solo nel momento in cui viene richiesto di classificare una nuova osservazione. \n",
    "Generalizzando, questa catena di processi è utilizzabile ogni qual volta data una quantità di dati generici, si vuole isolare una sola categoria di essi per capire se di quest'ultima si sta parlando positivamente o meno. Il processo è applicabile in molti contesti e quello dei post di un social network ne è l'esempio più generale."
   ]
  }
 ],
 "metadata": {
  "kernelspec": {
   "display_name": "Python 3 (ipykernel)",
   "language": "python",
   "name": "python3"
  },
  "language_info": {
   "codemirror_mode": {
    "name": "ipython",
    "version": 3
   },
   "file_extension": ".py",
   "mimetype": "text/x-python",
   "name": "python",
   "nbconvert_exporter": "python",
   "pygments_lexer": "ipython3",
   "version": "3.9.7"
  }
 },
 "nbformat": 4,
 "nbformat_minor": 5
}
